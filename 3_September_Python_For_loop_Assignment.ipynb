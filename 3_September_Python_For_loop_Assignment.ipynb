{
 "cells": [
  {
   "cell_type": "markdown",
   "id": "fd6c0464-30b8-4ee5-b288-623c2f4e9ffc",
   "metadata": {},
   "source": [
    "Basic"
   ]
  },
  {
   "cell_type": "markdown",
   "id": "a8c6df11-234b-4ba6-843d-6021e3b6763c",
   "metadata": {},
   "source": [
    "Program 1: Write a Python program to print the numbers from 1 to 10 using a `for` loop."
   ]
  },
  {
   "cell_type": "code",
   "execution_count": 1,
   "id": "a485482c-e3fb-44f1-b9df-55a7974439e3",
   "metadata": {},
   "outputs": [
    {
     "name": "stdout",
     "output_type": "stream",
     "text": [
      "1\n",
      "2\n",
      "3\n",
      "4\n",
      "5\n",
      "6\n",
      "7\n",
      "8\n",
      "9\n",
      "10\n"
     ]
    }
   ],
   "source": [
    "#program to print 1 to 10\n",
    "for i in range(1,11):\n",
    "    print(i)"
   ]
  },
  {
   "cell_type": "markdown",
   "id": "82128552-0599-4551-9269-17930460baf2",
   "metadata": {},
   "source": [
    "Program 2: Create a program that calculates the sum of all numbers in a list using a `for` loop."
   ]
  },
  {
   "cell_type": "code",
   "execution_count": 2,
   "id": "a6849349-e72c-456c-8afd-7c1b775d4c05",
   "metadata": {},
   "outputs": [
    {
     "name": "stdout",
     "output_type": "stream",
     "text": [
      "55\n"
     ]
    }
   ],
   "source": [
    "list_a = [1,2,3,4,5,6,7,8,9,10]\n",
    "sum1 =0;\n",
    "for i in list_a:\n",
    "    sum1 = sum1+i # sum of all elements of list\n",
    "print(sum1)"
   ]
  },
  {
   "cell_type": "markdown",
   "id": "1183c87c-09ea-4b6e-9809-abc15105af50",
   "metadata": {},
   "source": [
    "Program 3: Write a program to print the characters of a string in reverse order using a `for` loop."
   ]
  },
  {
   "cell_type": "code",
   "execution_count": 3,
   "id": "c3cd3de2-4abd-4d68-acf6-5b7521b4c288",
   "metadata": {},
   "outputs": [
    {
     "name": "stdout",
     "output_type": "stream",
     "text": [
      "Original String: pwskills\n",
      "Revrrse String: sllikswp\n"
     ]
    }
   ],
   "source": [
    "str1 = \"pwskills\"\n",
    "str2 = \"\"\n",
    "for i in range(len(str1)-1,-1,-1):\n",
    "    str2 = str2+str1[i] # reverse the string\n",
    "print(\"Original String:\",str1)\n",
    "print(\"Revrrse String:\",str2)"
   ]
  },
  {
   "cell_type": "markdown",
   "id": "a572a3d6-8bba-4562-9f57-8950c470b267",
   "metadata": {},
   "source": [
    "Program 4: Develop a program that finds the factorial of a given number using a `for` loop."
   ]
  },
  {
   "cell_type": "code",
   "execution_count": 4,
   "id": "5dd514f5-3021-4cac-937d-abf164683ed2",
   "metadata": {},
   "outputs": [
    {
     "name": "stdin",
     "output_type": "stream",
     "text": [
      "Enter a number to find a factorial 5\n"
     ]
    },
    {
     "name": "stdout",
     "output_type": "stream",
     "text": [
      "Factorial of 5 : 120\n"
     ]
    }
   ],
   "source": [
    "number = int(input(\"Enter a number to find a factorial\"))\n",
    "factorial = 1\n",
    "for i in range(1,number+1):\n",
    "    factorial = factorial*i \n",
    "print(f\"Factorial of {number} : {factorial}\")"
   ]
  },
  {
   "cell_type": "markdown",
   "id": "48973842-d0e9-49bc-bbfb-e2ae226e6fb4",
   "metadata": {},
   "source": [
    "Program 5 : Create a program to print the multiplication table of a given number using a `for` loop."
   ]
  },
  {
   "cell_type": "code",
   "execution_count": 5,
   "id": "ee657826-082d-4c17-bf9f-534915bfff13",
   "metadata": {},
   "outputs": [
    {
     "name": "stdin",
     "output_type": "stream",
     "text": [
      "Enter a Number to print multiplication table 5\n"
     ]
    },
    {
     "name": "stdout",
     "output_type": "stream",
     "text": [
      "5\n",
      "10\n",
      "15\n",
      "20\n",
      "25\n",
      "30\n",
      "35\n",
      "40\n",
      "45\n",
      "50\n"
     ]
    }
   ],
   "source": [
    "number = int(input(\"Enter a Number to print multiplication table\"))\n",
    "for i in range(1,11):\n",
    "    print(number*i) # print multiplication table"
   ]
  },
  {
   "cell_type": "markdown",
   "id": "0e3e07e1-2f1e-400d-ae78-a9a6f2bf663f",
   "metadata": {},
   "source": [
    "Program 6: Write a program that counts the number of even and odd numbers in a list using a `for` loop."
   ]
  },
  {
   "cell_type": "code",
   "execution_count": 6,
   "id": "7f6b6590-be8a-4c38-ba87-d5ca8b903640",
   "metadata": {},
   "outputs": [
    {
     "name": "stdout",
     "output_type": "stream",
     "text": [
      "Even Number in List: 7\n",
      "Odd Number in List: 8\n"
     ]
    }
   ],
   "source": [
    "list_a = [1,2,3,4,5,6,7,8,9,10,11,12,13,14,15]\n",
    "even_count =0\n",
    "odd_count = 0\n",
    "for item in list_a:\n",
    "    if(item%2==0):\n",
    "        even_count = even_count+1\n",
    "    else:\n",
    "        odd_count = odd_count+1\n",
    "print(\"Even Number in List:\",even_count)\n",
    "print(\"Odd Number in List:\",odd_count)"
   ]
  },
  {
   "cell_type": "markdown",
   "id": "3102165a-f224-43a6-b2d1-06a01ac77c3c",
   "metadata": {},
   "source": [
    "Program 7: Develop a program that prints the squares of numbers from 1 to 5 using a `for` loop."
   ]
  },
  {
   "cell_type": "code",
   "execution_count": 7,
   "id": "19d1c209-f12f-4e1f-a155-192ba802416f",
   "metadata": {},
   "outputs": [
    {
     "name": "stdout",
     "output_type": "stream",
     "text": [
      "1\n",
      "4\n",
      "9\n",
      "16\n",
      "25\n"
     ]
    }
   ],
   "source": [
    "for i in range(1,5+1):\n",
    "    print(i**2) # print square of a number"
   ]
  },
  {
   "cell_type": "markdown",
   "id": "21fa2890-4720-4ebe-8fb9-1c52299011fd",
   "metadata": {},
   "source": [
    "Program 8: Create a program to find the length of a string without using the `len()` function."
   ]
  },
  {
   "cell_type": "code",
   "execution_count": 8,
   "id": "6c66f527-9552-4ae2-92f5-e627a148cd87",
   "metadata": {},
   "outputs": [
    {
     "name": "stdout",
     "output_type": "stream",
     "text": [
      "Length of pwskills:8\n"
     ]
    }
   ],
   "source": [
    "str1 = \"pwskills\"\n",
    "length_of_Str1 = 0\n",
    "for i in str1:\n",
    "    length_of_Str1 +=1\n",
    "print(f\"Length of {str1}:{length_of_Str1}\")"
   ]
  },
  {
   "cell_type": "markdown",
   "id": "5661f9f1-7e71-4164-9740-c5ee52ef053d",
   "metadata": {},
   "source": [
    "Program 9: Write a program that calculates the average of a list of numbers using a `for` loop."
   ]
  },
  {
   "cell_type": "code",
   "execution_count": 9,
   "id": "a4599752-406f-4994-ab18-4058e9acfeb4",
   "metadata": {},
   "outputs": [
    {
     "name": "stdout",
     "output_type": "stream",
     "text": [
      "Average Of List [1, 2, 3, 4, 5, 6, 7, 8, 9, 10]: 5.5\n"
     ]
    }
   ],
   "source": [
    "list_a = [1,2,3,4,5,6,7,8,9,10]\n",
    "average = 0\n",
    "sum_list = 0\n",
    "for i in list_a:\n",
    "    sum_list = sum_list+i\n",
    "average = sum_list/len(list_a)\n",
    "print(f\"Average Of List {list_a}: {average}\")"
   ]
  },
  {
   "cell_type": "markdown",
   "id": "9f59d5a2-de10-437c-a7d0-0f8d0ab43c19",
   "metadata": {},
   "source": [
    "Program 10: Develop a program that prints the first `n` Fibonacci numbers using a `for` loop."
   ]
  },
  {
   "cell_type": "code",
   "execution_count": 10,
   "id": "16e5fb6c-fa15-44cf-b7f6-1a8c91f97509",
   "metadata": {},
   "outputs": [
    {
     "name": "stdin",
     "output_type": "stream",
     "text": [
      "Enter a Number ot Print Fabonacci Numbers 5\n"
     ]
    },
    {
     "name": "stdout",
     "output_type": "stream",
     "text": [
      "0\n",
      "1\n",
      "1\n",
      "2\n",
      "3\n",
      "5\n"
     ]
    }
   ],
   "source": [
    "def PrintFibonacci(n):\n",
    "    if n==1:\n",
    "        print(0)\n",
    "    elif n==2:\n",
    "        print(0)\n",
    "        print(1)\n",
    "    else:\n",
    "        fib1 = 0\n",
    "        fib2 = 1\n",
    "        print(0)\n",
    "        print(1)\n",
    "    for item in range(2,n+1):\n",
    "        fib3 = fib1+fib2\n",
    "        print(fib3)\n",
    "        fib1 = fib2\n",
    "        fib2 = fib3\n",
    "\n",
    "number = int(input(\"Enter a Number ot Print Fabonacci Numbers\"))\n",
    "PrintFibonacci(number)"
   ]
  },
  {
   "cell_type": "markdown",
   "id": "d7f7ccba-28f8-475d-b2ca-e23bd18baf09",
   "metadata": {},
   "source": [
    "Intermediate Level:"
   ]
  },
  {
   "cell_type": "markdown",
   "id": "523720e7-27f6-4f70-8d23-077e9064f6bd",
   "metadata": {},
   "source": [
    "Program 11: Write a program to check if a given list contains any duplicates using a `for` loop."
   ]
  },
  {
   "cell_type": "code",
   "execution_count": 11,
   "id": "8d770dfa-8d28-4f88-96d1-b7a51ca7d865",
   "metadata": {},
   "outputs": [
    {
     "name": "stdout",
     "output_type": "stream",
     "text": [
      "List: [1, 2, 3, 4, 5]\n",
      "The list does not contain duplicates.\n"
     ]
    }
   ],
   "source": [
    "def has_duplicates(lst):\n",
    "    seen = set()\n",
    "    for item in lst:\n",
    "        if item in seen:\n",
    "            return True\n",
    "        seen.add(item)\n",
    "    return False\n",
    "\n",
    "my_list = [1, 2, 3, 4, 5]\n",
    "print(\"List:\", my_list)\n",
    "if has_duplicates(my_list):\n",
    "    print(\"The list contains duplicates.\")\n",
    "else:\n",
    "    print(\"The list does not contain duplicates.\")"
   ]
  },
  {
   "cell_type": "markdown",
   "id": "db550678-f02f-4b5a-b9c6-911a818eeb3c",
   "metadata": {},
   "source": [
    "Program 12 : Create a program that prints the prime numbers in a given range using a `for` loop."
   ]
  },
  {
   "cell_type": "code",
   "execution_count": 12,
   "id": "19990ebb-0a17-4f83-8833-bc563dc8bc62",
   "metadata": {},
   "outputs": [
    {
     "name": "stdin",
     "output_type": "stream",
     "text": [
      "Enter the Lower range 5\n",
      "Enter the Upper range 6\n"
     ]
    },
    {
     "name": "stdout",
     "output_type": "stream",
     "text": [
      "5\n"
     ]
    }
   ],
   "source": [
    "lower_range = int(input(\"Enter the Lower range\"))\n",
    "upper_range = int(input(\"Enter the Upper range\"))\n",
    "for i in range(lower_range,upper_range+1):\n",
    "    for j in range(2,int(i ** 0.5) + 1):\n",
    "        if i%j==0:\n",
    "            break\n",
    "    else:\n",
    "        print(i)"
   ]
  },
  {
   "cell_type": "markdown",
   "id": "6745c9b6-f877-4c44-896b-48a9d76888f1",
   "metadata": {},
   "source": [
    "Program 13: Develop a program that counts the number of vowels in a string using a `for` loop."
   ]
  },
  {
   "cell_type": "code",
   "execution_count": 13,
   "id": "a5aeaa1e-e8ec-455c-ba8c-2058546270fa",
   "metadata": {},
   "outputs": [
    {
     "name": "stdin",
     "output_type": "stream",
     "text": [
      "Enter a String : sfdgsfgksdfgdslfsdfsuofwekb\n"
     ]
    },
    {
     "name": "stdout",
     "output_type": "stream",
     "text": [
      "total Vowels in sfdgsfgksdfgdslfsdfsuofwekb : 3\n"
     ]
    }
   ],
   "source": [
    "list_of_vowels = \"aeiouAEIOU\"\n",
    "count = 0\n",
    "input_string = str(input(\"Enter a String :\"))\n",
    "for i in input_string:\n",
    "    for j in list_of_vowels:\n",
    "        if j==i:\n",
    "            count = count+1\n",
    "print(f\"total Vowels in {input_string} : {count}\")"
   ]
  },
  {
   "cell_type": "markdown",
   "id": "7d352b42-0343-47e8-a5a8-19a5bac1cb43",
   "metadata": {},
   "source": [
    "Program 14: Write a program to find the maximum element in a 2D list using a nested `for` loop."
   ]
  },
  {
   "cell_type": "code",
   "execution_count": 14,
   "id": "87a15f09-ba6b-45f8-af90-110bb96fcb51",
   "metadata": {},
   "outputs": [
    {
     "name": "stdout",
     "output_type": "stream",
     "text": [
      "Maximum Element in 2d List [[1, 2, 3], [4, 5, 6], [7, 8, 9]] : 9\n"
     ]
    }
   ],
   "source": [
    "two_2d_list = [[1,2,3],[4,5,6],[7,8,9]]\n",
    "max_element = 1\n",
    "for i in range(len(two_2d_list)):\n",
    "    for j in range(len(two_2d_list[i])):\n",
    "        if two_2d_list[i][j]>max_element:\n",
    "            max_element = two_2d_list[i][j]\n",
    "print(f\"Maximum Element in 2d List {two_2d_list} : {max_element}\")"
   ]
  },
  {
   "cell_type": "markdown",
   "id": "bd994467-f4b9-4bcc-8cec-b0bd193f4cda",
   "metadata": {},
   "source": [
    "Program 15: Create a program that removes all occurrences of a specific element from a list using a `for` loop."
   ]
  },
  {
   "cell_type": "code",
   "execution_count": 15,
   "id": "2c77306c-9c0d-4d09-950d-6d6855057474",
   "metadata": {},
   "outputs": [
    {
     "name": "stdin",
     "output_type": "stream",
     "text": [
      "Enter a Specific Element which you want to remove all occurrences 11\n"
     ]
    },
    {
     "name": "stdout",
     "output_type": "stream",
     "text": [
      "Original List:  [1, 2, 3, 4, 5, 6, 7, 8, 9, 10, 1, 11, 1, 12]\n",
      "List After Removing Specific element all occurrences:  [1, 2, 3, 4, 5, 6, 7, 8, 9, 10, 1, 1, 12]\n"
     ]
    }
   ],
   "source": [
    "mylist = [1,2,3,4,5,6,7,8,9,10,1,11,1,12]\n",
    "element = int(input(\"Enter a Specific Element which you want to remove all occurrences\"))\n",
    "print(\"Original List: \",mylist)\n",
    "for item in mylist:\n",
    "    if item == element:\n",
    "        mylist.remove(item)\n",
    "print(\"List After Removing Specific element all occurrences: \",mylist)"
   ]
  },
  {
   "cell_type": "markdown",
   "id": "0906e07a-4aca-4087-b720-724da4f50f09",
   "metadata": {},
   "source": [
    "Program 16: Develop a program that generates a multiplication table for numbers from 1 to 5 using a nested `for` loop."
   ]
  },
  {
   "cell_type": "code",
   "execution_count": 16,
   "id": "24aa3bac-8f0b-4443-9741-9867d8addfd1",
   "metadata": {},
   "outputs": [
    {
     "name": "stdout",
     "output_type": "stream",
     "text": [
      "Multiplication Table for 1:\n",
      "1 * 1 = 1\n",
      "1 * 2 = 2\n",
      "1 * 3 = 3\n",
      "1 * 4 = 4\n",
      "1 * 5 = 5\n",
      "1 * 6 = 6\n",
      "1 * 7 = 7\n",
      "1 * 8 = 8\n",
      "1 * 9 = 9\n",
      "1 * 10 = 10\n",
      "\n",
      "Multiplication Table for 2:\n",
      "2 * 1 = 2\n",
      "2 * 2 = 4\n",
      "2 * 3 = 6\n",
      "2 * 4 = 8\n",
      "2 * 5 = 10\n",
      "2 * 6 = 12\n",
      "2 * 7 = 14\n",
      "2 * 8 = 16\n",
      "2 * 9 = 18\n",
      "2 * 10 = 20\n",
      "\n",
      "Multiplication Table for 3:\n",
      "3 * 1 = 3\n",
      "3 * 2 = 6\n",
      "3 * 3 = 9\n",
      "3 * 4 = 12\n",
      "3 * 5 = 15\n",
      "3 * 6 = 18\n",
      "3 * 7 = 21\n",
      "3 * 8 = 24\n",
      "3 * 9 = 27\n",
      "3 * 10 = 30\n",
      "\n",
      "Multiplication Table for 4:\n",
      "4 * 1 = 4\n",
      "4 * 2 = 8\n",
      "4 * 3 = 12\n",
      "4 * 4 = 16\n",
      "4 * 5 = 20\n",
      "4 * 6 = 24\n",
      "4 * 7 = 28\n",
      "4 * 8 = 32\n",
      "4 * 9 = 36\n",
      "4 * 10 = 40\n",
      "\n",
      "Multiplication Table for 5:\n",
      "5 * 1 = 5\n",
      "5 * 2 = 10\n",
      "5 * 3 = 15\n",
      "5 * 4 = 20\n",
      "5 * 5 = 25\n",
      "5 * 6 = 30\n",
      "5 * 7 = 35\n",
      "5 * 8 = 40\n",
      "5 * 9 = 45\n",
      "5 * 10 = 50\n",
      "\n"
     ]
    }
   ],
   "source": [
    "# Function to generate multiplication table\n",
    "def multiplication_table():\n",
    "    for i in range(1, 6):  # Iterate through numbers 1 to 5\n",
    "        print(f\"Multiplication Table for {i}:\")\n",
    "        for j in range(1, 11):  # Multiply i by numbers 1 to 10\n",
    "            result = i * j\n",
    "            print(f\"{i} * {j} = {result}\")\n",
    "        print()  # Print an empty line after each table\n",
    "\n",
    "# Call the function to generate the multiplication table\n",
    "multiplication_table()"
   ]
  },
  {
   "cell_type": "markdown",
   "id": "f9f1a87c-4f7a-4176-ac04-13e1612ca05d",
   "metadata": {},
   "source": [
    "Program 17: Write a program that converts a list of Fahrenheit temperatures to Celsius using a `for` loop."
   ]
  },
  {
   "cell_type": "code",
   "execution_count": 17,
   "id": "b6f5e1fa-73e7-476b-8488-e9d190918b7e",
   "metadata": {},
   "outputs": [
    {
     "name": "stdout",
     "output_type": "stream",
     "text": [
      "Fahrenheit   Celsius\n",
      "32           0.00\n",
      "68           20.00\n",
      "86           30.00\n",
      "104          40.00\n",
      "122          50.00\n"
     ]
    }
   ],
   "source": [
    "# Function to convert Fahrenheit to Celsius\n",
    "def fahrenheit_to_celsius(fahrenheit):\n",
    "    return (fahrenheit - 32) * 5 / 9\n",
    "\n",
    "# List of Fahrenheit temperatures\n",
    "fahrenheit_temperatures = [32, 68, 86, 104, 122]\n",
    "\n",
    "# Convert each temperature from Fahrenheit to Celsius using a for loop\n",
    "celsius_temperatures = []\n",
    "for temp in fahrenheit_temperatures:\n",
    "    celsius_temp = fahrenheit_to_celsius(temp)\n",
    "    celsius_temperatures.append(celsius_temp)\n",
    "\n",
    "# Print the converted temperatures\n",
    "print(\"Fahrenheit   Celsius\")\n",
    "for i in range(len(fahrenheit_temperatures)):\n",
    "    print(f\"{fahrenheit_temperatures[i]:<12} {celsius_temperatures[i]:.2f}\")"
   ]
  },
  {
   "cell_type": "markdown",
   "id": "d1c56eb5-49ce-4f00-a999-14f75de85b5d",
   "metadata": {},
   "source": [
    "Program 18: Create a program to print the common elements from two lists using a `for` loop."
   ]
  },
  {
   "cell_type": "code",
   "execution_count": 18,
   "id": "df91ec76-86d9-4ba9-9415-524b7bdf57d5",
   "metadata": {},
   "outputs": [
    {
     "name": "stdout",
     "output_type": "stream",
     "text": [
      "Common ELement in both List :  [122]\n"
     ]
    }
   ],
   "source": [
    "first_list = [32, 68, 86, 104, 122]\n",
    "second_list = [33,45,122,89,101,105,122]\n",
    "common_Set = set()\n",
    "for item in first_list:\n",
    "    for item2 in second_list:\n",
    "        if item == item2:\n",
    "            common_Set.add(item) # commom element\n",
    "print(\"Common ELement in both List : \",list(common_Set))"
   ]
  },
  {
   "cell_type": "markdown",
   "id": "210971c1-6e5a-4c65-a9ab-37ad83f5aca2",
   "metadata": {},
   "source": [
    "Program 19: Develop a program that prints the pattern of right-angled triangles using a `for` loop. Use ‘*’ to draw the\n",
    "pattern"
   ]
  },
  {
   "cell_type": "code",
   "execution_count": 19,
   "id": "5519d663-8ae2-4bc4-a37b-9e85e3485df0",
   "metadata": {},
   "outputs": [
    {
     "name": "stdin",
     "output_type": "stream",
     "text": [
      "Enter Number of Rows to Print RIght Angle Triangle 5\n"
     ]
    },
    {
     "name": "stdout",
     "output_type": "stream",
     "text": [
      "* \n",
      "* * \n",
      "* * * \n",
      "* * * * \n",
      "* * * * * \n"
     ]
    }
   ],
   "source": [
    "# code to dram right angle pattern using *\n",
    "rows = int(input(\"Enter Number of Rows to Print RIght Angle Triangle\"))\n",
    "for item in range(1,rows+1):\n",
    "    for j in range(1,item+1): # Loop to print asterisks in each row\n",
    "        print(\"*\", end=\" \")\n",
    "    print(\"\") # Move to the next line after printing each row"
   ]
  },
  {
   "cell_type": "markdown",
   "id": "cc5b1d3f-03b9-456b-a5b3-75a53b3af560",
   "metadata": {},
   "source": [
    "Program 20 : Write a program to find the greatest common divisor (GCD) of two numbers using a `for` loop."
   ]
  },
  {
   "cell_type": "code",
   "execution_count": 20,
   "id": "1ee4e8b1-5581-41c7-8abf-d1fedb4f9e15",
   "metadata": {},
   "outputs": [
    {
     "name": "stdout",
     "output_type": "stream",
     "text": [
      "6\n"
     ]
    }
   ],
   "source": [
    "num1 = 18\n",
    "num2 = 48\n",
    "minimum_num = min(num1,num2)\n",
    "gcd =1\n",
    "for item in range(1,minimum_num):\n",
    "    if num1%item ==0 and num2%item == 0:\n",
    "        gcd = item\n",
    "print(gcd) # print CGD of two Number"
   ]
  },
  {
   "cell_type": "markdown",
   "id": "3bf6bb3f-4eae-40ef-b477-c9d5517f9134",
   "metadata": {},
   "source": [
    "Advanced Level:"
   ]
  },
  {
   "cell_type": "markdown",
   "id": "e75d4e53-219b-41c2-adef-5ccabf581922",
   "metadata": {},
   "source": [
    "Problem 21: Create a program that calculates the sum of the digits of numbers in a list using a list comprehension."
   ]
  },
  {
   "cell_type": "code",
   "execution_count": 21,
   "id": "cb585604-b928-426d-b47f-783b9b8f6373",
   "metadata": {},
   "outputs": [
    {
     "name": "stdout",
     "output_type": "stream",
     "text": [
      "55\n"
     ]
    }
   ],
   "source": [
    "list_c = [1,2,3,4,5,6,7,8,9,10]\n",
    "sum_of_list = sum(int(x) for x in list_c) # sum of all digit using list comprehension\n",
    "print(sum_of_list)"
   ]
  },
  {
   "cell_type": "markdown",
   "id": "49b571ea-c27c-4e48-87f7-098103ab443b",
   "metadata": {},
   "source": [
    "Problem 22: Write a program to find the prime factors of a given number using a `for` loop and list comprehension."
   ]
  },
  {
   "cell_type": "code",
   "execution_count": 22,
   "id": "64dae36d-0ea2-4117-a51b-781588a8d728",
   "metadata": {},
   "outputs": [
    {
     "name": "stdin",
     "output_type": "stream",
     "text": [
      "Enter a Number which you want to find prime Factors if it 6\n"
     ]
    },
    {
     "data": {
      "text/plain": [
       "[2, 3]"
      ]
     },
     "execution_count": 22,
     "metadata": {},
     "output_type": "execute_result"
    }
   ],
   "source": [
    "def is_prime(num):\n",
    "    if num < 2:\n",
    "        return False\n",
    "    for i in range(2, int(num**0.5) + 1):\n",
    "        if num % i == 0:\n",
    "            return False\n",
    "    return True\n",
    "\n",
    "def prime_factors_list_comprehension(n):\n",
    "    return [factor for factor in range(2, n + 1) if n % factor == 0 and is_prime(factor)]\n",
    "\n",
    "number = int(input(\"Enter a Number which you want to find prime Factors if it\"))\n",
    "factors_using_comprehension = prime_factors_list_comprehension(number)\n",
    "factors_using_comprehension"
   ]
  },
  {
   "cell_type": "markdown",
   "id": "1ca08e3d-5d19-4832-9e90-42ffcea3d2b8",
   "metadata": {},
   "source": [
    "Problem 23: Develop a program that extracts unique elements from a list and stores them in a new list using a list\n",
    "comprehension."
   ]
  },
  {
   "cell_type": "code",
   "execution_count": 23,
   "id": "488e4990-2a31-4702-ba2b-f3bbc1a60579",
   "metadata": {},
   "outputs": [
    {
     "name": "stdout",
     "output_type": "stream",
     "text": [
      "Original List:  [1, 2, 3, 4, 5, 6, 7, 8, 6, 7, 8]\n",
      "Unique List:  [1, 2, 3, 4, 5, 6, 7, 8]\n"
     ]
    }
   ],
   "source": [
    "# Original list\n",
    "original_list = [1,2,3,4,5,6,7,8,6,7,8]\n",
    "# Unique elements using list comprehension\n",
    "unique_elements = []\n",
    "[unique_elements.append(x) for x in original_list if x not in unique_elements]\n",
    "print(\"Original List: \", original_list)\n",
    "print(\"Unique List: \",unique_elements)"
   ]
  },
  {
   "cell_type": "markdown",
   "id": "5c411fba-473f-4822-a242-41272d40da75",
   "metadata": {},
   "source": [
    "Problem 24 : Create a program that generates a list of all palindromic numbers up to a specified limit using a list\n",
    "comprehension."
   ]
  },
  {
   "cell_type": "code",
   "execution_count": 24,
   "id": "2e30e935-b1dc-4017-a32a-d1cbddc42819",
   "metadata": {},
   "outputs": [
    {
     "name": "stdin",
     "output_type": "stream",
     "text": [
      "Enter a Specific Limit to Generate Palindromic Numbers 20\n"
     ]
    },
    {
     "data": {
      "text/plain": [
       "[11]"
      ]
     },
     "execution_count": 24,
     "metadata": {},
     "output_type": "execute_result"
    }
   ],
   "source": [
    "range_value = int(input(\"Enter a Specific Limit to Generate Palindromic Numbers\"))\n",
    "palindromic_numbers = [x for x in range(10,range_value+1) if str(x)==str(x)[::-1]]\n",
    "palindromic_numbers"
   ]
  },
  {
   "cell_type": "markdown",
   "id": "c1c13370-e1ce-4d58-b9cf-f5908ed5541e",
   "metadata": {},
   "source": [
    "Program 25: Write a program to flatten a nested list using list comprehension."
   ]
  },
  {
   "cell_type": "code",
   "execution_count": 25,
   "id": "44e23339-811e-426c-b3ea-011fbe6358a1",
   "metadata": {},
   "outputs": [
    {
     "name": "stdout",
     "output_type": "stream",
     "text": [
      "Nested List:  [[1, 2, 3, 4], [3, 4, 5, 6, 7], [1, 2]]\n",
      "Flatten List:  [1, 2, 3, 4, 3, 4, 5, 6, 7, 1, 2]\n"
     ]
    }
   ],
   "source": [
    "nested_List = [[1,2,3,4],[3,4,5,6,7],[1,2]]\n",
    "flatten_list = [y for x in nested_List for y in x] # flatten a nested list using list comprehension.\n",
    "print(\"Nested List: \", nested_List)\n",
    "print(\"Flatten List: \", flatten_list)"
   ]
  },
  {
   "cell_type": "markdown",
   "id": "8bca3106-eac4-433b-ada1-edc87da09e57",
   "metadata": {},
   "source": [
    "Program 26: Develop a program that computes the sum of even and odd numbers in a list separately using list\n",
    "comprehension."
   ]
  },
  {
   "cell_type": "code",
   "execution_count": 26,
   "id": "6273b9a6-e5e4-4c88-a19d-a41744248605",
   "metadata": {},
   "outputs": [
    {
     "name": "stdout",
     "output_type": "stream",
     "text": [
      "Even Number Element Sum:  42\n",
      "Odd Number Element Sum:  36\n"
     ]
    }
   ],
   "source": [
    "list_a = [1,2,3,4,5,6,7,8,9,10,11,12]\n",
    "even_number_sum = sum(int(x) for x in list_a if x%2==0)\n",
    "odd_number_sum = sum(int(x) for x in list_a if x%2!=0)\n",
    "print(\"Even Number Element Sum: \",even_number_sum)\n",
    "print(\"Odd Number Element Sum: \", odd_number_sum)"
   ]
  },
  {
   "cell_type": "markdown",
   "id": "07a7d01b-3b62-441c-81d8-19d9374fd1bc",
   "metadata": {},
   "source": [
    "Problem 27: Create a program that generates a list of squares of odd numbers between 1 and 10 using list\n",
    "comprehension."
   ]
  },
  {
   "cell_type": "code",
   "execution_count": 27,
   "id": "28754461-e7d1-44e3-8566-33cb4ccf9b3c",
   "metadata": {},
   "outputs": [
    {
     "data": {
      "text/plain": [
       "[1, 9, 25, 49, 81]"
      ]
     },
     "execution_count": 27,
     "metadata": {},
     "output_type": "execute_result"
    }
   ],
   "source": [
    "square_list = [x**2 for x in range(1,11) if x%2!=0] # generate a list of odd numbers between 1 to 10\n",
    "square_list"
   ]
  },
  {
   "cell_type": "markdown",
   "id": "35cc4673-97a7-43c8-811d-5c04b4db95c1",
   "metadata": {},
   "source": [
    "Problem 28: Write a program that combines two lists into a dictionary using list comprehension."
   ]
  },
  {
   "cell_type": "code",
   "execution_count": 28,
   "id": "bea6dd1e-0510-4fcf-8c1a-0394dd2cda95",
   "metadata": {},
   "outputs": [
    {
     "name": "stdout",
     "output_type": "stream",
     "text": [
      "{'a': 1, 'b': 2, 'c': 3}\n"
     ]
    }
   ],
   "source": [
    "# Two example lists\n",
    "keys = ['a', 'b', 'c']\n",
    "values = [1, 2, 3]\n",
    "# Using dictionary comprehension\n",
    "combined_dict = {keys[i]: values[i] for i in range(min(len(keys), len(values)))}\n",
    "print(combined_dict)"
   ]
  },
  {
   "cell_type": "markdown",
   "id": "9f3c00b5-44c0-4eab-a195-6e5a6b68cece",
   "metadata": {},
   "source": [
    "Problem 29: Develop a program that extracts the vowels from a string and stores them in a list using list comprehension."
   ]
  },
  {
   "cell_type": "code",
   "execution_count": 29,
   "id": "784a2039-5a28-47fc-81af-b719db3ab9c1",
   "metadata": {},
   "outputs": [
    {
     "name": "stdout",
     "output_type": "stream",
     "text": [
      "['e', 'e', 'o', 'a', 'o', 'a', 'a', 'e', 'a', 'e', 'o', 'e', 'o', 'a', 'i', 'a', 'o', 'e', 'e', 'i', 'a', 'i', 'u', 'i', 'i', 'o', 'e', 'e', 'i', 'o']\n"
     ]
    }
   ],
   "source": [
    "vowels = \"aeiouAEIOU\"\n",
    "str1 = \"Develop a program that extracts the vowels from a string and stores them in a list using list comprehension\"\n",
    "extract_vowels_From_str1 = [x for x in str1 if x in vowels]\n",
    "print(extract_vowels_From_str1)"
   ]
  },
  {
   "cell_type": "markdown",
   "id": "36468684-47f8-4e63-9c64-06bab1143b7f",
   "metadata": {},
   "source": [
    "Problem 30: Create a program that removes all non-numeric characters from a list of strings using list comprehension."
   ]
  },
  {
   "cell_type": "code",
   "execution_count": 30,
   "id": "5ebe3f5a-58a4-4e63-bee8-4d4a4e3b79ff",
   "metadata": {},
   "outputs": [
    {
     "name": "stdout",
     "output_type": "stream",
     "text": [
      "['123', '45', '678', '9']\n"
     ]
    }
   ],
   "source": [
    "# List of strings\n",
    "string_list = [\"abc123\", \"45def\", \"ghi678\", \"9jkl\"]\n",
    "#List comprehension to remove non-numeric characters\n",
    "numeric_only_list = [''.join(filter(str.isdigit, s)) for s in string_list]\n",
    "print(numeric_only_list)"
   ]
  },
  {
   "cell_type": "markdown",
   "id": "688a9e3b-cdeb-4e5c-86bb-b56bde55bff4",
   "metadata": {},
   "source": [
    "Challenge Level:"
   ]
  },
  {
   "cell_type": "markdown",
   "id": "494b1db1-f063-4558-b8d6-7e76e9fbf281",
   "metadata": {},
   "source": [
    "Problem 31 : Write a program to generate a list of prime numbers using the Sieve of Eratosthenes algorithm and list\n",
    "comprehension"
   ]
  },
  {
   "cell_type": "code",
   "execution_count": 31,
   "id": "33168637-2dfa-468a-bdc0-9a27032737ce",
   "metadata": {},
   "outputs": [
    {
     "name": "stdin",
     "output_type": "stream",
     "text": [
      "Enter a number to generate a prime numbers 5\n"
     ]
    },
    {
     "name": "stdout",
     "output_type": "stream",
     "text": [
      "Prime numbers up to 5 are, using the Sieve of Eratosthenes algorithm : [2, 3]\n",
      "Prime numbers up to 5 are, using the Sieve of Eratosthenes algorithm and list comprehension: [2, 3, 5]\n"
     ]
    }
   ],
   "source": [
    "import math \n",
    "def sieve_of_eratosthenes(n):\n",
    "    list_of_numbers = [x for x in range(2,n)]\n",
    "    num = 2\n",
    "    while num<= int(math.sqrt(n)): # Here we will go from 2 to sqrt(number)\n",
    "        if num in list_of_numbers: #if i is in the list we will delete the multiples\n",
    "            for i in range(num*2,n+1,num):\n",
    "                if i in list_of_numbers:\n",
    "                    list_of_numbers.remove(i)           \n",
    "        num +=1\n",
    "    return list_of_numbers\n",
    "\n",
    "\n",
    "\n",
    "#using list comprehension\n",
    "def sieve_of_eratosthenes_using_list_comprehension(n):\n",
    "    list_of_numbers = [x for x in range(0,n+1)]\n",
    "    num = 2\n",
    "    while num*num <= n: \n",
    "        if num in list_of_numbers:\n",
    "            for i in range(num*num,n+1,num):\n",
    "                list_of_numbers[i]=0           \n",
    "        num +=1\n",
    "    return [x for x in list_of_numbers if x !=0 and x !=1]\n",
    "\n",
    "\n",
    "input_number = int(input(\"Enter a number to generate a prime numbers\"))\n",
    "print(\"Prime numbers up to\", input_number, \"are, using the Sieve of Eratosthenes algorithm :\", sieve_of_eratosthenes(input_number))\n",
    "print(\"Prime numbers up to\", input_number, \"are, using the Sieve of Eratosthenes algorithm and list comprehension:\", sieve_of_eratosthenes_using_list_comprehension(input_number))"
   ]
  },
  {
   "cell_type": "markdown",
   "id": "72a6df70-f88b-4cd3-8044-3077c293be90",
   "metadata": {},
   "source": [
    "Problem 32: Create a program that generates a list of all Pythagorean triplets up to a specified limit using list\n",
    "comprehension."
   ]
  },
  {
   "cell_type": "code",
   "execution_count": 32,
   "id": "74251fdd-846b-463a-a78e-27142e569036",
   "metadata": {},
   "outputs": [
    {
     "name": "stdin",
     "output_type": "stream",
     "text": [
      "Enter a Number 45\n"
     ]
    },
    {
     "name": "stdout",
     "output_type": "stream",
     "text": [
      "Pythagorean triplets up to limit 45 : [(3, 4, 5), (5, 12, 13), (6, 8, 10), (7, 24, 25), (8, 15, 17), (9, 12, 15), (9, 40, 41), (10, 24, 26), (12, 16, 20), (12, 35, 37), (15, 20, 25), (15, 36, 39), (16, 30, 34), (18, 24, 30), (20, 21, 29), (21, 28, 35), (24, 32, 40), (27, 36, 45)]\n"
     ]
    }
   ],
   "source": [
    "def pythagorean_triplets(limit):\n",
    "    return [(a, b, c) for a in range(1, limit+1)\n",
    "                      for b in range(a, limit+1)\n",
    "                      for c in range(b, limit+1)\n",
    "                      if a*a + b*b == c*c]\n",
    "# Example usage\n",
    "limit = int(input(\"Enter a Number\"))\n",
    "triplets = pythagorean_triplets(limit)\n",
    "print(\"Pythagorean triplets up to limit\", limit, \":\",triplets)"
   ]
  },
  {
   "cell_type": "markdown",
   "id": "bc89508a-00c4-435a-926a-7712a720cc16",
   "metadata": {},
   "source": [
    "Problem 33: Develop a program that generates a list of all possible combinations of two lists using list comprehension."
   ]
  },
  {
   "cell_type": "code",
   "execution_count": 33,
   "id": "1394acd5-cec7-47b5-8123-8ff7617b2f3a",
   "metadata": {},
   "outputs": [
    {
     "name": "stdout",
     "output_type": "stream",
     "text": [
      "All possible combinations of lists: [(1, 'a'), (1, 'b'), (1, 'c'), (2, 'a'), (2, 'b'), (2, 'c'), (3, 'a'), (3, 'b'), (3, 'c')]\n"
     ]
    }
   ],
   "source": [
    "def combine_lists(list1, list2):\n",
    "    return [(x, y) for x in list1 for y in list2]\n",
    "\n",
    "# Example usage\n",
    "list1 = [1, 2, 3]\n",
    "list2 = ['a', 'b', 'c']\n",
    "combinations = combine_lists(list1, list2)\n",
    "print(\"All possible combinations of lists:\",combinations)"
   ]
  },
  {
   "cell_type": "markdown",
   "id": "223aacf7-48d9-472c-9379-46499f55ff3b",
   "metadata": {},
   "source": [
    "Problem 34: Write a program that calculates the mean, median, and mode of a list of numbers using list\n",
    "comprehension."
   ]
  },
  {
   "cell_type": "code",
   "execution_count": 34,
   "id": "11d70c46-5659-4214-9976-e1d033f70db4",
   "metadata": {},
   "outputs": [
    {
     "name": "stdout",
     "output_type": "stream",
     "text": [
      "Mean: 5.090909090909091\n",
      "Median: 5\n",
      "Mode: [5, 6]\n"
     ]
    }
   ],
   "source": [
    "from collections import Counter\n",
    "\n",
    "def calculate_mean(numbers):\n",
    "    return sum(numbers) / len(numbers)\n",
    "\n",
    "def calculate_median(numbers):\n",
    "    sorted_numbers = sorted(numbers)\n",
    "    n = len(sorted_numbers)\n",
    "    if n % 2 == 0:\n",
    "        return (sorted_numbers[n//2 - 1] + sorted_numbers[n//2]) / 2\n",
    "    else:\n",
    "        return sorted_numbers[n//2]\n",
    "\n",
    "def calculate_mode(numbers):\n",
    "    count = Counter(numbers)\n",
    "    max_count = max(count.values())\n",
    "    mode = [num for num, freq in count.items() if freq == max_count]\n",
    "    return mode\n",
    "\n",
    "# Sample list of numbers\n",
    "numbers = [1, 2, 3, 4, 5, 5, 6, 6, 7, 8, 9]\n",
    "\n",
    "# Calculate mean\n",
    "mean = calculate_mean(numbers)\n",
    "print(\"Mean:\", mean)\n",
    "\n",
    "# Calculate median\n",
    "median = calculate_median(numbers)\n",
    "print(\"Median:\", median)\n",
    "\n",
    "# Calculate mode\n",
    "mode = calculate_mode(numbers)\n",
    "print(\"Mode:\", mode)"
   ]
  },
  {
   "cell_type": "markdown",
   "id": "f30fca84-234b-4bc1-8a92-af68701696b0",
   "metadata": {},
   "source": [
    "Problem 35: Create a program that generates Pascal's triangle up to a specified number of rows using list\n",
    "comprehension."
   ]
  },
  {
   "cell_type": "code",
   "execution_count": 40,
   "id": "1fbbb76d-4a15-4336-aca6-1141e1e53069",
   "metadata": {},
   "outputs": [
    {
     "name": "stdin",
     "output_type": "stream",
     "text": [
      "Enter the number of rows for Pascal's triangle:  5\n"
     ]
    },
    {
     "name": "stdout",
     "output_type": "stream",
     "text": [
      "    1     \n",
      "   1 1    \n",
      "  1 2 1   \n",
      " 1 3 3 1  \n",
      "1 4 6 4 1 \n"
     ]
    }
   ],
   "source": [
    "def generate_pascals_triangle(num_rows):\n",
    "    if num_rows == 0:\n",
    "        return []\n",
    "\n",
    "    triangle = [[1]]\n",
    "    for _ in range(1, num_rows):\n",
    "        prev_row = triangle[-1]\n",
    "        next_row = [1] + [prev_row[i] + prev_row[i + 1] for i in range(len(prev_row) - 1)] + [1]\n",
    "        triangle.append(next_row)\n",
    "\n",
    "    return triangle\n",
    "\n",
    "def display_pascals_triangle(triangle):\n",
    "    for row in triangle:\n",
    "        print(\" \".join(map(str, row)).center(len(triangle[-1])*2))\n",
    "\n",
    "num_rows = int(input(\"Enter the number of rows for Pascal's triangle: \"))\n",
    "pascals_triangle = generate_pascals_triangle(num_rows)\n",
    "display_pascals_triangle(pascals_triangle)\n"
   ]
  },
  {
   "cell_type": "markdown",
   "id": "be854ba2-b1ad-443e-b502-fbc996b03b27",
   "metadata": {},
   "source": [
    "Problem 36: Develop a program that calculates the sum of the digits of a factorial of numbers from 1 to 5 using list\n",
    "comprehension."
   ]
  },
  {
   "cell_type": "code",
   "execution_count": 35,
   "id": "8a5bb3a1-75df-4d8e-be60-60055090c10b",
   "metadata": {},
   "outputs": [
    {
     "name": "stdout",
     "output_type": "stream",
     "text": [
      "153\n"
     ]
    }
   ],
   "source": [
    "sum_of_factorial = 0\n",
    "for x in range(1,6):\n",
    "    factorial = 1\n",
    "    for y in range(1,x+1):\n",
    "        factorial = factorial*y\n",
    "    sum_of_factorial = sum_of_factorial+factorial\n",
    "print(sum_of_factorial)"
   ]
  },
  {
   "cell_type": "markdown",
   "id": "6cda853d-e04a-4262-b38f-3f68212c8b3e",
   "metadata": {},
   "source": [
    "Problem 37: Write a program that finds the longest word in a sentence using list comprehension."
   ]
  },
  {
   "cell_type": "code",
   "execution_count": 36,
   "id": "c7d37b8d-6e6d-4b5b-b041-23a25a6c91d6",
   "metadata": {},
   "outputs": [
    {
     "name": "stdout",
     "output_type": "stream",
     "text": [
      "comprehension.\n"
     ]
    }
   ],
   "source": [
    "str1 = \"Write a program that finds the longest word in a sentence using list comprehension.\"\n",
    "list_of_string = str1.split()\n",
    "longest_word = max(list_of_string, key=len)\n",
    "print(longest_word)"
   ]
  },
  {
   "cell_type": "markdown",
   "id": "e62a55b1-0029-4411-9dcd-246c48c6c5bf",
   "metadata": {},
   "source": [
    "Problem 38: Create a program that filters a list of strings to include only those with more than three vowels using list\n",
    "comprehension."
   ]
  },
  {
   "cell_type": "code",
   "execution_count": 37,
   "id": "30fec7e2-41c7-46b2-8b11-42a1d49af473",
   "metadata": {},
   "outputs": [
    {
     "name": "stdout",
     "output_type": "stream",
     "text": [
      "['Create', 'include', 'comprehension']\n"
     ]
    }
   ],
   "source": [
    "str1 = \"Create a program that filters a list of strings to include only those with more than three vowels using list comprehension\"\n",
    "\n",
    "'''list_of_string = str1.split()\n",
    "vowels = 'aeiouAEIOU'\n",
    "list_of_string_which_have_more_than_three_vowels =[]\n",
    "for item in list_of_string:\n",
    "    count = 0\n",
    "    vowelsChar = ''\n",
    "    for x in item:\n",
    "        if count == 0:\n",
    "            if x in vowels:\n",
    "                count = count+1\n",
    "                vowelsChar = x\n",
    "        else:\n",
    "            if x in vowels and  x != vowelsChar:\n",
    "                count = count+1\n",
    "                vowelsChar = x\n",
    "    if count>=3:\n",
    "        list_of_string_which_have_more_than_three_vowels.append(item)\n",
    "print(list_of_string_which_have_more_than_three_vowels) '''\n",
    "# Function to count vowels in a string\n",
    "def count_vowels(string):\n",
    "    vowels = \"aeiouAEIOU\"\n",
    "    return sum(1 for char in string if char in vowels)\n",
    "\n",
    "# List of strings\n",
    "list_of_strings = str1.split()\n",
    "\n",
    "# Filter the list to include only strings with more than three vowels\n",
    "filtered_list = [string for string in list_of_strings if count_vowels(string) >= 3]\n",
    "\n",
    "# Print the filtered list\n",
    "print(filtered_list)"
   ]
  },
  {
   "cell_type": "markdown",
   "id": "0464cbe0-bc68-4ae0-abe7-22b282d9ec06",
   "metadata": {},
   "source": [
    "Problem 39: Develop a program that calculates the sum of the digits of numbers from 1 to 1000 using list\n",
    "comprehension."
   ]
  },
  {
   "cell_type": "code",
   "execution_count": 38,
   "id": "06548ed1-a31e-4e64-a0e9-c768f4b3bbcf",
   "metadata": {},
   "outputs": [
    {
     "name": "stdout",
     "output_type": "stream",
     "text": [
      "Sum of digits from 1 to 1000: 13501\n"
     ]
    }
   ],
   "source": [
    "# Calculate sum of digits of a number\n",
    "def sum_of_digits(number):\n",
    "    return sum(int(digit) for digit in str(number))\n",
    "\n",
    "# List comprehension to generate numbers from 1 to 1000\n",
    "numbers = [number for number in range(1, 1001)]\n",
    "\n",
    "# Calculate sum of digits for each number and sum them up\n",
    "total_sum = sum(sum_of_digits(number) for number in numbers)\n",
    "\n",
    "print(\"Sum of digits from 1 to 1000:\", total_sum)"
   ]
  },
  {
   "cell_type": "markdown",
   "id": "271c3145-74a2-4d73-bb2e-e7b8d784bb97",
   "metadata": {},
   "source": [
    "Problem 40: Write a program that generates a list of prime palindromic numbers using list comprehension."
   ]
  },
  {
   "cell_type": "code",
   "execution_count": 39,
   "id": "c7090f19-80fa-4c87-8a7e-5610dc6eafea",
   "metadata": {},
   "outputs": [
    {
     "name": "stdout",
     "output_type": "stream",
     "text": [
      "[11, 22, 33, 44, 55, 66, 77, 88, 99]\n"
     ]
    }
   ],
   "source": [
    "list_of_parlinfromic_numbers = [item for item in range(11,101) if str(item)[::1] ==str(item)[::-1]] # list of prime palindromic numbers using list comprehension.\n",
    "print(list_of_parlinfromic_numbers)"
   ]
  },
  {
   "cell_type": "code",
   "execution_count": null,
   "id": "c7876441-2bc7-4e17-adb3-f1aed76e4553",
   "metadata": {},
   "outputs": [],
   "source": []
  }
 ],
 "metadata": {
  "kernelspec": {
   "display_name": "Python 3 (ipykernel)",
   "language": "python",
   "name": "python3"
  },
  "language_info": {
   "codemirror_mode": {
    "name": "ipython",
    "version": 3
   },
   "file_extension": ".py",
   "mimetype": "text/x-python",
   "name": "python",
   "nbconvert_exporter": "python",
   "pygments_lexer": "ipython3",
   "version": "3.10.8"
  }
 },
 "nbformat": 4,
 "nbformat_minor": 5
}
