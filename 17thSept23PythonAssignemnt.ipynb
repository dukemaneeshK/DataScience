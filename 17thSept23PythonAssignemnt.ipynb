{
 "cells": [
  {
   "cell_type": "markdown",
   "id": "7b66c60c-be3d-414b-b66b-892d0ee38eaf",
   "metadata": {},
   "source": [
    "                                                            For Loop"
   ]
  },
  {
   "cell_type": "markdown",
   "id": "e543680e-76ce-414a-ab24-748ba190d6f2",
   "metadata": {},
   "source": [
    "Problem 1: Write a Python program to print numbers from 1 to 10 using a for loop."
   ]
  },
  {
   "cell_type": "code",
   "execution_count": 6,
   "id": "f037f799-32f1-4094-8de3-72d7f22ff3e7",
   "metadata": {},
   "outputs": [
    {
     "name": "stdout",
     "output_type": "stream",
     "text": [
      "1\n",
      "2\n",
      "3\n",
      "4\n",
      "5\n",
      "6\n",
      "7\n",
      "8\n",
      "9\n",
      "10\n"
     ]
    }
   ],
   "source": [
    "def print1to10():\n",
    "    for i in range(1,11):\n",
    "        print(i)\n",
    "print1to10()"
   ]
  },
  {
   "cell_type": "markdown",
   "id": "251f492f-5be5-41d6-97f3-79550a6bbce9",
   "metadata": {},
   "source": [
    "Problem 2: Explain the difference between a for loop and a while loop in Python."
   ]
  },
  {
   "cell_type": "markdown",
   "id": "44216c28-4f4f-45c2-af9f-d8d727428532",
   "metadata": {},
   "source": [
    "For Loop: A for loop is a control flow statement that executes code for a predefined number of iterations. \n",
    "The keyword used in this control flow statement is \"for\". When the number of iterations is already known, the for loop is used"
   ]
  },
  {
   "cell_type": "markdown",
   "id": "6a6083b0-bcc4-4dd9-9704-8e0fc7e83735",
   "metadata": {},
   "source": [
    "While Loop: A loop that runs a single statement or a set of statements for a given true condition.When the number of iterations is unknown, a while loop is used"
   ]
  },
  {
   "cell_type": "markdown",
   "id": "66c5c734-a982-40a3-be89-808fa4db120e",
   "metadata": {},
   "source": [
    "Problem 3: Write a Python program to calculate the sum of all numbers from 1 to 100 using a for loop."
   ]
  },
  {
   "cell_type": "code",
   "execution_count": 9,
   "id": "72bc8ae4-03e1-4ffe-9372-5ad2b57fc8aa",
   "metadata": {},
   "outputs": [
    {
     "data": {
      "text/plain": [
       "5050"
      ]
     },
     "execution_count": 9,
     "metadata": {},
     "output_type": "execute_result"
    }
   ],
   "source": [
    "def Addition():\n",
    "    total_sum = 0\n",
    "    for i in range(1,101):\n",
    "        total_sum = total_sum + i\n",
    "    return total_sum\n",
    "Addition()"
   ]
  },
  {
   "cell_type": "markdown",
   "id": "84ea4a34-3d3e-4bdb-b846-455f0915fc8e",
   "metadata": {},
   "source": [
    "Problem 4: How do you iterate through a list using a for loop in Python?"
   ]
  },
  {
   "cell_type": "code",
   "execution_count": 11,
   "id": "a5194b6a-f087-4459-8d7a-57bffe26f0ee",
   "metadata": {},
   "outputs": [
    {
     "name": "stdout",
     "output_type": "stream",
     "text": [
      "1\n",
      "2\n",
      "3\n",
      "4\n",
      "5\n",
      "6\n",
      "7\n",
      "8\n",
      "9\n"
     ]
    }
   ],
   "source": [
    "list_a = [1,2,3,4,5,6,7,8,9]\n",
    "for i in list_a: #iterate through a list using for loop\n",
    "    print(i)"
   ]
  },
  {
   "cell_type": "markdown",
   "id": "47bf968c-6f7e-4af0-94f0-46cb944d24b0",
   "metadata": {},
   "source": [
    "Problem 5: Write a Python program to find the product of all elements in a list using a for loop."
   ]
  },
  {
   "cell_type": "code",
   "execution_count": 12,
   "id": "58385c28-1a30-4cfe-9217-c4288e1a850b",
   "metadata": {},
   "outputs": [
    {
     "name": "stdout",
     "output_type": "stream",
     "text": [
      "120\n"
     ]
    }
   ],
   "source": [
    "list_b = [1,2,3,4,5,6,7,8,9,10]\n",
    "product = 1\n",
    "for i in list_b:\n",
    "    product = product*i\n",
    "print(product)"
   ]
  },
  {
   "cell_type": "markdown",
   "id": "a2a40626-1852-47ee-9a52-d9c630a9379e",
   "metadata": {},
   "source": [
    "Problem 6: Create a Python program that prints all even numbers from 1 to 20 using a for loop."
   ]
  },
  {
   "cell_type": "code",
   "execution_count": 15,
   "id": "bffa6de2-96f9-428d-9214-0c1cde412f50",
   "metadata": {},
   "outputs": [
    {
     "name": "stdout",
     "output_type": "stream",
     "text": [
      "2\n",
      "4\n",
      "6\n",
      "8\n",
      "10\n",
      "12\n",
      "14\n",
      "16\n",
      "18\n",
      "20\n"
     ]
    }
   ],
   "source": [
    "def AllEvenNumber():\n",
    "    for i in range(1,21):\n",
    "        if i%2==0:\n",
    "            print(i)\n",
    "AllEvenNumber()"
   ]
  },
  {
   "cell_type": "markdown",
   "id": "51f34023-d80c-407e-b5c6-a7a83e88bb36",
   "metadata": {},
   "source": [
    "Problem 7: Write a Python program that calculates the factorial of a number using a for loop."
   ]
  },
  {
   "cell_type": "code",
   "execution_count": 17,
   "id": "142f3ee3-3e13-4510-bbd7-f51b838d8018",
   "metadata": {},
   "outputs": [
    {
     "name": "stdin",
     "output_type": "stream",
     "text": [
      "Enter a number to Cal Factorial 6\n"
     ]
    },
    {
     "data": {
      "text/plain": [
       "720"
      ]
     },
     "execution_count": 17,
     "metadata": {},
     "output_type": "execute_result"
    }
   ],
   "source": [
    "def Fact(n):\n",
    "    fact = 1;\n",
    "    for i in range(1,n+1):\n",
    "        fact = fact*i\n",
    "    return fact\n",
    "\n",
    "number = int(input(\"Enter a number to Cal Factorial\"))\n",
    "Fact(number)"
   ]
  },
  {
   "cell_type": "markdown",
   "id": "be866be2-1878-4f14-bc58-770beccc5596",
   "metadata": {},
   "source": [
    "Problem 8: How can you iterate through the characters of a string using a for loop in Python?"
   ]
  },
  {
   "cell_type": "code",
   "execution_count": 19,
   "id": "d812ed5b-b4d1-42f0-897a-e55c6f178ae5",
   "metadata": {},
   "outputs": [
    {
     "name": "stdin",
     "output_type": "stream",
     "text": [
      "Enter a string skfjsagkf\n"
     ]
    },
    {
     "name": "stdout",
     "output_type": "stream",
     "text": [
      "s\n",
      "k\n",
      "f\n",
      "j\n",
      "s\n",
      "a\n",
      "g\n",
      "k\n",
      "f\n"
     ]
    }
   ],
   "source": [
    "str1 = input(\"Enter a string\")\n",
    "for i in str1:\n",
    "    print(i) # print char of string"
   ]
  },
  {
   "cell_type": "markdown",
   "id": "513737df-1f1e-47a4-8b9e-44cb306f1c12",
   "metadata": {},
   "source": [
    "Problem 9: Write a Python program to find the largest number in a list using a for loop."
   ]
  },
  {
   "cell_type": "code",
   "execution_count": 22,
   "id": "d4a60f5a-1aaa-4b12-83d4-225093c85115",
   "metadata": {},
   "outputs": [
    {
     "data": {
      "text/plain": [
       "21"
      ]
     },
     "execution_count": 22,
     "metadata": {},
     "output_type": "execute_result"
    }
   ],
   "source": [
    "list_c = [1,2,3,4,5,21,7,8,9,10]\n",
    "def maxElement(l):\n",
    "    maxnumber = 1;\n",
    "    for i in l:\n",
    "        if i>maxnumber:\n",
    "            maxnumber = i\n",
    "    return maxnumber\n",
    "maxElement(list_c)"
   ]
  },
  {
   "cell_type": "markdown",
   "id": "956faf96-82c3-4d5c-a6dd-67687dc2dc64",
   "metadata": {},
   "source": [
    "Problem 10: Create a Python program that prints the Fibonacci sequence up to a specified limit using a for loop."
   ]
  },
  {
   "cell_type": "code",
   "execution_count": 29,
   "id": "393a195c-ab3f-46f6-98d7-a2d7bb0fb5c8",
   "metadata": {},
   "outputs": [
    {
     "name": "stdin",
     "output_type": "stream",
     "text": [
      "Enter a number to print Fibonacci 10\n"
     ]
    },
    {
     "name": "stdout",
     "output_type": "stream",
     "text": [
      "0\n",
      "1\n",
      "1\n",
      "2\n",
      "3\n",
      "5\n",
      "8\n",
      "13\n",
      "21\n",
      "34\n"
     ]
    }
   ],
   "source": [
    "def fibNacci(n):\n",
    "    if n<=0:\n",
    "        print(0)\n",
    "    elif n==2:\n",
    "        print(0)\n",
    "        print(1)\n",
    "    else:\n",
    "        fib0 = 0\n",
    "        fib1 = 1\n",
    "        print(fib0)\n",
    "        print(fib1)\n",
    "        for i in range(3,n+1):\n",
    "            fib2 = fib0+fib1\n",
    "            print(fib2)\n",
    "            # replace value of fib0 and fib1\n",
    "            fib0 = fib1\n",
    "            fib1 = fib2\n",
    "number  = int(input(\"Enter a number to print Fibonacci\"))\n",
    "fibNacci(number)"
   ]
  },
  {
   "cell_type": "markdown",
   "id": "d461cb9a-42d2-4d29-9d95-e9598b3763e7",
   "metadata": {},
   "source": [
    "Problem 11: Write a Python program to count the number of vowels in a given string using a for loop."
   ]
  },
  {
   "cell_type": "code",
   "execution_count": 30,
   "id": "8e3d732b-fd28-4d3d-b23d-40e2a6e055bf",
   "metadata": {},
   "outputs": [
    {
     "name": "stdout",
     "output_type": "stream",
     "text": [
      "Total Number Vowels in stringpwskills : 1\n"
     ]
    }
   ],
   "source": [
    "vowels = \"aeiouAEIOU\"\n",
    "str1 = \"pwskills\"\n",
    "count = 0\n",
    "for i in str1:\n",
    "    if i in vowels:\n",
    "        count = count+1\n",
    "print(f\"Total Number Vowels in string{str1} : {count}\")"
   ]
  },
  {
   "cell_type": "markdown",
   "id": "7e23082c-12c7-4599-9f13-221548add971",
   "metadata": {},
   "source": [
    "Problem 12: Create a Python program that generates a multiplication table for a given number using a for loop."
   ]
  },
  {
   "cell_type": "code",
   "execution_count": 37,
   "id": "0ad0e03b-ee25-4877-8f23-cbdb94979483",
   "metadata": {},
   "outputs": [
    {
     "name": "stdin",
     "output_type": "stream",
     "text": [
      "Enter a number to print a table: 5\n"
     ]
    },
    {
     "name": "stdout",
     "output_type": "stream",
     "text": [
      "5*1:  5\n",
      "5*2:  10\n",
      "5*3:  15\n",
      "5*4:  20\n",
      "5*5:  25\n",
      "5*6:  30\n",
      "5*7:  35\n",
      "5*8:  40\n",
      "5*9:  45\n",
      "5*10:  50\n"
     ]
    }
   ],
   "source": [
    "def MultiPlicationTable(n):\n",
    "    for i in range(1,11):\n",
    "        print(f\"{n}*{i}: \",n*i) # print table of given number\n",
    "number = int(input(\"Enter a number to print a table:\"))\n",
    "MultiPlicationTable(number)"
   ]
  },
  {
   "cell_type": "markdown",
   "id": "c231ca60-89f5-41f0-be46-f1e509e35585",
   "metadata": {},
   "source": [
    "Problem 13: Write a Python program to reverse a list using a for loop."
   ]
  },
  {
   "cell_type": "code",
   "execution_count": 42,
   "id": "d51d7aee-a9c9-4e3d-86e2-a5e40edf6d0c",
   "metadata": {},
   "outputs": [
    {
     "name": "stdout",
     "output_type": "stream",
     "text": [
      "Orginal List:  [1, 2, 3, 4, 5, 6, 7, 8, 9, 10]\n",
      "Reversed List:  [10, 9, 8, 7, 6, 5, 4, 3, 2, 1]\n"
     ]
    }
   ],
   "source": [
    "list_d = [1,2,3,4,5,6,7,8,9,10]\n",
    "reverselist = []\n",
    "for i in range(len(list_d),0,-1):\n",
    "    reverselist.append(i)\n",
    "print(\"Orginal List: \",list_d)\n",
    "print(\"Reversed List: \",reverselist)"
   ]
  },
  {
   "cell_type": "markdown",
   "id": "9feeedf9-c9bc-4f74-94f6-07cbf271c674",
   "metadata": {},
   "source": [
    "Problem 14: Write a Python program to find the common elements between two lists using a for loop."
   ]
  },
  {
   "cell_type": "code",
   "execution_count": 43,
   "id": "1c8d8bd7-adf1-4b3b-9d09-b0948c61cad2",
   "metadata": {},
   "outputs": [
    {
     "name": "stdout",
     "output_type": "stream",
     "text": [
      "11\n",
      "12\n",
      "45\n"
     ]
    }
   ],
   "source": [
    "list_e = [23,4,5,6,7,8,11,12,45,78]\n",
    "list_f = [21,14,11,56,12,10,45]\n",
    "for i in list_e:\n",
    "    for j in list_f:\n",
    "        if j==i:\n",
    "            print(j)"
   ]
  },
  {
   "cell_type": "markdown",
   "id": "7c92b476-6c53-4d9d-8103-b2e04c2fa0c8",
   "metadata": {},
   "source": [
    "Problem 15: Explain how to use a for loop to iterate through the keys and values of a dictionary in Python."
   ]
  },
  {
   "cell_type": "code",
   "execution_count": 5,
   "id": "9f7b36e8-58da-4d18-acfe-2186be687ddf",
   "metadata": {},
   "outputs": [
    {
     "name": "stdout",
     "output_type": "stream",
     "text": [
      "Key: apple , Value: 2\n",
      "Key: banana , Value: 3\n",
      "Key: Orange , Value: 4\n"
     ]
    }
   ],
   "source": [
    "my_dict = {'apple':2,'banana':3,'Orange':4}\n",
    "# use a for loop to iterate through the keys and values of a dictionary\n",
    "for key,value in my_dict.items():\n",
    "    print(f\"Key: {key} , Value: {value}\")"
   ]
  },
  {
   "cell_type": "markdown",
   "id": "64f00171-d1c7-4018-a144-2ae34104ddc6",
   "metadata": {},
   "source": [
    "Problem 16: Write a Python program to find the GCD (Greatest Common Divisor) of two numbers using a for loop."
   ]
  },
  {
   "cell_type": "code",
   "execution_count": 21,
   "id": "b1a4ea07-a802-4286-931a-e1d4300f087b",
   "metadata": {},
   "outputs": [
    {
     "name": "stdin",
     "output_type": "stream",
     "text": [
      "Enter a First Number 19\n",
      "Enter a Second Number 33\n"
     ]
    },
    {
     "name": "stdout",
     "output_type": "stream",
     "text": [
      "The GCD of 19 and 33 is: 1\n"
     ]
    }
   ],
   "source": [
    "import math\n",
    "\n",
    "firstNumber = int(input(\"Enter a First Number\"))\n",
    "SecondNumber  = int(input(\"Enter a Second Number\"))\n",
    "def GCD(a,b):\n",
    "    if a<b and a != 0 and b !=0:\n",
    "        if a ==1 or b==1:\n",
    "            return 1\n",
    "        elif isPrime(a) and isPrime(b):\n",
    "            return 1\n",
    "        elif b/a == 2:\n",
    "            return a\n",
    "        else:\n",
    "            Flag = True\n",
    "            while Flag:\n",
    "                if b % a == 0:\n",
    "                    Flag = False\n",
    "                    return a\n",
    "                else:\n",
    "                    reminder = b%a\n",
    "                    b = a\n",
    "                    a = reminder\n",
    "                    Flag = True\n",
    "    else:\n",
    "        print(\"First Number Should be Less Than To Second Number\")\n",
    "        \n",
    "def isPrime(n):\n",
    "    if n==2:\n",
    "        return True\n",
    "    else:\n",
    "        for i in range(2,int(math.sqrt(n))+1):\n",
    "            if n%i==0:\n",
    "                return False\n",
    "        return True\n",
    "result = GCD(firstNumber,SecondNumber)\n",
    "print(\"The GCD of\", firstNumber, \"and\", SecondNumber, \"is:\", result)"
   ]
  },
  {
   "cell_type": "markdown",
   "id": "da1a4dc5-68f3-45ac-97ab-5ae1a2f898f0",
   "metadata": {},
   "source": [
    "Problem 17: Create a Python program that checks if a string is a palindrome using a for loop."
   ]
  },
  {
   "cell_type": "code",
   "execution_count": 27,
   "id": "c38ae68c-bd49-4841-aef7-c3fd14651f0c",
   "metadata": {},
   "outputs": [
    {
     "name": "stdin",
     "output_type": "stream",
     "text": [
      "Please Enter a String to check it is palinfrome or not papa\n"
     ]
    },
    {
     "name": "stdout",
     "output_type": "stream",
     "text": [
      "papa is a not palindrome string\n"
     ]
    }
   ],
   "source": [
    "str1 = input(\"Please Enter a String to check it is palinfrome or not\")\n",
    "str2 = ''\n",
    "for i in range(len(str1)-1,0,-1):\n",
    "    str2+=str1[i]\n",
    "if str1 == str2:\n",
    "    print(f\"{str1} is a palindrome string\")\n",
    "else:\n",
    "    print(f\"{str1} is a not palindrome string\")"
   ]
  },
  {
   "cell_type": "markdown",
   "id": "1efa94c3-54a5-4fbc-aa45-deb8bbaa6e32",
   "metadata": {},
   "source": [
    "Problem 18: Write a Python program to remove duplicates from a list using a for loop."
   ]
  },
  {
   "cell_type": "code",
   "execution_count": 56,
   "id": "dc529fcd-a85b-4b14-b897-dcc4b1ded70b",
   "metadata": {},
   "outputs": [
    {
     "name": "stdout",
     "output_type": "stream",
     "text": [
      "Original List:  [1, 2, 3, 4, 5, 6, 7, 8, 9, 9, 1, 2, 3, 4, 56, 7, 8]\n",
      "List After Removing Duplicates:  [1, 2, 3, 4, 5, 6, 7, 8, 9, 56]\n"
     ]
    }
   ],
   "source": [
    "list_p = [1,2,3,4,5,6,7,8,9,9,1,2,3,4,56,7,8]\n",
    "print(\"Original List: \",list_p)\n",
    "for i in range(len(list_p)):\n",
    "    for j in range(i+1,len(list_p)):\n",
    "        if list_p[i]==list_p[j]:\n",
    "            list_p.pop(j)\n",
    "            break\n",
    "print(\"List After Removing Duplicates: \", sorted(list_p))"
   ]
  },
  {
   "cell_type": "markdown",
   "id": "ba63a475-a6d0-459c-96ff-60a7e42893fe",
   "metadata": {},
   "source": [
    "Problem 19: Create a Python program that counts the number of words in a sentence using a for loop."
   ]
  },
  {
   "cell_type": "code",
   "execution_count": 4,
   "id": "262015a9-652f-4572-87c5-000bf8f1a990",
   "metadata": {},
   "outputs": [
    {
     "name": "stdout",
     "output_type": "stream",
     "text": [
      "Total Words in string:  17\n"
     ]
    }
   ],
   "source": [
    "str1 = \"Create a Python program that counts the number of words in a sentence using a for loop.\"\n",
    "list_of_words = str1.split(' ')\n",
    "total_words = 0\n",
    "for i in list_of_words:\n",
    "    total_words+=1\n",
    "print(\"Total Words in string: \",total_words)"
   ]
  },
  {
   "cell_type": "markdown",
   "id": "96ca570b-2e8c-499b-b9e5-76b391bcd687",
   "metadata": {},
   "source": [
    "Problem 20: Write a Python program to find the sum of all odd numbers from 1 to 50 using a for loop."
   ]
  },
  {
   "cell_type": "code",
   "execution_count": 6,
   "id": "d664799a-9095-4e67-bf86-3b3e827207d9",
   "metadata": {},
   "outputs": [
    {
     "data": {
      "text/plain": [
       "625"
      ]
     },
     "execution_count": 6,
     "metadata": {},
     "output_type": "execute_result"
    }
   ],
   "source": [
    "def sumOfOddNumber():\n",
    "    sumodd = 0\n",
    "    for i in range(1,51):\n",
    "        if i%2 !=0:\n",
    "            sumodd +=i\n",
    "    return sumodd\n",
    "sumOfOddNumber()"
   ]
  },
  {
   "cell_type": "markdown",
   "id": "a1283705-a77a-4f5b-8d2c-080af2c693fd",
   "metadata": {},
   "source": [
    "Problem 21: Write a Python program that checks if a given year is a leap year using a for loop."
   ]
  },
  {
   "cell_type": "code",
   "execution_count": 7,
   "id": "af1ca391-cd34-4c7b-8472-475b844f9b4d",
   "metadata": {},
   "outputs": [
    {
     "name": "stdin",
     "output_type": "stream",
     "text": [
      "Enter a year:  2024\n"
     ]
    },
    {
     "name": "stdout",
     "output_type": "stream",
     "text": [
      "2024 is a leap year.\n"
     ]
    }
   ],
   "source": [
    "def is_leap_year(year):\n",
    "    # Leap year if divisible by 4\n",
    "    if year % 4 == 0:\n",
    "        # If divisible by 100, it's not a leap year unless also divisible by 400\n",
    "        if year % 100 == 0:\n",
    "            if year % 400 == 0:\n",
    "                return True\n",
    "            else:\n",
    "                return False\n",
    "        else:\n",
    "            return True\n",
    "    else:\n",
    "        return False\n",
    "\n",
    "# Test the function\n",
    "year = int(input(\"Enter a year: \"))\n",
    "\n",
    "if is_leap_year(year):\n",
    "    print(year, \"is a leap year.\")\n",
    "else:\n",
    "    print(year, \"is not a leap year.\")"
   ]
  },
  {
   "cell_type": "markdown",
   "id": "224d5a69-ffcc-4408-bdad-7744669583b3",
   "metadata": {},
   "source": [
    "Problem 22: Create a Python program that calculates the square root of a number using a for loop."
   ]
  },
  {
   "cell_type": "code",
   "execution_count": 6,
   "id": "801d166c-4b72-4082-b89b-c8ffb9a015b4",
   "metadata": {},
   "outputs": [
    {
     "name": "stdin",
     "output_type": "stream",
     "text": [
      "Enter a number 6\n"
     ]
    },
    {
     "name": "stdout",
     "output_type": "stream",
     "text": [
      "The square root of 6 is approximately 2.5\n"
     ]
    }
   ],
   "source": [
    "def FindSquareRoot(number):\n",
    "    if number <0:\n",
    "        return \"Square root of negative numbers is undefined\"\n",
    "    for i in range(number+1):\n",
    "        if i*i==number:\n",
    "            return i\n",
    "        elif i * i > number:\n",
    "            # Interpolate square root\n",
    "            return round((i - 1) + (number - (i - 1) ** 2) / (2 * (i - 1)), 5)\n",
    "number = int(input(\"Enter a number\"))\n",
    "result = FindSquareRoot(number)\n",
    "print(f\"The square root of {number} is approximately {result}\")"
   ]
  },
  {
   "cell_type": "markdown",
   "id": "cd26896f-3d64-4d68-9862-b9166ac088bf",
   "metadata": {},
   "source": [
    "Problem 23: Write a Python program to find the LCM (Least Common Multiple) of two numbers using a for loop."
   ]
  },
  {
   "cell_type": "code",
   "execution_count": 9,
   "id": "e91fa22e-a22a-4b80-9303-1eba04c74a16",
   "metadata": {},
   "outputs": [
    {
     "name": "stdin",
     "output_type": "stream",
     "text": [
      "Enter a First Number 12\n",
      "Enter a second NUmber 24\n"
     ]
    },
    {
     "data": {
      "text/plain": [
       "24"
      ]
     },
     "execution_count": 9,
     "metadata": {},
     "output_type": "execute_result"
    }
   ],
   "source": [
    "def LCM(a,b):\n",
    "    max_number = max(a,b)\n",
    "    for i in range(max_number,a*b+1, max_number):\n",
    "        if i%a==0 and i%b==0:\n",
    "            return i\n",
    "number1 = int(input(\"Enter a First Number\"))\n",
    "number2 = int(input(\"Enter a second NUmber\"))\n",
    "LCM(number1,number2) "
   ]
  },
  {
   "cell_type": "markdown",
   "id": "cd655883-b2b7-4860-bf72-148f63a8d5e1",
   "metadata": {},
   "source": [
    "                                     If else "
   ]
  },
  {
   "cell_type": "markdown",
   "id": "dcaee847-1f1d-4f39-b63e-1e1f3c25265d",
   "metadata": {},
   "source": [
    "Problem 1: Write a Python program to check if a number is positive, negative, or zero using an if-else statement."
   ]
  },
  {
   "cell_type": "code",
   "execution_count": 13,
   "id": "c6422d27-bb66-4db3-b29a-615647ecad24",
   "metadata": {},
   "outputs": [
    {
     "name": "stdin",
     "output_type": "stream",
     "text": [
      "Enter a number 3\n"
     ]
    },
    {
     "name": "stdout",
     "output_type": "stream",
     "text": [
      "3 is a postive number\n"
     ]
    }
   ],
   "source": [
    "number = int(input(\"Enter a number\"))\n",
    "if number>0:\n",
    "    print(f\"{number} is a postive number\" )\n",
    "elif number<0:\n",
    "    print(f\"{number} is a negative number\" )\n",
    "else:\n",
    "    print(\"Entered number is: 0\")"
   ]
  },
  {
   "cell_type": "markdown",
   "id": "eec4e4aa-8795-40cc-8098-ef708bcf51dc",
   "metadata": {},
   "source": [
    "Problem 2: Create a Python program that checks if a given number is even or odd using an if-else statement."
   ]
  },
  {
   "cell_type": "code",
   "execution_count": 14,
   "id": "a768d786-e792-48a4-8d22-451c0b3eb82b",
   "metadata": {},
   "outputs": [
    {
     "name": "stdin",
     "output_type": "stream",
     "text": [
      "Enter a number to Check even or odd 12\n"
     ]
    },
    {
     "name": "stdout",
     "output_type": "stream",
     "text": [
      "12 is a even number\n"
     ]
    }
   ],
   "source": [
    "number = int(input(\"Enter a number to Check even or odd\"))\n",
    "if number %2 ==0:\n",
    "    print(f\"{number} is a even number\")\n",
    "else:\n",
    "    print(f\"{number} is a odd number\")"
   ]
  },
  {
   "cell_type": "markdown",
   "id": "17b3ca6b-a9ae-4a6a-b92f-2bc4c9eb878a",
   "metadata": {},
   "source": [
    "Problem 3: How can you use nested if-else statements in Python, and provide an example?"
   ]
  },
  {
   "cell_type": "code",
   "execution_count": 16,
   "id": "328d495f-b0b6-4f84-9344-9eb4d7d581ec",
   "metadata": {},
   "outputs": [
    {
     "name": "stdin",
     "output_type": "stream",
     "text": [
      "Enter a First Number 56\n",
      "Enter a Second Number 34\n"
     ]
    },
    {
     "name": "stdout",
     "output_type": "stream",
     "text": [
      "56 is a positive number and greater than 34\n"
     ]
    }
   ],
   "source": [
    "# nested if - else\n",
    "x = int(input(\"Enter a First Number\"))\n",
    "y = int(input(\"Enter a Second Number\"))\n",
    "if x>y:\n",
    "    if x>0:\n",
    "        print(f\"{x} is a positive number and greater than {y}\")\n",
    "    else:\n",
    "        print(f\"{x} is a negative number but greater than {y}\")\n",
    "else:\n",
    "    if x>0:\n",
    "        print(f\"{y} is a positive number and greater than {x}\")\n",
    "    else:\n",
    "        print(f\"{y} is a negative number but greater than {x}\")"
   ]
  },
  {
   "cell_type": "markdown",
   "id": "ebe8f0d2-8fc5-4267-a575-4432fecf713b",
   "metadata": {},
   "source": [
    "Problem 4: Write a Python program to determine the largest of three numbers using if-else."
   ]
  },
  {
   "cell_type": "code",
   "execution_count": 20,
   "id": "02157dde-6d83-42e6-aef3-7e86b1536e24",
   "metadata": {},
   "outputs": [
    {
     "name": "stdin",
     "output_type": "stream",
     "text": [
      "Enter a First Number 23\n",
      "Enter a Second Number 45\n",
      "Enter a Third Number 11\n"
     ]
    },
    {
     "name": "stdout",
     "output_type": "stream",
     "text": [
      "45 is the largest number\n"
     ]
    }
   ],
   "source": [
    "a = int(input(\"Enter a First Number\"))\n",
    "b = int(input(\"Enter a Second Number\"))\n",
    "c = int(input(\"Enter a Third Number\"))\n",
    "if a>b and b>c:\n",
    "    print(f\"{a} is the largest number\")\n",
    "elif b>a and a>c:\n",
    "    print(f\"{b} is the largest number\")\n",
    "else:\n",
    "    print(f\"{c} is the largest number\")"
   ]
  },
  {
   "cell_type": "markdown",
   "id": "b60f384f-3e34-46ae-ba46-3d0eaed67000",
   "metadata": {},
   "source": [
    "Problem 5: Write a Python program that calculates the absolute value of a number using if-else."
   ]
  },
  {
   "cell_type": "code",
   "execution_count": 24,
   "id": "1a9d5df9-574a-4b24-8966-e48797dd3daa",
   "metadata": {},
   "outputs": [
    {
     "name": "stdin",
     "output_type": "stream",
     "text": [
      "Enter a Number -12\n"
     ]
    },
    {
     "data": {
      "text/plain": [
       "12"
      ]
     },
     "execution_count": 24,
     "metadata": {},
     "output_type": "execute_result"
    }
   ],
   "source": [
    "def AbsValue(n):\n",
    "    if n>0:\n",
    "        return n\n",
    "    else:\n",
    "        return -n\n",
    "number = int(input(\"Enter a Number\"))\n",
    "AbsValue(number)"
   ]
  },
  {
   "cell_type": "markdown",
   "id": "cd0b7e77-2f67-4907-97e6-3632171cf705",
   "metadata": {},
   "source": [
    "Problem 6: Create a Python program that checks if a given character is a vowel or consonant using if-else."
   ]
  },
  {
   "cell_type": "code",
   "execution_count": 26,
   "id": "1591f63c-2bfb-45a3-8878-2421c74b05ce",
   "metadata": {},
   "outputs": [
    {
     "name": "stdin",
     "output_type": "stream",
     "text": [
      "Enter a character: d\n"
     ]
    },
    {
     "name": "stdout",
     "output_type": "stream",
     "text": [
      "d is a consonant\n"
     ]
    }
   ],
   "source": [
    "char_input = input(\"Enter a character:\")\n",
    "vowels = \"aeiouAEIOU\"\n",
    "if len(char_input)==1:\n",
    "    if char_input in vowels:\n",
    "        print(f\"{char_input} is a vowel\")\n",
    "    else:\n",
    "        print(f\"{char_input} is a consonant\")\n",
    "else:\n",
    "    print(\"please enter a valid char\")"
   ]
  },
  {
   "cell_type": "markdown",
   "id": "58bf3e0c-b87a-456e-a9b4-a4176c7a3713",
   "metadata": {},
   "source": [
    "Problem 7: Write a Python program to determine if a user is eligible to vote based on their age using if-else."
   ]
  },
  {
   "cell_type": "code",
   "execution_count": 29,
   "id": "ad11a171-e88a-4639-9dd4-f205bc9763a8",
   "metadata": {},
   "outputs": [
    {
     "name": "stdin",
     "output_type": "stream",
     "text": [
      "Enter Age:  11\n"
     ]
    },
    {
     "name": "stdout",
     "output_type": "stream",
     "text": [
      "Person is not eligible for vote\n"
     ]
    }
   ],
   "source": [
    "age = int(input(\"Enter Age: \"))\n",
    "if age>=18:\n",
    "    print(\"Person is eligible for Vote\")\n",
    "else:\n",
    "    print(\"Person is not eligible for vote\")"
   ]
  },
  {
   "cell_type": "markdown",
   "id": "e9c40c1d-d9e5-431c-b532-20a0d8aa2488",
   "metadata": {},
   "source": [
    "Problem 8: Create a Python program that calculates the discount amount based on the purchase amount using if-else."
   ]
  },
  {
   "cell_type": "code",
   "execution_count": null,
   "id": "67f55739-fa4c-4682-9eb2-0c7208193e5f",
   "metadata": {},
   "outputs": [],
   "source": [
    "purchase_amount = float(input(\"Enter the purchase amount: \"))\n",
    "\n",
    "if purchase_amount > 100:\n",
    "    discount = purchase_amount * 0.1  # 10% discount for purchases over $100\n",
    "else:\n",
    "    discount = 0\n",
    "\n",
    "print(f\"Discount amount: ${discount:.2f}\")"
   ]
  },
  {
   "cell_type": "markdown",
   "id": "bb28b7ee-15a6-4498-b1f8-eab69c40a485",
   "metadata": {},
   "source": [
    "Problem 9: Write a Python program to check if a number is within a specified range using if-else."
   ]
  },
  {
   "cell_type": "code",
   "execution_count": 7,
   "id": "2b867d75-ab3f-4872-8e75-e99bab2f3f1c",
   "metadata": {},
   "outputs": [
    {
     "name": "stdin",
     "output_type": "stream",
     "text": [
      "Enter a Number:  12\n",
      "Enter a Minimum Range:  13\n",
      "Enter a Maximum Range:  14\n"
     ]
    },
    {
     "name": "stdout",
     "output_type": "stream",
     "text": [
      "12 does not exist in this range 13 , 14\n"
     ]
    }
   ],
   "source": [
    "number = int(input(\"Enter a Number: \"))\n",
    "min_range = int(input(\"Enter a Minimum Range: \"))\n",
    "max_range = int(input(\"Enter a Maximum Range: \"))\n",
    "\n",
    "def CheckNumberExistInGivenRange(min_a,max_b,n):\n",
    "    if n>=min_a and n<=max_b:\n",
    "        print(f\"{n} exists in this range {min_a} , {max_b}\")\n",
    "    else:\n",
    "        print(f\"{n} does not exist in this range {min_a} , {max_b}\")\n",
    "\n",
    "CheckNumberExistInGivenRange(min_range,max_range,number)"
   ]
  },
  {
   "cell_type": "markdown",
   "id": "3fa07c2e-1819-4782-8a43-dc0135b07008",
   "metadata": {},
   "source": [
    "Problem 10: Create a Python program that determines the grade of a student based on their score using if-else."
   ]
  },
  {
   "cell_type": "code",
   "execution_count": null,
   "id": "660ffbea-d7e9-48dd-98c7-999d855cec6c",
   "metadata": {},
   "outputs": [],
   "source": [
    "def calculate_grade(score):\n",
    "    if score >= 90:\n",
    "        return \"A\"\n",
    "    elif score >= 80:\n",
    "        return \"B\"\n",
    "    elif score >= 70:\n",
    "        return \"C\"\n",
    "    elif score >= 60:\n",
    "        return \"D\"\n",
    "    else:\n",
    "        return \"F\"\n",
    "\n",
    "# Example usage:\n",
    "score = float(input(\"Enter the student's score: \"))\n",
    "\n",
    "grade = calculate_grade(score)\n",
    "print(\"The student's grade is:\", grade)"
   ]
  },
  {
   "cell_type": "markdown",
   "id": "480e5b35-237f-4dd5-a6e2-6667d1842abd",
   "metadata": {},
   "source": [
    "Problem 11: Write a Python program to check if a string is empty or not using if-else."
   ]
  },
  {
   "cell_type": "code",
   "execution_count": 23,
   "id": "2fbc2df3-2ad1-464d-bb37-84199a5dd128",
   "metadata": {},
   "outputs": [
    {
     "name": "stdin",
     "output_type": "stream",
     "text": [
      "Enter a string to check \n"
     ]
    },
    {
     "name": "stdout",
     "output_type": "stream",
     "text": [
      "String is Empty\n"
     ]
    }
   ],
   "source": [
    "str1 = input(\"Enter a string to check\")\n",
    "if len(str1)==0:\n",
    "    print(\"String is Empty\")\n",
    "else:\n",
    "    print(\"String is not Empty\")"
   ]
  },
  {
   "cell_type": "markdown",
   "id": "929bf54a-2d18-42d3-b255-ba6090625375",
   "metadata": {},
   "source": [
    "Problem 12: Create a Python program that identifies the type of a triangle (e.g., equilateral, isosceles, or scalene) based on input values using if-else."
   ]
  },
  {
   "cell_type": "code",
   "execution_count": 30,
   "id": "57ac5d61-eb76-4391-825e-ef77db629eab",
   "metadata": {},
   "outputs": [
    {
     "name": "stdin",
     "output_type": "stream",
     "text": [
      "Enter first side of Triangle 6\n",
      "Enter a Second Side of Triangle 6\n",
      "Enter a Third side of Triangle 6\n"
     ]
    },
    {
     "name": "stdout",
     "output_type": "stream",
     "text": [
      "Triangle is Equilateral\n"
     ]
    }
   ],
   "source": [
    "a = int(input(\"Enter first side of Triangle\"))\n",
    "b = int(input(\"Enter a Second Side of Triangle\"))\n",
    "c = int(input(\"Enter a Third side of Triangle\"))\n",
    "if a == b == c:\n",
    "    print(\"Triangle is Equilateral\")\n",
    "elif a== b or a==c or b==c:\n",
    "    print(\"Triangle is Isosceles\")\n",
    "else:\n",
    "    print(\"Triangle is Scalene\")"
   ]
  },
  {
   "cell_type": "markdown",
   "id": "939ff7cc-b198-41d8-9c02-34a2595a7c7f",
   "metadata": {},
   "source": [
    "Problem 13: Write a Python program to determine the day of the week based on a user-provided number using if-else."
   ]
  },
  {
   "cell_type": "code",
   "execution_count": null,
   "id": "f1bd7124-5d23-450e-bcac-c37177cfa239",
   "metadata": {},
   "outputs": [],
   "source": [
    "def findDay(number):\n",
    "    if number >= 1 and number <=7:\n",
    "        if number==1:\n",
    "            print(\"The daye of the Week is Monday\")\n",
    "        elif number ==2:\n",
    "            print(\"The daye of the Week is Tuesday\")\n",
    "        elif number ==3:\n",
    "            print(\"The daye of the Week is Wednessday\")\n",
    "        elif number ==4:\n",
    "            print(\"The daye of the Week is Thursday\")\n",
    "        elif number ==5:\n",
    "            print(\"The daye of the Week is Friday\")\n",
    "        elif number ==6:\n",
    "            print(\"The daye of the Week is Saturday\")\n",
    "        else:\n",
    "            print(\"The daye of the Week is Sunday\")\n",
    "    else:\n",
    "        print(\"Please Enter a Valid day Number\")\n",
    "    \n",
    "dayNumber = int(input(\"Enter a number (1 for Monday, 2 for Tuesday, etc.):\"))\n",
    "findDay(dayNumber)"
   ]
  },
  {
   "cell_type": "markdown",
   "id": "b1019718-5fc6-4017-b586-2f3e5eeded5f",
   "metadata": {},
   "source": [
    "Problem 14: Create a Python program that checks if a given year is a leap year using both if-else and a function."
   ]
  },
  {
   "cell_type": "code",
   "execution_count": null,
   "id": "815c969f-5dc6-4353-885b-08a4cd8929f7",
   "metadata": {},
   "outputs": [],
   "source": [
    "def is_leap_year(year):\n",
    "    if year % 4 == 0:\n",
    "        return True  # Leap year if divisible by 4 but not by 100\n",
    "    else:\n",
    "        return False  # Not a leap year if not divisible by 4\n",
    "\n",
    "def is_century_year(year):\n",
    "    if year % 100 == 0:\n",
    "        return True\n",
    "    else:\n",
    "        return False\n",
    "\n",
    "# Example usage:\n",
    "year = int(input(\"Enter a year: \"))\n",
    "\n",
    "if is_leap_year(year):\n",
    "    print(year, \"is a leap year.\")\n",
    "else:\n",
    "    print(year, \"is not a leap year.\")\n",
    "\n",
    "if is_century_year(year):\n",
    "    print(year, \"is a century year.\")\n",
    "else:\n",
    "    print(year, \"is not a century year.\")"
   ]
  },
  {
   "cell_type": "markdown",
   "id": "ac670c72-2464-4bef-b3dd-664aeae34073",
   "metadata": {},
   "source": [
    "Problem 15: How do you use the \"assert\" statement in Python to add debugging checks within if-else blocks?"
   ]
  },
  {
   "cell_type": "code",
   "execution_count": null,
   "id": "34d50f70-0c87-4af6-ae4d-b3549ae02a45",
   "metadata": {},
   "outputs": [],
   "source": []
  },
  {
   "cell_type": "markdown",
   "id": "ba5390b8-0a45-4ca0-8958-16989dcb1b65",
   "metadata": {},
   "source": [
    "Problem 16: Create a Python program that determines the eligibility of a person for a senior citizen discount based on age using if-else."
   ]
  },
  {
   "cell_type": "code",
   "execution_count": 35,
   "id": "149fb25d-2d60-467e-878f-8a3c787d17d2",
   "metadata": {},
   "outputs": [
    {
     "name": "stdin",
     "output_type": "stream",
     "text": [
      "Enter your age:  67\n"
     ]
    },
    {
     "name": "stdout",
     "output_type": "stream",
     "text": [
      "Congratulations! You are eligible for a senior citizen discount.\n"
     ]
    }
   ],
   "source": [
    "age = int(input(\"Enter your age: \"))\n",
    "\n",
    "if age >= 60:\n",
    "    print(\"Congratulations! You are eligible for a senior citizen discount.\")\n",
    "else:\n",
    "    print(\"Sorry, you are not eligible for a senior citizen discount.\")"
   ]
  },
  {
   "cell_type": "markdown",
   "id": "1d41e43d-27fd-4be4-9fd1-bc81e1c62eaa",
   "metadata": {},
   "source": [
    "Problem 17: Write a Python program to categorize a given character as uppercase, lowercase, or neither using if-else."
   ]
  },
  {
   "cell_type": "code",
   "execution_count": 33,
   "id": "6f609515-345e-46fe-9915-f7845187ba5f",
   "metadata": {},
   "outputs": [
    {
     "name": "stdin",
     "output_type": "stream",
     "text": [
      "Enter a Char #\n"
     ]
    },
    {
     "name": "stdout",
     "output_type": "stream",
     "text": [
      "# is niether lowercase nor uppercase\n"
     ]
    }
   ],
   "source": [
    "char1 = input(\"Enter a Char\")\n",
    "if char1.isupper():\n",
    "    print(f\"{char1} is in uppercase\")\n",
    "elif char1.islower():\n",
    "    print(f\"{char1} is in lowercase\")\n",
    "else:\n",
    "    print(f\"{char1} is niether lowercase nor uppercase\")"
   ]
  },
  {
   "cell_type": "markdown",
   "id": "0bf80caf-7fb1-4155-b548-38a1dbd7a723",
   "metadata": {},
   "source": [
    "Problem 18: Write a Python program to determine the roots of a quadratic equation using if-else."
   ]
  },
  {
   "cell_type": "code",
   "execution_count": null,
   "id": "84f6e007-f659-4bfb-9ca5-b9044c07087c",
   "metadata": {},
   "outputs": [],
   "source": [
    "import math\n",
    "def findRoot(a,b,c):\n",
    "    discriminant = b**2 - 4*a*c\n",
    "    if discriminant>0:\n",
    "        root1 = (-b + math.sqrt(discriminant)) / (2*a)\n",
    "        root2 = (-b - math.sqrt(discriminant)) / (2*a)\n",
    "        print(\"Roots are real and different.\")\n",
    "        print(\"Root 1:\", root1)\n",
    "        print(\"Root 2:\", root2)\n",
    "    elif discriminant ==0:\n",
    "        root = -b / (2*a)\n",
    "        print(\"Roots are real and same.\")\n",
    "        print(\"Root:\", root)\n",
    "    else:\n",
    "        real_part = -b / (2*a)\n",
    "        imaginary_part = math.sqrt(abs(discriminant)) / (2*a)\n",
    "        print(\"Roots are complex.\")\n",
    "        print(\"Root 1:\", real_part, \"+\", imaginary_part, \"i\")\n",
    "        print(\"Root 2:\", real_part, \"-\", imaginary_part, \"i\")\n",
    "        \n",
    "a = int(input(\"Enter a Coefficient of x**2:\"))\n",
    "b = int(input(\"Enter a Coefficient of x:\"))\n",
    "c = int(input(\"Enter a Coefficient of Conatan:\"))\n",
    "findRoot(a,b,c)"
   ]
  },
  {
   "cell_type": "markdown",
   "id": "5b203b80-501b-4bb4-8963-2911738666da",
   "metadata": {},
   "source": [
    "Problem 19: Create a Python program that checks if a given year is a century year or not using if-else."
   ]
  },
  {
   "cell_type": "code",
   "execution_count": null,
   "id": "a2e0086c-d9fe-4582-8e8e-b9515ffcebd6",
   "metadata": {},
   "outputs": [],
   "source": [
    "def is_leap_year(year):\n",
    "    if year % 4 == 0:\n",
    "        return True  # Leap year if divisible by 4 but not by 100\n",
    "    else:\n",
    "        return False  # Not a leap year if not divisible by 4\n",
    "\n",
    "def is_century_year(year):\n",
    "    if year % 100 == 0:\n",
    "        return True\n",
    "    else:\n",
    "        return False\n",
    "\n",
    "# Example usage:\n",
    "year = int(input(\"Enter a year: \"))\n",
    "\n",
    "if is_leap_year(year):\n",
    "    print(year, \"is a leap year.\")\n",
    "else:\n",
    "    print(year, \"is not a leap year.\")\n",
    "\n",
    "if is_century_year(year):\n",
    "    print(year, \"is a century year.\")\n",
    "else:\n",
    "    print(year, \"is not a century year.\")"
   ]
  },
  {
   "cell_type": "markdown",
   "id": "be84a0f1-3f4f-4587-b996-25c6f533f58d",
   "metadata": {},
   "source": [
    "Problem 20: Write a Python program to determine if a given number is a perfect square using if-else."
   ]
  },
  {
   "cell_type": "code",
   "execution_count": 38,
   "id": "f6e20979-ed13-4f53-8ffd-cd97fc2aced2",
   "metadata": {},
   "outputs": [
    {
     "name": "stdin",
     "output_type": "stream",
     "text": [
      "Enter a Number to check it is perfect square or not 67\n"
     ]
    },
    {
     "name": "stdout",
     "output_type": "stream",
     "text": [
      "67 is a not perfect square\n"
     ]
    }
   ],
   "source": [
    "import math\n",
    "number = int(input(\"Enter a Number to check it is perfect square or not\"))\n",
    "if number>=0:\n",
    "    sr = int(math.sqrt(number))\n",
    "    if sr*sr ==number:\n",
    "        print(f\"{number} is a perfect square\")\n",
    "    else:\n",
    "        print(f\"{number} is a not perfect square\")"
   ]
  },
  {
   "cell_type": "markdown",
   "id": "25d3d602-daf7-4dd1-9500-d6ca80742313",
   "metadata": {},
   "source": [
    "Problem 21: Explain the purpose of the \"continue\" and \"break\" statements within if-else loops."
   ]
  },
  {
   "cell_type": "markdown",
   "id": "47287a23-2508-4dd2-8a4d-bba0fd327c66",
   "metadata": {},
   "source": [
    "continue: When the continue statement is encountered within a loop, the current iteration of the loop is stopped, \n",
    "and the program moves to the next iteration"
   ]
  },
  {
   "cell_type": "code",
   "execution_count": 7,
   "id": "52f30b62-bb85-49d1-9282-2d4d96f572d7",
   "metadata": {},
   "outputs": [
    {
     "name": "stdout",
     "output_type": "stream",
     "text": [
      "1\n",
      "3\n",
      "5\n",
      "7\n",
      "9\n"
     ]
    }
   ],
   "source": [
    "for i in range(1, 11):\n",
    "    if i % 2 == 0:\n",
    "        continue  # Skip even numbers\n",
    "    print(i)"
   ]
  },
  {
   "cell_type": "markdown",
   "id": "384796b6-5c58-4101-8784-7383c8bb3fae",
   "metadata": {},
   "source": [
    "break: When the break statement is encountered within a loop, it immediately terminates the loop, regardless of whether the loop condition has been satisfied or not"
   ]
  },
  {
   "cell_type": "code",
   "execution_count": 8,
   "id": "17c6a22a-f2df-4a12-9f11-521108f72c07",
   "metadata": {},
   "outputs": [
    {
     "name": "stdout",
     "output_type": "stream",
     "text": [
      "1\n"
     ]
    }
   ],
   "source": [
    "for i in range(1, 11):\n",
    "    if i % 2 == 0:\n",
    "        break \n",
    "    print(i)"
   ]
  },
  {
   "cell_type": "markdown",
   "id": "811c12d9-3a8f-48af-8868-4c2cd225651b",
   "metadata": {},
   "source": [
    "Problem 22: Create a Python program that calculates the BMI (Body Mass Index) of a person based on their weight and height using if-else."
   ]
  },
  {
   "cell_type": "code",
   "execution_count": null,
   "id": "c61a57e8-55c7-47e2-ac3c-a97bbe702c89",
   "metadata": {},
   "outputs": [],
   "source": [
    "weight = float(input(\"Enter your weight in kilograms: \"))\n",
    "height = float(input(\"Enter your height in meters: \"))\n",
    "\n",
    "# Calculate BMI\n",
    "bmi = weight / (height ** 2)\n",
    "\n",
    "print(\"Your BMI is:\", bmi)\n",
    "\n",
    "# Determine BMI category\n",
    "if bmi < 18.5:\n",
    "    print(\"You are underweight.\")\n",
    "elif bmi < 25:\n",
    "    print(\"Your weight is normal.\")\n",
    "elif bmi < 30:\n",
    "    print(\"You are overweight.\")\n",
    "else:\n",
    "    print(\"You are obese.\")"
   ]
  },
  {
   "cell_type": "markdown",
   "id": "e96de89f-1883-4fa4-b70e-d3acd52739b7",
   "metadata": {},
   "source": [
    "Problem 23: How can you use the \"filter()\" function with if-else statements to filter elements from a list?"
   ]
  },
  {
   "cell_type": "code",
   "execution_count": 1,
   "id": "59b1fa4a-8ac9-4d0d-9d41-3c075577a6c2",
   "metadata": {},
   "outputs": [
    {
     "name": "stdout",
     "output_type": "stream",
     "text": [
      "[2, 4, 6, 8, 10]\n"
     ]
    }
   ],
   "source": [
    "def evenNumber(x):\n",
    "    return x%2==0\n",
    "\n",
    "list_a = [1,2,3,4,5,6,7,8,9,10]\n",
    "even_number = list(filter(evenNumber,list_a))\n",
    "print(even_number)"
   ]
  },
  {
   "cell_type": "markdown",
   "id": "5962435d-9935-4034-821f-786bb6329c3b",
   "metadata": {},
   "source": [
    "Problem 24: Write a Python program to determine if a given number is prime or not using if-else."
   ]
  },
  {
   "cell_type": "code",
   "execution_count": 19,
   "id": "9e0c7d9e-0a7b-49dc-8d7b-2a8f3be90374",
   "metadata": {},
   "outputs": [
    {
     "name": "stdin",
     "output_type": "stream",
     "text": [
      "Enter a number to check it is prime or not: 4\n"
     ]
    },
    {
     "name": "stdout",
     "output_type": "stream",
     "text": [
      "4 is a not prime number\n"
     ]
    }
   ],
   "source": [
    "import math\n",
    "number = int(input(\"Enter a number to check it is prime or not:\"))\n",
    "if number<=1:\n",
    "    print(\"Please enter a valid number\")\n",
    "else:\n",
    "    if number == 2:\n",
    "        print(f\"{number} is a prime number\")\n",
    "    else:\n",
    "        for i in range(2,int(math.sqrt(number))+1):\n",
    "            if number%i==0:\n",
    "                print(f\"{number} is a not prime number\")\n",
    "                break\n",
    "        else:\n",
    "            print(f\"{number} is a prime number\")"
   ]
  },
  {
   "cell_type": "markdown",
   "id": "5dfe4081-cfee-4b2b-9adb-963cf6513e4c",
   "metadata": {},
   "source": [
    "                                        Map"
   ]
  },
  {
   "cell_type": "markdown",
   "id": "12a1dca2-a644-4a0b-b3df-cb42689e1776",
   "metadata": {},
   "source": [
    "Problem 1 : Explain the purpose of the `map()` function in Python and provide an example of how it can be used to apply a function to each element of an iterable."
   ]
  },
  {
   "cell_type": "markdown",
   "id": "70438e9b-697b-48e0-8c43-4f3457f84a03",
   "metadata": {},
   "source": [
    "The map() function in Python is used to apply a specified function to each item in an iterable (like a list, tuple, or dictionary) and returns an iterator that yields the results. "
   ]
  },
  {
   "cell_type": "code",
   "execution_count": 3,
   "id": "c827d7a1-97cd-4067-b138-15ccd0656bde",
   "metadata": {},
   "outputs": [
    {
     "name": "stdout",
     "output_type": "stream",
     "text": [
      "[1, 4, 9, 16, 25, 36]\n"
     ]
    }
   ],
   "source": [
    "list_a = [1,2,3,4,5,6]\n",
    "def square(x):\n",
    "    return x**2\n",
    "square_list = map(square,list_a)\n",
    "print(list(square_list))"
   ]
  },
  {
   "cell_type": "markdown",
   "id": "2de93c8a-8b20-4b2d-b72e-8dd3aa60cd50",
   "metadata": {},
   "source": [
    "Problem 2 : Write a Python program that uses the `map()` function to square each element of a list of numbers."
   ]
  },
  {
   "cell_type": "code",
   "execution_count": 2,
   "id": "b720bcb0-80d3-40fb-b573-a8e145eba823",
   "metadata": {},
   "outputs": [
    {
     "name": "stdout",
     "output_type": "stream",
     "text": [
      "[1, 4, 9, 16, 25, 36]\n"
     ]
    }
   ],
   "source": [
    "list_a = [1,2,3,4,5,6]\n",
    "def square(x):\n",
    "    return x**2\n",
    "square_list = map(square,list_a)\n",
    "print(list(square_list))"
   ]
  },
  {
   "cell_type": "markdown",
   "id": "114bbdc5-19db-4a54-8f48-3cd19e4c8fbe",
   "metadata": {},
   "source": [
    "Problem 3 : How does the `map()` function differ from a list comprehension in Python, and when would you choose one over the other?"
   ]
  },
  {
   "cell_type": "markdown",
   "id": "5d0b77f2-b78a-456f-9615-2bbfe70c08fa",
   "metadata": {},
   "source": [
    "Both map() and list comprehensions in Python can be used to apply a function to each element of an iterable. However, they differ in their syntax and sometimes in their use cases.\n",
    "\n",
    "Performance:\n",
    "In terms of performance, list comprehensions are generally faster than map() because they are implemented at the C level.\n",
    "However, the difference in performance might not be significant for small datasets."
   ]
  },
  {
   "cell_type": "markdown",
   "id": "e511dda9-6307-4e3e-bb9c-eaf6f45fa285",
   "metadata": {},
   "source": [
    "Problem 4 : Create a Python program that uses the `map()` function to convert a list of names to uppercase."
   ]
  },
  {
   "cell_type": "code",
   "execution_count": 6,
   "id": "da58de51-c40a-48a3-bcd2-77bafefdc14a",
   "metadata": {},
   "outputs": [
    {
     "name": "stdout",
     "output_type": "stream",
     "text": [
      "['MANEESH', 'KUMAR', 'RAGHU', 'YADAV']\n"
     ]
    }
   ],
   "source": [
    "list_names = [\"maneesh\",\"kumar\",\"raghu\",\"yadav\"]\n",
    "def convertToUpper(x):\n",
    "    return x.upper()\n",
    "uppercaseList = list(map(convertToUpper,list_names))\n",
    "print(uppercaseList)"
   ]
  },
  {
   "cell_type": "markdown",
   "id": "f131e1ea-0cee-4269-989b-2d306cd3df02",
   "metadata": {},
   "source": [
    "Problem 5 : Write a Python program that uses the `map()` function to calculate the length of each word in a list of strings."
   ]
  },
  {
   "cell_type": "code",
   "execution_count": 8,
   "id": "c5b94fab-c8c7-4c21-bce8-81aa6ef683a7",
   "metadata": {},
   "outputs": [
    {
     "name": "stdout",
     "output_type": "stream",
     "text": [
      "[7, 5, 5, 5]\n"
     ]
    }
   ],
   "source": [
    "list_names = [\"maneesh\",\"kumar\",\"raghu\",\"yadav\"]\n",
    "def wordLength(x):\n",
    "    return len(x)\n",
    "list_of_word_length = list(map(wordLength,list_names))\n",
    "print(list_of_word_length)"
   ]
  },
  {
   "cell_type": "markdown",
   "id": "1ee50589-852c-4d1c-8ed5-035e0d007737",
   "metadata": {},
   "source": [
    "Problem 6 : How can you use the `map()` function to apply a custom function to elements of multiple lists simultaneously in Python?"
   ]
  },
  {
   "cell_type": "code",
   "execution_count": 11,
   "id": "1f34dc0f-c557-45e3-806b-b4bdc213dec8",
   "metadata": {},
   "outputs": [
    {
     "name": "stdout",
     "output_type": "stream",
     "text": [
      "Result of adding corresponding elements: [11, 22, 33, 44, 55]\n"
     ]
    }
   ],
   "source": [
    "def add_lists(x, y):\n",
    "    return x + y\n",
    "\n",
    "# Two lists to be added\n",
    "list1 = [1, 2, 3, 4, 5]\n",
    "list2 = [10, 20, 30, 40, 50]\n",
    "\n",
    "# Using map() to apply the add_lists function to corresponding elements of the lists\n",
    "result = list(map(add_lists, list1, list2))\n",
    "\n",
    "# Printing the result\n",
    "print(\"Result of adding corresponding elements:\", result)"
   ]
  },
  {
   "cell_type": "markdown",
   "id": "ce307d69-de4f-45bb-bc8e-ed01b5fbae17",
   "metadata": {},
   "source": [
    "Problem 7 : Create a Python program that uses `map()` to convert a list of temperatures from Celsius to Fahrenheit."
   ]
  },
  {
   "cell_type": "code",
   "execution_count": 9,
   "id": "e7b48ee1-2350-4f29-bd76-3e30d22410ca",
   "metadata": {},
   "outputs": [
    {
     "name": "stdout",
     "output_type": "stream",
     "text": [
      "[50.0, 68.0, 77.0, 73.4, 95.0]\n"
     ]
    }
   ],
   "source": [
    "list_of_celsius_temp = [10,20,25,23,35]\n",
    "def convertCelsiusToFahrenheit(celsius):\n",
    "    fahrenheit = (celsius * 9/5) + 32\n",
    "    return fahrenheit\n",
    "list_of_fahrenheit = list(map(convertCelsiusToFahrenheit,list_of_celsius_temp))\n",
    "print(list_of_fahrenheit)"
   ]
  },
  {
   "cell_type": "markdown",
   "id": "fdc135c0-1311-4177-ba7d-e45d282d9c07",
   "metadata": {},
   "source": [
    "Problem 8 : Write a Python program that uses the `map()` function to round each element of a list of floating-point numbers to the nearest integer."
   ]
  },
  {
   "cell_type": "code",
   "execution_count": 10,
   "id": "cccb8274-04f4-4b05-b464-2762365b464d",
   "metadata": {},
   "outputs": [
    {
     "name": "stdout",
     "output_type": "stream",
     "text": [
      "[3, 3, 2, 5, 6]\n"
     ]
    }
   ],
   "source": [
    "float_numbers = [3.14, 2.718, 1.618, 4.669, 6.022]\n",
    "\n",
    "def round_to_nearest_Integer(num):\n",
    "    return round(num)\n",
    "\n",
    "updated_list = list(map(round_to_nearest_Integer,float_numbers))\n",
    "print(updated_list)"
   ]
  },
  {
   "cell_type": "markdown",
   "id": "ba84f1c3-9d40-468e-a612-1b385386b351",
   "metadata": {},
   "source": [
    "                                                            Reduce"
   ]
  },
  {
   "cell_type": "markdown",
   "id": "1dfb7f9d-718a-47e0-bea6-9fdb298ea8a8",
   "metadata": {},
   "source": [
    "Problem 1 : What is the `reduce()` function in Python, and what module should you import to use it? Provide an example of its basic usage."
   ]
  },
  {
   "cell_type": "markdown",
   "id": "c68e6b05-3036-4da1-878d-c7a83109288f",
   "metadata": {},
   "source": [
    "The reduce() function in Python is used to apply a function iteratively to the elements of an iterable, reducing them to a single cumulative value. It's part of the functools module, so you need to import functools to use it.\n",
    "from functools import reduce"
   ]
  },
  {
   "cell_type": "markdown",
   "id": "759fc36c-6ab8-4a38-8dc5-867a9323beb2",
   "metadata": {},
   "source": [
    "Problem 2 : Write a Python program that uses the `reduce()` function to find the product of all elements in a list."
   ]
  },
  {
   "cell_type": "code",
   "execution_count": 3,
   "id": "2a00d6c2-f3f7-4ac7-989c-e52ac97e24be",
   "metadata": {},
   "outputs": [
    {
     "name": "stdout",
     "output_type": "stream",
     "text": [
      "720\n"
     ]
    }
   ],
   "source": [
    "from functools import reduce\n",
    "def product(x,y):\n",
    "    return x*y\n",
    "\n",
    "list_b = [1,2,3,4,5,6]\n",
    "product_list_element = reduce(product,list_b)\n",
    "print(product_list_element)"
   ]
  },
  {
   "cell_type": "markdown",
   "id": "849db448-31ff-4dd8-adb4-c457b120a684",
   "metadata": {},
   "source": [
    "Problem 3 : Create a Python program that uses `reduce()` to find the maximum element in a list of numbers."
   ]
  },
  {
   "cell_type": "code",
   "execution_count": 4,
   "id": "2aea92d9-33c9-4635-b3c3-713c177d16ca",
   "metadata": {},
   "outputs": [
    {
     "data": {
      "text/plain": [
       "6"
      ]
     },
     "execution_count": 4,
     "metadata": {},
     "output_type": "execute_result"
    }
   ],
   "source": [
    "def max_element(x,y):\n",
    "    if x>y:\n",
    "        return x\n",
    "    else:\n",
    "        return y\n",
    "list_b = [1,2,3,4,5,6]\n",
    "maximum_element = reduce(max_element,list_b)\n",
    "maximum_element"
   ]
  },
  {
   "cell_type": "markdown",
   "id": "7bee51e5-d094-4d61-9e47-1b1eeda4973e",
   "metadata": {},
   "source": [
    "Problem 4 : How can you use the `reduce()` function to concatenate a list of strings into a single string?"
   ]
  },
  {
   "cell_type": "code",
   "execution_count": 5,
   "id": "21b20a93-f623-4060-8209-89859fc07ee1",
   "metadata": {},
   "outputs": [
    {
     "name": "stdout",
     "output_type": "stream",
     "text": [
      "thisisagoodplayer\n"
     ]
    }
   ],
   "source": [
    "def concatenateString(x,y):\n",
    "    return x+y\n",
    "list_b = [\"this\",\"is\",\"a\",\"good\",\"player\"]\n",
    "final_string = reduce(concatenateString,list_b)\n",
    "print(final_string)"
   ]
  },
  {
   "cell_type": "markdown",
   "id": "cf89714e-5935-427b-8613-09123cf762d0",
   "metadata": {},
   "source": [
    "Problem 5 : Write a Python program that calculates the factorial of a number using the `reduce()` function."
   ]
  },
  {
   "cell_type": "code",
   "execution_count": 10,
   "id": "a1e56a7c-280f-42dc-84b8-1acdfba4aad0",
   "metadata": {},
   "outputs": [
    {
     "name": "stdin",
     "output_type": "stream",
     "text": [
      "Input a number to Calculate Factorial:  5\n"
     ]
    },
    {
     "name": "stdout",
     "output_type": "stream",
     "text": [
      "Factorial of given number 5:  120\n"
     ]
    }
   ],
   "source": [
    "def multiply(x,y):\n",
    "    return x*y\n",
    "def Factorial(n):\n",
    "    if n<0:\n",
    "        return \"Factorial is not defined for negative number\"\n",
    "    elif n==0:\n",
    "        return 1\n",
    "    else:\n",
    "        return reduce(multiply,range(1,n+1))\n",
    "number = int(input(\"Input a number to Calculate Factorial: \"))\n",
    "fact = Factorial(number) \n",
    "print(f\"Factorial of given number {number}: \",fact)"
   ]
  },
  {
   "cell_type": "markdown",
   "id": "d2a2fd3c-bd60-44f4-964a-7b2ec742ed2a",
   "metadata": {},
   "source": [
    "Problem 6 : Create a Python program that uses `reduce()` to find the GCD (Greatest Common Divisor) of a list of numbers."
   ]
  },
  {
   "cell_type": "code",
   "execution_count": 13,
   "id": "6b6e9159-4b8f-4758-857e-6a5d8c6a77a5",
   "metadata": {},
   "outputs": [
    {
     "name": "stdout",
     "output_type": "stream",
     "text": [
      "The GCD of [24, 36, 48, 60] is: 12\n"
     ]
    }
   ],
   "source": [
    "def gcd(x, y):\n",
    "    while y != 0:\n",
    "        x, y = y, x % y\n",
    "    return x\n",
    "def gcd_of_list(numbers):\n",
    "    return reduce(gcd, numbers)\n",
    "\n",
    "# Test the gcd_of_list function\n",
    "numbers = [24, 36, 48, 60]\n",
    "print(f\"The GCD of {numbers} is: {gcd_of_list(numbers)}\")"
   ]
  },
  {
   "cell_type": "markdown",
   "id": "bf865244-9fda-4e94-b398-b2b24aaf2c5c",
   "metadata": {},
   "source": [
    "Problem 7 : Write a Python program that uses the `reduce()` function to find the sum of the digits of a given number."
   ]
  },
  {
   "cell_type": "code",
   "execution_count": 12,
   "id": "3cd78183-b95e-4892-8517-bc40bdb61d26",
   "metadata": {},
   "outputs": [
    {
     "data": {
      "text/plain": [
       "28"
      ]
     },
     "execution_count": 12,
     "metadata": {},
     "output_type": "execute_result"
    }
   ],
   "source": [
    "def sum_of_digits(numbers):\n",
    "    digitlist = [int(digit) for digit in str(numbers)]\n",
    "    return reduce(lambda x,y:x+y,digitlist)\n",
    "numbers = 1234567\n",
    "sum_of_digits(numbers)"
   ]
  },
  {
   "cell_type": "markdown",
   "id": "3838d38f-1e64-41c4-845a-707f02e2de37",
   "metadata": {},
   "source": [
    "                                                             Filter"
   ]
  },
  {
   "cell_type": "markdown",
   "id": "745b3940-9567-425e-9969-e8d4998989b9",
   "metadata": {},
   "source": [
    "Problem 1: Explain the purpose of the `filter()` function in Python and provide an example of how it can be used to filter elements from an iterable."
   ]
  },
  {
   "cell_type": "markdown",
   "id": "d25aa33c-7329-4d66-b490-c3e23aa63493",
   "metadata": {},
   "source": [
    "The filter() function in Python is used to create a new iterable (typically a list) by filtering out elements from an existing iterable (such as a list or tuple) for which a provided function returns True. Essentially, it allows you to selectively include elements based on a condition."
   ]
  },
  {
   "cell_type": "markdown",
   "id": "ddcb3cc9-7b2f-45d2-81fa-1ffa1813d51d",
   "metadata": {},
   "source": [
    "Problem 2 : Write a Python program that uses the `filter()` function to select even numbers from a list of integers."
   ]
  },
  {
   "cell_type": "code",
   "execution_count": 15,
   "id": "f1c02a99-19c2-4e98-84ee-3714d4493b41",
   "metadata": {},
   "outputs": [
    {
     "name": "stdout",
     "output_type": "stream",
     "text": [
      "[2, 4, 6, 8, 10]\n"
     ]
    }
   ],
   "source": [
    "list_b = [1,2,3,4,5,6,7,8,9,10]\n",
    "def is_even(n):\n",
    "    return n%2==0\n",
    "even_numbers = list(filter(is_even,list_b))\n",
    "print(even_numbers)"
   ]
  },
  {
   "cell_type": "markdown",
   "id": "a15b9a09-2b64-440a-beda-b79699bb9c20",
   "metadata": {},
   "source": [
    "Problem 3 : Create a Python program that uses the `filter()` function to select names that start with a specific letter from a list of strings."
   ]
  },
  {
   "cell_type": "code",
   "execution_count": 19,
   "id": "f0ee9ffb-b2c0-4f90-a02d-bf7c4aa29a77",
   "metadata": {},
   "outputs": [
    {
     "name": "stdin",
     "output_type": "stream",
     "text": [
      "Enter a Letter:  m\n"
     ]
    },
    {
     "name": "stdout",
     "output_type": "stream",
     "text": [
      "['madam', 'man', 'mat']\n"
     ]
    }
   ],
   "source": [
    "list_c = [\"madam\",\"man\",\"cow\",\"dog\",\"mat\"]\n",
    "letter = input(\"Enter a Letter: \")\n",
    "def startWith(s,letter):\n",
    "    return s[0]==letter\n",
    "names = list(filter(lambda name:startWith(name,letter),list_c))\n",
    "print(names)"
   ]
  },
  {
   "cell_type": "markdown",
   "id": "d3460a13-7978-4c78-bcbb-7f77f148c776",
   "metadata": {},
   "source": [
    "Problem 4 : Write a Python program that uses the `filter()` function to select prime numbers from a list of integers."
   ]
  },
  {
   "cell_type": "code",
   "execution_count": 49,
   "id": "0db4c77c-8cae-4dd7-969e-dc43cd18774d",
   "metadata": {},
   "outputs": [
    {
     "data": {
      "text/plain": [
       "[2, 3, 5, 7, 11, 13]"
      ]
     },
     "execution_count": 49,
     "metadata": {},
     "output_type": "execute_result"
    }
   ],
   "source": [
    "import math\n",
    "list_d = [1,2,3,4,5,6,7,8,9,10,11,12,13]\n",
    "def isPrime(n):\n",
    "    if n<=2:\n",
    "        if n==2:\n",
    "            return True\n",
    "        else:\n",
    "            return False\n",
    "    else:\n",
    "        for i in range(2,int(math.sqrt(n))+1):\n",
    "            if n%i==0:\n",
    "                return False\n",
    "        return True\n",
    "prime_list = list(filter(isPrime,list_d))\n",
    "prime_list"
   ]
  },
  {
   "cell_type": "markdown",
   "id": "620e3f8e-023e-42d6-a4c6-4101648e2ae8",
   "metadata": {},
   "source": [
    "Problem 5 : How can you use the `filter()` function to remove None values from a list in Python?"
   ]
  },
  {
   "cell_type": "code",
   "execution_count": 55,
   "id": "d3452946-efb4-49e3-954e-6bf31e88cb9c",
   "metadata": {},
   "outputs": [
    {
     "data": {
      "text/plain": [
       "[1, 3, 5, 6, 8]"
      ]
     },
     "execution_count": 55,
     "metadata": {},
     "output_type": "execute_result"
    }
   ],
   "source": [
    "values = [1, None, 3, None, 5, 6, None, 8]\n",
    "def remove_None(item):\n",
    "    return item is not None\n",
    "update_List = list(filter(remove_None,values))\n",
    "update_List"
   ]
  },
  {
   "cell_type": "markdown",
   "id": "d18dbb95-a057-4455-a69e-c782990c7d59",
   "metadata": {},
   "source": [
    "Problem 6 : Create a Python program that uses `filter()` to select words longer than a certain length from a list of strings."
   ]
  },
  {
   "cell_type": "code",
   "execution_count": 60,
   "id": "439a5b1a-8bb1-4146-9c1b-2cf3c65e7a5f",
   "metadata": {},
   "outputs": [
    {
     "name": "stdin",
     "output_type": "stream",
     "text": [
      "input a length:  5\n"
     ]
    },
    {
     "name": "stdout",
     "output_type": "stream",
     "text": [
      "['maneesh', 'pwskills']\n"
     ]
    }
   ],
   "source": [
    "list_p = [\"maneesh\",\"rahul\",\"mohan\",\"pwskills\",\"local\"]\n",
    "words_length = int(input(\"input a length: \"))\n",
    "def checkLength(s,l):\n",
    "    return len(s)>l\n",
    "list_words = list(filter(lambda x:checkLength(x,words_length),list_p))\n",
    "print(list_words)"
   ]
  },
  {
   "cell_type": "markdown",
   "id": "3b519c35-e397-4a12-bead-9ad2300c0bfc",
   "metadata": {},
   "source": [
    "Problem 7 : Write a Python program that uses the `filter()` function to select elements greater than a specified threshold from a list of values."
   ]
  },
  {
   "cell_type": "code",
   "execution_count": 61,
   "id": "54e8f1e1-428f-4184-b7fd-f312a5de3de2",
   "metadata": {},
   "outputs": [
    {
     "name": "stdin",
     "output_type": "stream",
     "text": [
      "input a Threshold:  11\n"
     ]
    },
    {
     "name": "stdout",
     "output_type": "stream",
     "text": [
      "[12, 24]\n"
     ]
    }
   ],
   "source": [
    "list_p = [11,12,1,2,3,4,5,6,7,8,9,24]\n",
    "element = int(input(\"input a Threshold: \"))\n",
    "def greatest(p,l):\n",
    "    return p>l\n",
    "element_list = list(filter(lambda x:greatest(x,element),list_p))\n",
    "print(element_list)"
   ]
  },
  {
   "cell_type": "markdown",
   "id": "3f55945d-a6aa-4a46-ad57-75057d899363",
   "metadata": {},
   "source": [
    "                                                           Recursion"
   ]
  },
  {
   "cell_type": "markdown",
   "id": "ad54e8cf-90aa-41b0-ac32-327c1998c9a4",
   "metadata": {},
   "source": [
    "Problem 1 :  Explain the concept of recursion in Python. How does it differ from iteration?"
   ]
  },
  {
   "cell_type": "markdown",
   "id": "af94165a-2cec-4386-a91b-e72fbd531737",
   "metadata": {},
   "source": [
    "Recursion is a programming technique where a function calls itself in order to solve a problem. In Python, \n",
    "recursion allows a function to solve a complex problem by breaking it down into smaller, more manageable subproblems. \n",
    "Each recursive call works on a smaller part of the original problem until a base case is reached, at which point the recursion stops.\n",
    "Here's a simple example of a recursive function in Python to calculate the factorial of a number:"
   ]
  },
  {
   "cell_type": "code",
   "execution_count": 10,
   "id": "06152114-4fd9-476b-8b62-0092eafa9f59",
   "metadata": {},
   "outputs": [],
   "source": [
    "def factorial(n):\n",
    "    if n == 0:\n",
    "        return 1\n",
    "    else:\n",
    "        return n * factorial(n - 1)"
   ]
  },
  {
   "cell_type": "markdown",
   "id": "d530d76d-e286-4f58-9f42-3f35d4b52c48",
   "metadata": {},
   "source": [
    "Recursion differs from iteration in that iteration involves looping constructs like for and while to repeatedly execute a block of code, whereas recursion involves a function calling itself. Both recursion and iteration can be used to solve the same problems, but they often have different performance characteristics and may be better suited to different types of problems."
   ]
  },
  {
   "cell_type": "markdown",
   "id": "9b167e09-c86c-49a7-b7b5-c1450aeef1ac",
   "metadata": {},
   "source": [
    "Problem 2 :  Write a Python program to calculate the factorial of a number using recursion."
   ]
  },
  {
   "cell_type": "code",
   "execution_count": 6,
   "id": "2946bddb-3c5d-4a3d-9119-26bfc0df01f0",
   "metadata": {},
   "outputs": [
    {
     "name": "stdout",
     "output_type": "stream",
     "text": [
      "120\n"
     ]
    }
   ],
   "source": [
    "def factorial(n):\n",
    "    if n<=1:\n",
    "        return n\n",
    "    else:\n",
    "        return n*factorial(n-1)\n",
    "print(factorial(5))"
   ]
  },
  {
   "cell_type": "markdown",
   "id": "c473427d-6455-48a1-9489-d2c5dabca81e",
   "metadata": {},
   "source": [
    "Problem 3 : Create a recursive Python function to find the nth Fibonacci number."
   ]
  },
  {
   "cell_type": "code",
   "execution_count": 1,
   "id": "6461c1a5-3610-4b53-a759-3109d1613ff0",
   "metadata": {},
   "outputs": [
    {
     "name": "stdout",
     "output_type": "stream",
     "text": [
      "5\n"
     ]
    }
   ],
   "source": [
    "def Fibonacci(n):\n",
    "    if n <= 1:\n",
    "        return n\n",
    "    else:\n",
    "        return Fibonacci(n-2)+Fibonacci(n-1)\n",
    "print(Fibonacci(5))"
   ]
  },
  {
   "cell_type": "markdown",
   "id": "9f6db856-f5ac-47f8-8dea-f85421851da0",
   "metadata": {},
   "source": [
    "Problem 4 : Write a recursive Python function to calculate the sum of all elements in a list."
   ]
  },
  {
   "cell_type": "code",
   "execution_count": 11,
   "id": "c83d6ac3-4923-4370-8ca2-41d29057b4ff",
   "metadata": {},
   "outputs": [
    {
     "data": {
      "text/plain": [
       "15"
      ]
     },
     "execution_count": 11,
     "metadata": {},
     "output_type": "execute_result"
    }
   ],
   "source": [
    "def sum_list(l):\n",
    "    if len(l)==0:\n",
    "        return 0\n",
    "    else:\n",
    "        return l[0]+sum_list(l[1:])\n",
    "list_a = [1,2,3,4,5]\n",
    "sum_list(list_a)"
   ]
  },
  {
   "cell_type": "markdown",
   "id": "0a832eda-6c0b-4d3d-989f-82f986c148c0",
   "metadata": {},
   "source": [
    "Problem 5 :  How can you prevent a recursive function from running indefinitely, causing a stack overflow error?"
   ]
  },
  {
   "cell_type": "markdown",
   "id": "b3462955-d15b-4ef2-8545-5e47dc2658bf",
   "metadata": {},
   "source": [
    "Preventing a recursive function from running indefinitely and causing a stack overflow error involves implementing proper termination conditions. Here are some strategies to achieve this:\n",
    "\n",
    "Base Case: Ensure that your recursive function has a base case that serves as the termination condition. When the base case is met, the function should stop recursing and return a result.\n",
    "\n",
    "Progress Toward Base Case: Each recursive call should move closer to the base case. This means that the parameters passed to the recursive calls should change in such a way that the base case becomes achievable."
   ]
  },
  {
   "cell_type": "markdown",
   "id": "7b0f759c-9776-4830-bbae-a45f1cf2e059",
   "metadata": {},
   "source": [
    "Problem 6 : Create a recursive Python function to find the greatest common divisor (GCD) of two numbers using the Euclidean algorithm."
   ]
  },
  {
   "cell_type": "code",
   "execution_count": 12,
   "id": "bcab2c26-8a68-4af9-91c0-9eb580069ddf",
   "metadata": {},
   "outputs": [
    {
     "data": {
      "text/plain": [
       "6"
      ]
     },
     "execution_count": 12,
     "metadata": {},
     "output_type": "execute_result"
    }
   ],
   "source": [
    "def gcd(a,b):\n",
    "    if b%a==0:\n",
    "        return a\n",
    "    else:\n",
    "        return gcd(b%a,a)\n",
    "gcd(12,6)"
   ]
  },
  {
   "cell_type": "markdown",
   "id": "c85d3b53-b02a-4696-8293-677583217478",
   "metadata": {},
   "source": [
    "Problem 7 :  Write a recursive Python function to reverse a string."
   ]
  },
  {
   "cell_type": "code",
   "execution_count": 66,
   "id": "2e217bc4-8339-4c95-bbeb-6fd05981e1ab",
   "metadata": {},
   "outputs": [
    {
     "data": {
      "text/plain": [
       "'hseenam'"
      ]
     },
     "execution_count": 66,
     "metadata": {},
     "output_type": "execute_result"
    }
   ],
   "source": [
    "def reverse_string(s):\n",
    "    if len(s)<=1:\n",
    "        return s\n",
    "    else:\n",
    "        return reverse_string(s[1:])+s[0]\n",
    "reverse_string(\"maneesh\")"
   ]
  },
  {
   "cell_type": "markdown",
   "id": "2f864223-91a9-4f82-9fb2-f3408f7cfc11",
   "metadata": {},
   "source": [
    "Problem 8 :  Create a recursive Python function to calculate the power of a number (x^n)."
   ]
  },
  {
   "cell_type": "code",
   "execution_count": 16,
   "id": "31d28191-d50e-4cc5-8be7-35c218734583",
   "metadata": {},
   "outputs": [
    {
     "data": {
      "text/plain": [
       "16"
      ]
     },
     "execution_count": 16,
     "metadata": {},
     "output_type": "execute_result"
    }
   ],
   "source": [
    "def cal_Power(x,n):\n",
    "    if n<1:\n",
    "        return 1\n",
    "    else:\n",
    "        return x*cal_Power(x,n-1)\n",
    "cal_Power(2,4)"
   ]
  },
  {
   "cell_type": "markdown",
   "id": "94984288-3e7c-465a-969b-5871ee4cf3f2",
   "metadata": {},
   "source": [
    "Problem 9 :  Write a recursive Python function to find all permutations of a given string."
   ]
  },
  {
   "cell_type": "code",
   "execution_count": 64,
   "id": "17f6aa7c-7a33-4c6d-bdad-aab7b9ef628a",
   "metadata": {},
   "outputs": [
    {
     "name": "stdout",
     "output_type": "stream",
     "text": [
      "abc\n",
      "acb\n",
      "bac\n",
      "bca\n",
      "cab\n",
      "cba\n"
     ]
    }
   ],
   "source": [
    "def perm1(lst):\n",
    "\tif len(lst) == 0:\n",
    "\t\treturn []\n",
    "\telif len(lst) == 1:\n",
    "\t\treturn [lst]\n",
    "\telse:\n",
    "\t\tl = []\n",
    "\t\tfor i in range(len(lst)):\n",
    "\t\t\tx = lst[i]\n",
    "\t\t\txs = lst[:i] + lst[i+1:]\n",
    "\t\t\tfor p in perm1(xs):\n",
    "\t\t\t\tl.append([x] + p)\n",
    "\t\treturn l\n",
    "t = perm1(list('abc'))\n",
    "for i in t:\n",
    "    print(''.join(i))"
   ]
  },
  {
   "cell_type": "markdown",
   "id": "e39fee80-4b9a-49f7-8f5c-5ab8b6e2db9c",
   "metadata": {},
   "source": [
    "Problem 10 :  Write a recursive Python function to check if a string is a palindrome."
   ]
  },
  {
   "cell_type": "code",
   "execution_count": 19,
   "id": "f12fd089-3aa4-4902-98a4-618127371082",
   "metadata": {},
   "outputs": [
    {
     "data": {
      "text/plain": [
       "True"
      ]
     },
     "execution_count": 19,
     "metadata": {},
     "output_type": "execute_result"
    }
   ],
   "source": [
    "def checkPalindrome(s):\n",
    "    if len(s)<=1:\n",
    "        return True\n",
    "    elif s[0]==s[-1]:\n",
    "        return checkPalindrome(s[1:-1])\n",
    "    else:\n",
    "        return False\n",
    "checkPalindrome(\"madam\")"
   ]
  },
  {
   "cell_type": "markdown",
   "id": "7604eb5e-13e6-4e77-9555-ed9cbea5f700",
   "metadata": {},
   "source": [
    "Problem 11 : Create a recursive Python function to generate all possible combinations of a list of elements."
   ]
  },
  {
   "cell_type": "code",
   "execution_count": 1,
   "id": "2c32bc60-097b-457e-8057-ab6245459915",
   "metadata": {},
   "outputs": [
    {
     "name": "stdout",
     "output_type": "stream",
     "text": [
      "All possible combinations:\n",
      "['b', 'c']\n",
      "['a', 'c']\n",
      "['a', 'b']\n"
     ]
    }
   ],
   "source": [
    "def generate_combinations(elements, combo_length):\n",
    "    if combo_length == 0:\n",
    "        return [[]]  # Base case: Return an empty list with a single empty combination\n",
    "    if len(elements) == 0:\n",
    "        return []     # Base case: Return an empty list if there are no elements to choose from\n",
    "    \n",
    "    first_element = elements[0]\n",
    "    rest_of_elements = elements[1:]\n",
    "    \n",
    "    # Recursive call to generate combinations without the first element\n",
    "    combinations_without_first = generate_combinations(rest_of_elements, combo_length)\n",
    "    \n",
    "    # Recursive call to generate combinations with the first element\n",
    "    combinations_with_first = generate_combinations(rest_of_elements, combo_length - 1)\n",
    "    combinations_with_first = [[first_element] + combo for combo in combinations_with_first]\n",
    "    \n",
    "    # Combine both sets of combinations\n",
    "    return combinations_without_first + combinations_with_first\n",
    "\n",
    "# Test the function\n",
    "elements = ['a', 'b', 'c']\n",
    "combo_length = 2\n",
    "all_combinations = generate_combinations(elements, combo_length)\n",
    "print(\"All possible combinations:\")\n",
    "for combo in all_combinations:\n",
    "    print(combo)"
   ]
  },
  {
   "cell_type": "markdown",
   "id": "80c0399e-e4db-4bdb-be4e-f89da3687fff",
   "metadata": {},
   "source": [
    "                                                  Basics of Functions"
   ]
  },
  {
   "cell_type": "markdown",
   "id": "c916dcbd-2f37-43f9-9e17-0b4b781957a9",
   "metadata": {},
   "source": [
    "Problem 1: What is a function in Python, and why is it used?"
   ]
  },
  {
   "cell_type": "markdown",
   "id": "ecd1f8dc-f2e1-467c-b10e-e55dfcbd20de",
   "metadata": {},
   "source": [
    "A function in programming is a block of code organized by a set of rules to accomplish a specific task. They can be reused any number of times at any point during software development."
   ]
  },
  {
   "cell_type": "markdown",
   "id": "93261734-69e5-41e2-bc44-52c086d311ed",
   "metadata": {},
   "source": [
    "Problem 2: How do you define a function in Python? Provide an example."
   ]
  },
  {
   "cell_type": "code",
   "execution_count": null,
   "id": "d611d6d0-52be-470e-a801-b19da82fbc43",
   "metadata": {},
   "outputs": [],
   "source": [
    "# using def key word we can define a function \n",
    "def functionaName(x):\n",
    "    return x"
   ]
  },
  {
   "cell_type": "markdown",
   "id": "6c1813a3-bb5c-4711-a7e0-975cbec98ecf",
   "metadata": {},
   "source": [
    "Problem 3: Explain the difference between a function definition and a function call."
   ]
  },
  {
   "cell_type": "markdown",
   "id": "ba11410a-252c-4b11-a3c3-6a60ea5213b2",
   "metadata": {},
   "source": [
    "Function Definition:\n",
    "A function definition is where you actually define what the function does and how it operates. It typically includes the function's name, parameters (if any), and the code block or body of the function.\n",
    "\n",
    "Function Call: \n",
    "A function call is when you actually use the defined function in your code to execute its functionality."
   ]
  },
  {
   "cell_type": "markdown",
   "id": "77393aa4-6eb0-4ccd-b923-0014aada6c6d",
   "metadata": {},
   "source": [
    "Problem 4: Write a Python program that defines a function to calculate the sum of two numbers and then calls the function."
   ]
  },
  {
   "cell_type": "code",
   "execution_count": 3,
   "id": "edb56c08-6fbc-45da-a664-af3dc05eb34b",
   "metadata": {},
   "outputs": [
    {
     "data": {
      "text/plain": [
       "9"
      ]
     },
     "execution_count": 3,
     "metadata": {},
     "output_type": "execute_result"
    }
   ],
   "source": [
    "def sumofTwoNumbers(a,b):\n",
    "    return a+b\n",
    "sumofTwoNumbers(4,5)"
   ]
  },
  {
   "cell_type": "markdown",
   "id": "d8c6bca2-e38e-461d-99d6-2eb66c26600f",
   "metadata": {},
   "source": [
    "Problem 5: What is a function signature, and what information does it typically include?"
   ]
  },
  {
   "cell_type": "markdown",
   "id": "06f7cea3-813a-4176-b3c4-1564e35519c3",
   "metadata": {},
   "source": [
    "A function signature in Python typically refers to the declaration of a function, including its name, parameters, and return type. It serves as a summary or blueprint of what the function does and how it can be used. I"
   ]
  },
  {
   "cell_type": "markdown",
   "id": "2721f81e-b09b-482d-9a5e-2118837d427d",
   "metadata": {},
   "source": [
    "Problem 6: Create a Python function that takes two arguments and returns their product."
   ]
  },
  {
   "cell_type": "code",
   "execution_count": 2,
   "id": "40ba0548-f74c-4b2f-bba9-adf78eb4f078",
   "metadata": {},
   "outputs": [
    {
     "data": {
      "text/plain": [
       "20"
      ]
     },
     "execution_count": 2,
     "metadata": {},
     "output_type": "execute_result"
    }
   ],
   "source": [
    "def productOfTwoNumbers(a,b):\n",
    "    return a*b\n",
    "productOfTwoNumbers(4,5)"
   ]
  },
  {
   "cell_type": "markdown",
   "id": "c1c49867-03a1-46e4-a96d-09d9f39be901",
   "metadata": {},
   "source": [
    "                                                 Function Parameters and Arguments:"
   ]
  },
  {
   "cell_type": "markdown",
   "id": "e78df630-4454-446e-8033-e3bbc096d00c",
   "metadata": {},
   "source": [
    "Problem 1: Explain the concepts of formal parameters and actual arguments in Python functions."
   ]
  },
  {
   "cell_type": "markdown",
   "id": "dc5a8beb-0db4-4366-b9cc-13a9d560f4df",
   "metadata": {},
   "source": [
    "Formal Parameters:\n",
    "Formal parameters are the placeholders defined in the function signature or definition to receive values when the function is called. They are essentially the variables that represent the inputs expected by the function. These parameters are declared within the parentheses following the function name in the function definition.Example:"
   ]
  },
  {
   "cell_type": "code",
   "execution_count": 11,
   "id": "64c551ba-9f45-4a89-8c9b-3bb12c6903da",
   "metadata": {},
   "outputs": [],
   "source": [
    "def add(x, y):  # 'x' and 'y' are formal parameters\n",
    "    return x + y"
   ]
  },
  {
   "cell_type": "markdown",
   "id": "c42482dd-3f9a-4371-9c1b-ec5557332acb",
   "metadata": {},
   "source": [
    "Actual Arguments:\n",
    "Actual arguments, also known as arguments or parameters, are the values passed to the function during the function call. They represent the real data that is supplied to the function when it is invoked. Actual arguments can be variables, literals, expressions, or even other function calls.Example:"
   ]
  },
  {
   "cell_type": "code",
   "execution_count": 19,
   "id": "fddaa410-895d-43c7-824d-41f4931ded48",
   "metadata": {},
   "outputs": [],
   "source": [
    "result = add(3, 5)  # '3' and '5' are actual arguments"
   ]
  },
  {
   "cell_type": "markdown",
   "id": "e538bea4-832c-41a3-92ac-6fbf7b0f0f47",
   "metadata": {},
   "source": [
    "Problem 2: Write a Python program that defines a function with default argument values."
   ]
  },
  {
   "cell_type": "code",
   "execution_count": 13,
   "id": "3a070874-cd8a-4b5d-8cc1-be83f0257568",
   "metadata": {},
   "outputs": [
    {
     "data": {
      "text/plain": [
       "9"
      ]
     },
     "execution_count": 13,
     "metadata": {},
     "output_type": "execute_result"
    }
   ],
   "source": [
    "def Addition(a=5,b=4):\n",
    "    return a+b\n",
    "Addition()"
   ]
  },
  {
   "cell_type": "markdown",
   "id": "5e2fbb69-ae17-4961-8ad4-c6c293bb2dda",
   "metadata": {},
   "source": [
    "Problem 3: How do you use keyword arguments in Python function calls? Provide an example."
   ]
  },
  {
   "cell_type": "code",
   "execution_count": 20,
   "id": "90be1f90-9c9d-4f75-a015-33c4616cc3df",
   "metadata": {},
   "outputs": [
    {
     "data": {
      "text/plain": [
       "'hello,maneesh!'"
      ]
     },
     "execution_count": 20,
     "metadata": {},
     "output_type": "execute_result"
    }
   ],
   "source": [
    "def greet(name,greeting):\n",
    "    return f\"{greeting},{name}!\"\n",
    "\n",
    "greet(name = \"maneesh\",greeting = \"hello\")"
   ]
  },
  {
   "cell_type": "markdown",
   "id": "0e294687-fda0-4da6-88ee-00a454db3fa5",
   "metadata": {},
   "source": [
    "Problem 4: Create a Python function that accepts a variable number of arguments and calculates their sum."
   ]
  },
  {
   "cell_type": "code",
   "execution_count": 18,
   "id": "9043be3e-6ec5-4f63-93e5-2ee152a728a1",
   "metadata": {},
   "outputs": [
    {
     "data": {
      "text/plain": [
       "6"
      ]
     },
     "execution_count": 18,
     "metadata": {},
     "output_type": "execute_result"
    }
   ],
   "source": [
    "def SumOfNumbers(*args):\n",
    "    totalsum =0\n",
    "    for item in args:\n",
    "        totalsum +=item\n",
    "    return totalsum\n",
    "SumOfNumbers(1,2,3)"
   ]
  },
  {
   "cell_type": "markdown",
   "id": "b9789eec-e895-49c4-9ded-d7f094b05cc7",
   "metadata": {},
   "source": [
    "Problem 5: What is the purpose of the `*args` and `**kwargs` syntax in function parameter lists?"
   ]
  },
  {
   "cell_type": "code",
   "execution_count": 10,
   "id": "0b6f55dc-3c07-4cb4-b004-a3efc73dcfe6",
   "metadata": {},
   "outputs": [
    {
     "data": {
      "text/plain": [
       "{'a': 1, 'b': 2, 'c': 3, 'd': 4, 'e': 5}"
      ]
     },
     "execution_count": 10,
     "metadata": {},
     "output_type": "execute_result"
    }
   ],
   "source": [
    "def inputFunction(**args):\n",
    "    return args\n",
    "inputFunction(a=1,b=2,c=3,d=4,e=5)"
   ]
  },
  {
   "cell_type": "code",
   "execution_count": 5,
   "id": "24e50aab-00e1-4bd1-84e7-f483a623d3ea",
   "metadata": {},
   "outputs": [
    {
     "data": {
      "text/plain": [
       "5"
      ]
     },
     "execution_count": 5,
     "metadata": {},
     "output_type": "execute_result"
    }
   ],
   "source": [
    "5 "
   ]
  },
  {
   "cell_type": "markdown",
   "id": "4ca14247-0b87-462a-9495-71c840261a28",
   "metadata": {},
   "source": [
    "                                                 Return Values and Scoping:"
   ]
  },
  {
   "cell_type": "markdown",
   "id": "4fbf5541-f812-449a-bb7d-820710b75438",
   "metadata": {},
   "source": [
    "Problem 1: Describe the role of the `return` statement in Python functions and provide examples."
   ]
  },
  {
   "cell_type": "markdown",
   "id": "b4ce4f73-ccfc-41ed-9984-9d0628d927d2",
   "metadata": {},
   "source": [
    "In Python, the return statement is used within a function to exit the function and return a value back to the caller. It allows functions to compute a result and pass it back to the part of the program that called the function. The return statement can also be used to return multiple values, separated by commas."
   ]
  },
  {
   "cell_type": "markdown",
   "id": "df5b06f5-65b2-42d5-b191-9c71c3deaeb4",
   "metadata": {},
   "source": [
    "Problem 2: Explain the concept of variable scope in Python, including local and global variables."
   ]
  },
  {
   "cell_type": "markdown",
   "id": "33b868be-d4d5-4d3b-b259-e207e9382d1d",
   "metadata": {},
   "source": [
    "Local Variables:\n",
    "Local variables are those defined within a function. They are only accessible within the function in which they are defined.\n",
    "Once the function finishes executing, the local variables are destroyed, and their memory space is reclaimed.\n",
    "Attempting to access a local variable from outside its defining function will result in a NameError."
   ]
  },
  {
   "cell_type": "code",
   "execution_count": 8,
   "id": "8a95518d-d07a-45bf-b3a7-6acff1b91426",
   "metadata": {},
   "outputs": [
    {
     "name": "stdout",
     "output_type": "stream",
     "text": [
      "10\n"
     ]
    }
   ],
   "source": [
    "def example_function():\n",
    "    x = 10  # This is a local variable\n",
    "    print(x)\n",
    "\n",
    "example_function()  # Output: 10"
   ]
  },
  {
   "cell_type": "markdown",
   "id": "5835b9a1-e304-4b33-9d64-01d032a45020",
   "metadata": {},
   "source": [
    "Global Variables:\n",
    "Global variables are defined outside of any function. They are accessible from any part of the code, including inside functions.\n",
    "If a variable is modified inside a function without using the global keyword, Python will create a new local variable with the same name, shadowing the global variable within the function's scope.\n",
    "To modify a global variable inside a function, you need to use the global keyword to explicitly declare that you're referring to the global variable."
   ]
  },
  {
   "cell_type": "code",
   "execution_count": 11,
   "id": "1bf5b1b9-3642-4bd0-ab41-6fafbaf5907f",
   "metadata": {},
   "outputs": [
    {
     "name": "stdout",
     "output_type": "stream",
     "text": [
      "40\n"
     ]
    }
   ],
   "source": [
    "global_var = 20  # This is a global variable\n",
    "\n",
    "def example_function():\n",
    "    local_var = 30  # This is a local variable\n",
    "    global global_var\n",
    "    global_var = 40  # Modifying the global variable\n",
    "\n",
    "example_function()\n",
    "print(global_var)  # Output: 40"
   ]
  },
  {
   "cell_type": "markdown",
   "id": "9d429615-0a57-4592-a946-bfa63defa63a",
   "metadata": {},
   "source": [
    "Problem 3: Write a Python program that demonstrates the use of global variables within functions."
   ]
  },
  {
   "cell_type": "code",
   "execution_count": 12,
   "id": "e53af8a7-a240-489a-95aa-945b36559e56",
   "metadata": {},
   "outputs": [
    {
     "name": "stdout",
     "output_type": "stream",
     "text": [
      "40\n"
     ]
    }
   ],
   "source": [
    "global_var = 20  # This is a global variable\n",
    "\n",
    "def example_function():\n",
    "    local_var = 30  # This is a local variable\n",
    "    global global_var\n",
    "    global_var = 40  # Modifying the global variable\n",
    "\n",
    "example_function()\n",
    "print(global_var)  # Output: 40"
   ]
  },
  {
   "cell_type": "markdown",
   "id": "718579b3-4833-4508-b13c-d28cc9a4818d",
   "metadata": {},
   "source": [
    "Problem 4: Create a Python function that calculates the factorial of a number and returns it."
   ]
  },
  {
   "cell_type": "code",
   "execution_count": 6,
   "id": "96d8de25-251b-437f-aa65-0c869291e8ab",
   "metadata": {},
   "outputs": [
    {
     "data": {
      "text/plain": [
       "'Can not Calculate Factorial of Negative Number'"
      ]
     },
     "execution_count": 6,
     "metadata": {},
     "output_type": "execute_result"
    }
   ],
   "source": [
    "def Factorial(x):\n",
    "    fact = 1\n",
    "    if x==0:\n",
    "        return 1\n",
    "    elif x<0:\n",
    "        return \"Can not Calculate Factorial of a Negative Number\"\n",
    "    for item in range(1,x+1):\n",
    "        fact = fact*item\n",
    "    return fact\n",
    "Factorial(-1)"
   ]
  },
  {
   "cell_type": "markdown",
   "id": "9d2a7bd7-5a1f-4bb7-a6d4-23cd61763cf7",
   "metadata": {},
   "source": [
    "Problem 5: How can you access variables defined outside a function from within the function?"
   ]
  },
  {
   "cell_type": "code",
   "execution_count": 13,
   "id": "b75f33ca-f727-4599-bc98-a439174ba73d",
   "metadata": {},
   "outputs": [
    {
     "name": "stdout",
     "output_type": "stream",
     "text": [
      "10\n"
     ]
    }
   ],
   "source": [
    "x = 10  # global variable\n",
    "\n",
    "def my_function():\n",
    "    print(x)  # accessing global variable inside the function\n",
    "\n",
    "my_function()  # Output will be 10"
   ]
  },
  {
   "cell_type": "markdown",
   "id": "8f93e552-3038-4a3a-86a9-ac33354200dc",
   "metadata": {},
   "source": [
    "                                             Lambda Functions and Higher-Order Functions:"
   ]
  },
  {
   "cell_type": "markdown",
   "id": "1fd30e07-3103-4745-b2d8-3c23fc7690f3",
   "metadata": {},
   "source": [
    "Problem 1: What are lambda functions in Python, and when are they typically used?"
   ]
  },
  {
   "cell_type": "markdown",
   "id": "a2868a6d-f74d-4638-adb7-bec0868c47ba",
   "metadata": {},
   "source": [
    "Lambda functions, also known as anonymous functions, are small, inline functions in Python that are defined using the lambda keyword. They are typically used when you need a simple function for a short period of time and don't want to formally define a function using the def keyword.\n",
    "\n",
    "Here's the basic syntax of a lambda function:"
   ]
  },
  {
   "cell_type": "code",
   "execution_count": 1,
   "id": "41822287-b632-45aa-8f39-8a5ef863ee41",
   "metadata": {},
   "outputs": [
    {
     "data": {
      "text/plain": [
       "<function __main__.<lambda>(arguments)>"
      ]
     },
     "execution_count": 1,
     "metadata": {},
     "output_type": "execute_result"
    }
   ],
   "source": [
    "lambda arguments: expression"
   ]
  },
  {
   "cell_type": "markdown",
   "id": "8c7ecee9-1619-4f54-a4b0-6518a908351d",
   "metadata": {},
   "source": [
    "Problem 2: Write a Python program that uses lambda functions to sort a list of tuples based on the second element."
   ]
  },
  {
   "cell_type": "code",
   "execution_count": 3,
   "id": "6a2faecd-c124-4a2e-b81a-2f53dfb3c3fc",
   "metadata": {},
   "outputs": [
    {
     "name": "stdout",
     "output_type": "stream",
     "text": [
      "[(4, 1), (3, 2), (1, 5), (2, 8)]\n"
     ]
    }
   ],
   "source": [
    "# Define a list of tuples\n",
    "list_of_tuples = [(1, 5), (3, 2), (2, 8), (4, 1)]\n",
    "\n",
    "# Sort the list of tuples based on the second element using a lambda function\n",
    "sorted_list = sorted(list_of_tuples, key=lambda x: x[1])\n",
    "\n",
    "# Print the sorted list\n",
    "print(sorted_list)"
   ]
  },
  {
   "cell_type": "markdown",
   "id": "c078bc9c-5af4-4f5b-8303-1ea205a858cc",
   "metadata": {},
   "source": [
    "Problem 3: Explain the concept of higher-order functions in Python, and provide an example."
   ]
  },
  {
   "cell_type": "markdown",
   "id": "8d29b0ce-7260-4d95-9f77-8d0c01b16d6f",
   "metadata": {},
   "source": [
    "Sure! Higher-order functions are functions that can take other functions as arguments and/or return functions as their results. In Python, functions are first-class citizens, which means they can be treated just like any other object, such as integers or strings. This allows for higher-order functions to be easily implemented.\n",
    "\n",
    "Here's a simple example to illustrate higher-order functions in Python:"
   ]
  },
  {
   "cell_type": "code",
   "execution_count": 5,
   "id": "d46fb775-1a82-4698-b415-d50cb5dc6be7",
   "metadata": {},
   "outputs": [
    {
     "name": "stdout",
     "output_type": "stream",
     "text": [
      "Result of addition: 8\n",
      "Result of subtraction: 6\n"
     ]
    }
   ],
   "source": [
    "def apply_operation(operation, x, y):\n",
    "    \"\"\"\n",
    "    Apply the given operation to the arguments x and y.\n",
    "    \"\"\"\n",
    "    return operation(x, y)\n",
    "\n",
    "def add(x, y):\n",
    "    \"\"\"\n",
    "    Add two numbers.\n",
    "    \"\"\"\n",
    "    return x + y\n",
    "\n",
    "def subtract(x, y):\n",
    "    \"\"\"\n",
    "    Subtract y from x.\n",
    "    \"\"\"\n",
    "    return x - y\n",
    "\n",
    "# Using higher-order function apply_operation\n",
    "result1 = apply_operation(add, 5, 3)  # Passing add function as an argument\n",
    "print(\"Result of addition:\", result1)\n",
    "\n",
    "result2 = apply_operation(subtract, 10, 4)  # Passing subtract function as an argument\n",
    "print(\"Result of subtraction:\", result2)"
   ]
  },
  {
   "cell_type": "markdown",
   "id": "75104e57-e19f-4eb3-9c11-ab2a9080f62f",
   "metadata": {},
   "source": [
    "Problem 4: Create a Python function that takes a list of numbers and a function as arguments, applying the function to each element in the list."
   ]
  },
  {
   "cell_type": "code",
   "execution_count": 2,
   "id": "1017290f-69df-47a9-bcf3-223421680555",
   "metadata": {},
   "outputs": [
    {
     "name": "stdout",
     "output_type": "stream",
     "text": [
      "[1, 4, 9, 16, 25]\n"
     ]
    }
   ],
   "source": [
    " def apply_function_to_list(lst, func):\n",
    "    \"\"\"\n",
    "    Apply a function to each element in a list.\n",
    "    \n",
    "    Args:\n",
    "    lst (list): The list of numbers.\n",
    "    func (function): The function to apply to each element in the list.\n",
    "    \n",
    "    Returns:\n",
    "    list: A new list containing the results of applying the function to each element.\n",
    "    \"\"\"\n",
    "    return [func(num) for num in lst]\n",
    "\n",
    "# Example usage:\n",
    "# Define a function to apply\n",
    "def square(x):\n",
    "    return x ** 2\n",
    "\n",
    "# Define a list of numbers\n",
    "numbers = [1, 2, 3, 4, 5]\n",
    "\n",
    "# Apply the square function to each element in the list\n",
    "result = apply_function_to_list(numbers, square)\n",
    "print(result)  # Output: [1, 4, 9, 16, 25]"
   ]
  },
  {
   "cell_type": "markdown",
   "id": "91ccbf6e-bec0-4e79-a032-04a4af41f724",
   "metadata": {},
   "source": [
    "                                                        Built-in Functions:"
   ]
  },
  {
   "cell_type": "markdown",
   "id": "b27a7c89-887c-4f83-8c65-c1eee4c5e3bb",
   "metadata": {},
   "source": [
    "Problem 1: Describe the role of built-in functions like `len()`, `max()`, and `min()` in Python."
   ]
  },
  {
   "cell_type": "markdown",
   "id": "1351ea92-b556-4263-848b-ec110c6257b3",
   "metadata": {},
   "source": [
    "len(): This function returns the length (i.e., the number of items) of an object. It works with sequences such as strings, lists, tuples, and dictionaries (where it returns the number of key-value pairs).\n",
    "\n",
    "max(): This function returns the largest item in an iterable or the largest of two or more arguments. It works with various types of iterables, including lists, tuples, and strings\n",
    "\n",
    "min(): This function returns the smallest item in an iterable or the smallest of two or more arguments. Similar to max(), it works with various types of iterables."
   ]
  },
  {
   "cell_type": "markdown",
   "id": "53bcb889-94e0-4458-ada1-ccad718ebc2c",
   "metadata": {},
   "source": [
    "Problem 2: Write a Python program that uses the `map()` function to apply a function to each element of a list."
   ]
  },
  {
   "cell_type": "code",
   "execution_count": 17,
   "id": "db00a313-b6c5-4913-bd6e-28ae3c304bb0",
   "metadata": {},
   "outputs": [
    {
     "name": "stdout",
     "output_type": "stream",
     "text": [
      "[2, 4, 6, 8, 10]\n"
     ]
    }
   ],
   "source": [
    "# Define a function to double a number\n",
    "def double(x):\n",
    "    return x * 2\n",
    "\n",
    "# Define a list of numbers\n",
    "numbers = [1, 2, 3, 4, 5]\n",
    "\n",
    "# Use map() to double each number in the list\n",
    "doubled_numbers = map(double, numbers)\n",
    "\n",
    "# Convert the result to a list (or iterate over it directly)\n",
    "doubled_numbers_list = list(doubled_numbers)\n",
    "\n",
    "# Print the doubled numbers\n",
    "print(doubled_numbers_list)  # Output: [2, 4, 6, 8, 10]"
   ]
  },
  {
   "cell_type": "markdown",
   "id": "26aa589c-39ff-41f8-9d93-d6f12711f897",
   "metadata": {},
   "source": [
    "Problem 3: How does the `filter()` function work in Python, and when would you use it?"
   ]
  },
  {
   "cell_type": "markdown",
   "id": "5ecdc84c-b346-4f63-a3bf-fd19daf41b06",
   "metadata": {},
   "source": [
    "the filter() function is used to filter elements from an iterable (like a list, tuple, or set) based on a specified condition. It takes two arguments: a function that defines the condition, and the iterable to be filtered."
   ]
  },
  {
   "cell_type": "markdown",
   "id": "18e3793d-6f6a-4a1d-9bb6-5e40c1223d05",
   "metadata": {},
   "source": [
    "Problem 4: Create a Python program that uses the `reduce()` function to find the product of all elements in a list."
   ]
  },
  {
   "cell_type": "code",
   "execution_count": 18,
   "id": "909e446d-05e2-4920-a19c-6eb646b7d1a7",
   "metadata": {},
   "outputs": [
    {
     "name": "stdout",
     "output_type": "stream",
     "text": [
      "720\n"
     ]
    }
   ],
   "source": [
    "from functools import reduce\n",
    "def product(x,y):\n",
    "    return x*y\n",
    "list_b = [1,2,3,4,5,6]\n",
    "product_of_List_Element = reduce(product,list_b)\n",
    "print(product_of_List_Element)"
   ]
  },
  {
   "cell_type": "markdown",
   "id": "4f43602f-0b89-4784-ad8f-772e1876bfe5",
   "metadata": {},
   "source": [
    "                                                Function Documentation and Best Practices:"
   ]
  },
  {
   "cell_type": "markdown",
   "id": "c11f7ea4-cefb-4080-8182-ba9718212e5d",
   "metadata": {},
   "source": [
    "Product 1: Explain the purpose of docstrings in Python functions and how to write them."
   ]
  },
  {
   "cell_type": "markdown",
   "id": "3debef0a-8359-48b8-9f5c-74045f3dd464",
   "metadata": {},
   "source": [
    "Docstrings in Python functions serve as a form of documentation, providing a way to describe what a function does, its parameters, return values, and any other relevant information. They are essential for maintaining well-documented code, aiding in readability, and facilitating collaboration among developers"
   ]
  },
  {
   "cell_type": "code",
   "execution_count": 21,
   "id": "e8e44a1f-a47d-4ed8-8364-37caedc177e1",
   "metadata": {},
   "outputs": [],
   "source": [
    "def calculate_area(radius):\n",
    "    \"\"\"\n",
    "    Calculate the area of a circle.\n",
    "\n",
    "    Parameters:\n",
    "    radius (float): The radius of the circle.\n",
    "\n",
    "    Returns:\n",
    "    float: The area of the circle.\n",
    "\n",
    "    Example:\n",
    "    >>> calculate_area(5)\n",
    "    78.53981633974483\n",
    "    \"\"\"\n",
    "    return 3.14159 * radius**2"
   ]
  },
  {
   "cell_type": "markdown",
   "id": "6399d606-387d-4900-a6a2-27895f2559e5",
   "metadata": {},
   "source": [
    "Product 2: Describe some best practices for naming functions and variables in Python, including naming conventions and guidelines."
   ]
  },
  {
   "cell_type": "markdown",
   "id": "7d814547-09fa-4a87-b1d4-255365b3f370",
   "metadata": {},
   "source": [
    "Naming functions and variables in Python follows certain conventions and guidelines to make code more readable and maintainable. Here are some best practices:\n",
    "\n",
    "Functions:\n",
    "\n",
    "Use descriptive names: Choose names that accurately describe the purpose or action of the function. A function name should be a verb or a verb phrase that explains what the function does.\n",
    "\n",
    "Good: calculate_area, print_summary, get_user_input\n",
    "\n",
    "Bad: foo, do_stuff, xyz\n",
    "\n",
    "Use lowercase with underscores (snake_case): This is the convention recommended by PEP 8, the official Python style guide.\n",
    "\n",
    "Good: calculate_area, get_user_input\n",
    "\n",
    "Bad: calculateArea, getUserInput\n",
    "\n",
    "Avoid using built-in names: Avoid using names that conflict with Python's built-in functions or keywords.\n",
    "\n",
    "Bad: print, sum, list\n",
    "\n",
    "Be consistent: Stick to a consistent naming style throughout your codebase.\n",
    "\n",
    "\n",
    "Variables:\n",
    "Use descriptive names: Like functions, variable names should clearly indicate their purpose or contents.\n",
    "\n",
    "Good: total_price, user_input, customer_name\n",
    "Bad: x, temp, data\n",
    "\n",
    "Use lowercase with underscores (snake_case): Consistent with PEP 8.\n",
    "Good: total_price, user_input\n",
    "Bad: TotalPrice, UserInput\n",
    "Avoid single-letter names: Except for very short-lived variables (e.g., loop indices), avoid single-letter variable names as they are not descriptive.\n",
    "Good: i, j (for loop indices)\n",
    "Bad: x, y, z\n",
    "Avoid ambiguous abbreviations: Abbreviations can make code less readable. Only use them if they are widely understood or part of common domain terminology.\n",
    "\n",
    "Good: num_items, temp_file_path\n",
    "Bad: n_items, tmp_fp\n",
    "\n",
    "Use meaningful prefixes or suffixes when needed: If variables have a specific scope or type, consider using prefixes or suffixes to indicate that.\n",
    "Example: customer_name, order_id, is_valid\n",
    "Be consistent: As with functions, maintain consistency in naming style across your codebase."
   ]
  },
  {
   "cell_type": "code",
   "execution_count": null,
   "id": "b24edf6a-4ea5-4720-b126-e0018dfa63ea",
   "metadata": {},
   "outputs": [],
   "source": []
  }
 ],
 "metadata": {
  "kernelspec": {
   "display_name": "Python 3 (ipykernel)",
   "language": "python",
   "name": "python3"
  },
  "language_info": {
   "codemirror_mode": {
    "name": "ipython",
    "version": 3
   },
   "file_extension": ".py",
   "mimetype": "text/x-python",
   "name": "python",
   "nbconvert_exporter": "python",
   "pygments_lexer": "ipython3",
   "version": "3.10.8"
  }
 },
 "nbformat": 4,
 "nbformat_minor": 5
}
