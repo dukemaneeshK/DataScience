{
 "cells": [
  {
   "cell_type": "markdown",
   "id": "5f96413f-6f4f-4f5f-938f-5f2828838113",
   "metadata": {},
   "source": [
    "Problem 1: Bank Account Create a class representing a bank account with attributes like account number, account holder name, and balance. Implement methods to deposit and withdraw money from the account."
   ]
  },
  {
   "cell_type": "code",
   "execution_count": 1,
   "id": "4f1d46a2-e224-4e05-9a20-f4b84fc0fc3b",
   "metadata": {},
   "outputs": [
    {
     "name": "stdout",
     "output_type": "stream",
     "text": [
      "Amount is withdrwa successfull and current balance is 1000\n",
      "current Balance: 1000\n",
      "Money is deposit to Account and Money After deposit: 3000\n"
     ]
    }
   ],
   "source": [
    "class BankAccount :\n",
    "    \n",
    "    def __init__(self,accountNumber,holderName,balance):\n",
    "        self.account_Number = accountNumber\n",
    "        self.account_holder_name = holderName\n",
    "        self.account_balance = balance\n",
    "        \n",
    "    def depositMoney(self,amount):\n",
    "        print(\"current Balance:\", self.account_balance)\n",
    "        print(\"Money is deposit to Account and Money After deposit:\",self.account_balance+amount)\n",
    "        \n",
    "    def withDrawMoney(self,withdrawAmount):\n",
    "        if(withdrawAmount> self.account_balance):\n",
    "            print(\"Withddraw amount is greater than current account balance. Withdraw amount should be less than to current balance\")\n",
    "        else:\n",
    "            self.account_balance = self.account_balance-withdrawAmount\n",
    "            print(\"Amount is withdrwa successfull and current balance is\",self.account_balance)\n",
    "\n",
    "            \n",
    "maneesh_bankAccount = BankAccount(20175970480,\"Maneesh Kumar\",5000)\n",
    "maneesh_bankAccount.withDrawMoney(4000)\n",
    "maneesh_bankAccount.account_balance\n",
    "maneesh_bankAccount.depositMoney(2000)"
   ]
  },
  {
   "cell_type": "markdown",
   "id": "c0729e74-00d1-4b3b-abc3-c83ceedc282e",
   "metadata": {},
   "source": [
    "Problem 2: Employee Management Create a class representing an employee with attributes like employee ID, name, and salary. Implement methods to calculate the yearly bonus and display employee details."
   ]
  },
  {
   "cell_type": "code",
   "execution_count": 2,
   "id": "dc129bb3-59ef-44d0-8554-d5358de60423",
   "metadata": {},
   "outputs": [
    {
     "name": "stdout",
     "output_type": "stream",
     "text": [
      "Employee Details\n",
      "EmployeeId: 1\n",
      "Employee Name: Maneesh Kumar\n",
      "Employee Salary: 2000\n"
     ]
    },
    {
     "data": {
      "text/plain": [
       "200.0"
      ]
     },
     "execution_count": 2,
     "metadata": {},
     "output_type": "execute_result"
    }
   ],
   "source": [
    "class Employee:\n",
    "    \n",
    "    def __init__(self,employeeId,name,salary):\n",
    "        self.employee_Id = employeeId\n",
    "        self.emp_name = name\n",
    "        self.emp_salary = salary\n",
    "        \n",
    "    def displayEmpDetails(self):\n",
    "        print(\"Employee Details\")\n",
    "        print(\"EmployeeId:\",self.employee_Id)\n",
    "        print(\"Employee Name:\",self.emp_name)\n",
    "        print(\"Employee Salary:\",self.emp_salary)\n",
    "        \n",
    "    def bonus(self,bonus_percentage):\n",
    "        return self.emp_salary * (bonus_percentage / 100)\n",
    "        \n",
    "    \n",
    "maneesh_emp = Employee(1,\"Maneesh Kumar\",2000)\n",
    "maneesh_emp.displayEmpDetails()\n",
    "maneesh_emp.bonus(10)"
   ]
  },
  {
   "cell_type": "markdown",
   "id": "5ccf8639-4500-449a-a006-2d4ac734629d",
   "metadata": {},
   "source": [
    "Problem 3: Vehicle Rental Create a class representing a vehicle rental system. Implement methods to rent a vehicle, return a vehicle, and display available vehicles."
   ]
  },
  {
   "cell_type": "code",
   "execution_count": 3,
   "id": "34943ab7-eb16-41ed-8ab1-f1e6f28e6e4e",
   "metadata": {},
   "outputs": [
    {
     "name": "stdout",
     "output_type": "stream",
     "text": [
      "Initial Available Vehicle:\n",
      "Id:1 Name:BMW\n",
      "Id:2 Name:Toyoto\n",
      "Id:3 Name:Car\n",
      "Initial Rented Vehicle:\n",
      "{}\n",
      "Rent vehicle:\n",
      "True\n",
      "Vehicle After rented\n",
      "Id:2 Name:Toyoto\n",
      "Id:3 Name:Car\n",
      "Rented vehicle\n",
      "{1: ('BMW', 'maneesh')}\n",
      "Return vehicle\n",
      "True\n",
      "Vehicle After return\n",
      "Id:2 Name:Toyoto\n",
      "Id:3 Name:Car\n",
      "Id:1 Name:BMW\n"
     ]
    }
   ],
   "source": [
    "class VehicalRental:\n",
    "    \n",
    "    def __init__(self):\n",
    "        self.available_vehicle = {}\n",
    "        self.rented_vehicle = {}\n",
    "    \n",
    "    def AddVehicle(self,vehicleId,vehicleName):\n",
    "        self.available_vehicle[vehicleId]=vehicleName\n",
    "        \n",
    "    def rentVahicle(self,vehicle_id,customerName):\n",
    "        if vehicle_id in self.available_vehicle:\n",
    "            self.rented_vehicle[vehicle_id]= (self.available_vehicle[vehicle_id],customerName)\n",
    "            del self.available_vehicle[vehicle_id]\n",
    "            return True\n",
    "        else:\n",
    "            return False\n",
    "        \n",
    "    def returnVehicle(self,vehicle_Id):\n",
    "        if vehicle_Id in self.rented_vehicle:\n",
    "            vehicle,customerName = self.rented_vehicle[vehicle_Id]\n",
    "            self.available_vehicle[vehicle_Id]=vehicle\n",
    "            del self.rented_vehicle[vehicle_Id]\n",
    "            return True\n",
    "        else:\n",
    "            return False\n",
    "            \n",
    "    \n",
    "    def displayAvailableVehicle(self):\n",
    "        if self.available_vehicle:\n",
    "            for vehicle_id,vehicle_name in self.available_vehicle.items():\n",
    "                print(F\"Id:{vehicle_id} Name:{vehicle_name}\")\n",
    "        else:\n",
    "            print(\"No Vehicle are available\")\n",
    "            \n",
    "rented_System = VehicalRental()\n",
    "rented_System.AddVehicle(1,\"BMW\")\n",
    "rented_System.AddVehicle(2,\"Toyoto\")\n",
    "rented_System.AddVehicle(3,\"Car\")\n",
    "\n",
    "print(\"Initial Available Vehicle:\")\n",
    "rented_System.displayAvailableVehicle()\n",
    "\n",
    "print(\"Initial Rented Vehicle:\")\n",
    "print(rented_System.rented_vehicle)\n",
    "\n",
    "print(\"Rent vehicle:\")\n",
    "print(rented_System.rentVahicle(1,\"maneesh\"))\n",
    "\n",
    "print(\"Vehicle After rented\")\n",
    "rented_System.displayAvailableVehicle()\n",
    "\n",
    "print(\"Rented vehicle\")\n",
    "print(rented_System.rented_vehicle)\n",
    "\n",
    "print(\"Return vehicle\")\n",
    "print(rented_System.returnVehicle(1))\n",
    "\n",
    "print(\"Vehicle After return\")\n",
    "rented_System.displayAvailableVehicle()"
   ]
  },
  {
   "cell_type": "markdown",
   "id": "f23996cd-bd61-4195-acd3-5efa2f0f0487",
   "metadata": {},
   "source": [
    "Problem 4: Library Catalog Create classes representing a library and a book. Implement methods to add books to the library, borrow books, and display available books."
   ]
  },
  {
   "cell_type": "code",
   "execution_count": 4,
   "id": "3e966121-b5b0-4d91-aa9a-95590f604412",
   "metadata": {},
   "outputs": [
    {
     "name": "stdout",
     "output_type": "stream",
     "text": [
      "Initials Books are avialable in Library:\n",
      "DBMS by self.book_title x (ID: 1)\n",
      "Opps by self.book_title y (ID: 2)\n",
      "DD by self.book_title z (ID: 3)\n",
      "True\n",
      "Borrowed Books:\n",
      "DBMS by self.book_title x (ID: 1) is borrowed by maneesh\n",
      "Avialable Books After Borrow:\n",
      "Opps by self.book_title y (ID: 2)\n",
      "DD by self.book_title z (ID: 3)\n",
      "Return a book:\n",
      "True\n",
      "Avialable Books After Return:\n",
      "Opps by self.book_title y (ID: 2)\n",
      "DD by self.book_title z (ID: 3)\n",
      "DBMS by self.book_title x (ID: 1)\n"
     ]
    }
   ],
   "source": [
    "class Book:\n",
    "    \n",
    "    def __init__(self,bookId,booktitle,authorName):\n",
    "        self.book_id = bookId\n",
    "        self.book_title = booktitle\n",
    "        self.author_Name = authorName\n",
    "        \n",
    "    def __str__(self):\n",
    "        return f\"{self.book_title} by self.book_title {self.author_Name} (ID: {self.book_id})\"\n",
    "\n",
    "class Library:\n",
    "    \n",
    "    def __init__(self):\n",
    "        self.available_books = {}\n",
    "        self.borrowed_books = {}\n",
    "        \n",
    "    def Addbooks(self,book):\n",
    "        self.available_books[book.book_id]=book\n",
    "        \n",
    "    def display_available_Books(self):\n",
    "        if self.available_books:\n",
    "            for book in self.available_books.values():\n",
    "                print(book)\n",
    "        else:\n",
    "            print(\"No books are available\")\n",
    "    \n",
    "    def BorrowBooks(self,bookId,borrowerName):\n",
    "        if bookId in self.available_books:\n",
    "            self.borrowed_books[bookId]=(self.available_books[bookId], borrowerName)\n",
    "            del  self.available_books[bookId]\n",
    "            return True\n",
    "        else:\n",
    "            return False\n",
    "        \n",
    "    def displayBoorowedBooks(self):\n",
    "        if self.borrowed_books:\n",
    "            for book,borrower in self.borrowed_books.values():\n",
    "                print(F\"{book} is borrowed by {borrower}\")\n",
    "        else:\n",
    "            print(\"No Books are borrowed\")\n",
    "\n",
    "    def returnBook(self,bookId):\n",
    "        if bookId in self.borrowed_books:\n",
    "            book,borrower = self.borrowed_books[bookId]\n",
    "            self.available_books[bookId] = book\n",
    "            del self.borrowed_books[bookId]\n",
    "            return True\n",
    "        else:\n",
    "            return False\n",
    "\n",
    "student_lib = Library()\n",
    "\n",
    "book1 = Book(1,\"DBMS\",\"x\")\n",
    "book2 = Book(2,\"Opps\",\"y\")\n",
    "book3 = Book(3,\"DD\",\"z\")\n",
    "\n",
    "student_lib.Addbooks(book1)\n",
    "student_lib.Addbooks(book2)\n",
    "student_lib.Addbooks(book3)\n",
    "\n",
    "print(\"Initials Books are avialable in Library:\")\n",
    "student_lib.display_available_Books()\n",
    "\n",
    "print(student_lib.BorrowBooks(1,\"maneesh\"))\n",
    "\n",
    "print(\"Borrowed Books:\")\n",
    "student_lib.displayBoorowedBooks()\n",
    "\n",
    "print(\"Avialable Books After Borrow:\")\n",
    "student_lib.display_available_Books()\n",
    "\n",
    "print(\"Return a book:\")\n",
    "print(student_lib.returnBook(1))\n",
    "\n",
    "print(\"Avialable Books After Return:\")\n",
    "student_lib.display_available_Books()"
   ]
  },
  {
   "cell_type": "markdown",
   "id": "5fd0e14d-0d4d-4a24-a435-0b3d66d7203d",
   "metadata": {},
   "source": [
    "Problem 5: Product Inventory Create classes representing a product and an inventory system. Implement methods to add products to the inventory, update product quantity, and display available products."
   ]
  },
  {
   "cell_type": "code",
   "execution_count": 5,
   "id": "6a8bf4d8-9e55-44f2-934c-d7f6c8c1bd4d",
   "metadata": {},
   "outputs": [
    {
     "name": "stdout",
     "output_type": "stream",
     "text": [
      "Added Laptop to inventory.\n",
      "Added Smartphone to inventory.\n",
      "Added Tablet to inventory.\n",
      "Product(name=Laptop, price=1000, quantity=50)\n",
      "Product(name=Smartphone, price=500, quantity=200)\n",
      "Product(name=Tablet, price=300, quantity=150)\n",
      "Updated Laptop quantity by 10. New quantity is 60.\n",
      "Updated Smartphone quantity by -50. New quantity is 150.\n",
      "Product(name=Laptop, price=1000, quantity=60)\n",
      "Product(name=Smartphone, price=500, quantity=150)\n",
      "Product(name=Tablet, price=300, quantity=150)\n"
     ]
    }
   ],
   "source": [
    "class Product:\n",
    "    def __init__(self, name, price, quantity):\n",
    "        self.name = name\n",
    "        self.price = price\n",
    "        self.quantity = quantity\n",
    "\n",
    "    def update_quantity(self, amount):\n",
    "        self.quantity += amount\n",
    "\n",
    "    def __str__(self):\n",
    "        return f\"Product(name={self.name}, price={self.price}, quantity={self.quantity})\"\n",
    "\n",
    "\n",
    "class Inventory:\n",
    "    def __init__(self):\n",
    "        self.products = {}\n",
    "\n",
    "    def add_product(self, product):\n",
    "        if product.name in self.products:\n",
    "            print(f\"Product {product.name} already exists in inventory. Use update_quantity to change the amount.\")\n",
    "        else:\n",
    "            self.products[product.name] = product\n",
    "            print(f\"Added {product.name} to inventory.\")\n",
    "\n",
    "    def update_product_quantity(self, product_name, amount):\n",
    "        if product_name in self.products:\n",
    "            self.products[product_name].update_quantity(amount)\n",
    "            print(f\"Updated {product_name} quantity by {amount}. New quantity is {self.products[product_name].quantity}.\")\n",
    "        else:\n",
    "            print(f\"Product {product_name} not found in inventory.\")\n",
    "\n",
    "    def display_products(self):\n",
    "        if not self.products:\n",
    "            print(\"No products in inventory.\")\n",
    "        else:\n",
    "            for product in self.products.values():\n",
    "                print(product)\n",
    "\n",
    "\n",
    "inventory = Inventory()\n",
    "\n",
    " # Add products to the inventory\n",
    "product1 = Product(\"Laptop\", 1000, 50)\n",
    "product2 = Product(\"Smartphone\", 500, 200)\n",
    "product3 = Product(\"Tablet\", 300, 150)\n",
    "\n",
    "inventory.add_product(product1)\n",
    "inventory.add_product(product2)\n",
    "inventory.add_product(product3)\n",
    "\n",
    "# Display available products\n",
    "inventory.display_products()\n",
    "\n",
    "# Update product quantity\n",
    "inventory.update_product_quantity(\"Laptop\", 10)\n",
    "inventory.update_product_quantity(\"Smartphone\", -50)\n",
    "\n",
    "# Display products after updates\n",
    "inventory.display_products()"
   ]
  },
  {
   "cell_type": "markdown",
   "id": "eb129baa-c2be-48f5-93b5-e5b0f2593e0a",
   "metadata": {},
   "source": [
    "Problem 6: Shape Calculation Create a class representing a shape with attributes like length, width, and height. Implement methods to calculate the area and perimeter of the shape."
   ]
  },
  {
   "cell_type": "code",
   "execution_count": 6,
   "id": "5296b167-66fd-4dca-9e41-c7503cd23329",
   "metadata": {},
   "outputs": [
    {
     "name": "stdout",
     "output_type": "stream",
     "text": [
      "Rectangle Area: 12\n",
      "Rectangle Perimeter: 14\n",
      "Sqaure Area: 16\n",
      "Sqaure Perimeter: 16\n"
     ]
    }
   ],
   "source": [
    "class shape:\n",
    "    \n",
    "    def __init__(self,length,width=None,height= None):\n",
    "        self.length = length\n",
    "        self.width = width if width is not None else length\n",
    "        self.height = height if height is not None else 0\n",
    "        \n",
    "    def CalculatePerimeter(self):\n",
    "        return 2*(self.length+self.width)\n",
    "    \n",
    "    def CalculateArea(self):\n",
    "        return self.length*self.width\n",
    "    \n",
    "rectangle = shape(4,3)\n",
    "print(\"Rectangle Area:\",rectangle.CalculateArea())\n",
    "print(\"Rectangle Perimeter:\",rectangle.CalculatePerimeter())\n",
    "\n",
    "square = shape(4)\n",
    "print(\"Sqaure Area:\",square.CalculateArea())\n",
    "print(\"Sqaure Perimeter:\",square.CalculatePerimeter())"
   ]
  },
  {
   "cell_type": "markdown",
   "id": "6f01041a-d01d-4664-9cae-0bd5c87cb0ed",
   "metadata": {},
   "source": [
    "Problem 7: Student Management Create a class representing a student with attributes like student ID, name, and grades. Implement methods to calculate the average grade and display student details."
   ]
  },
  {
   "cell_type": "code",
   "execution_count": 7,
   "id": "fe51c8c4-acac-4b4c-974b-6c60eff508de",
   "metadata": {},
   "outputs": [
    {
     "name": "stdout",
     "output_type": "stream",
     "text": [
      "StudentId: 1\n",
      "StudentName: Maneesh Kumar\n",
      "StudentGrade: [35, 67, 89, 56, 78]\n",
      "AverageGrades: 65.0\n"
     ]
    }
   ],
   "source": [
    "class Student:\n",
    "    \n",
    "    def __init__(self,studentId,name,grades):\n",
    "        self.student_Id = studentId\n",
    "        self.student_name = name\n",
    "        self.grades = grades\n",
    "    \n",
    "    def CalculateAverageGrade(self):\n",
    "        if not self.grades:\n",
    "            return 0\n",
    "        else:\n",
    "            return sum(self.grades)/len(self.grades)\n",
    "        \n",
    "    def displayStudentDetails(self):\n",
    "        average_grade = self.CalculateAverageGrade()\n",
    "        print(\"StudentId:\",self.student_Id)\n",
    "        print(\"StudentName:\",self.student_name)\n",
    "        print(\"StudentGrade:\",self.grades)\n",
    "        print(\"AverageGrades:\",average_grade)\n",
    "        \n",
    "std = Student(1,\"Maneesh Kumar\",[35,67,89,56,78])\n",
    "std.displayStudentDetails()"
   ]
  },
  {
   "cell_type": "markdown",
   "id": "4fbeebf0-e3e2-4f29-a0ba-85856c707f36",
   "metadata": {},
   "source": [
    "Problem 8: Email Management Create a class representing an email with attributes like sender, recipient, and subject. Implement methods to send an email and display email details."
   ]
  },
  {
   "cell_type": "code",
   "execution_count": 8,
   "id": "9f5bd519-f50f-491d-8352-d18db5065507",
   "metadata": {},
   "outputs": [
    {
     "name": "stdout",
     "output_type": "stream",
     "text": [
      "Sending email to jane.smith@example.com\n",
      "Email sent successfully\n",
      "Subject: Meeting Reminder\n",
      "Sender: john.doe@example.com\n",
      "Recipient: jane.smith@example.com\n",
      "Body: Don't forget about the meeting tomorrow at 10 AM.\n"
     ]
    }
   ],
   "source": [
    "class Email:\n",
    "    \n",
    "    def __init__(self,sender,recipient,subject,body):\n",
    "        self.sender = sender\n",
    "        self.recipient = recipient\n",
    "        self.subject = subject\n",
    "        self.body = body\n",
    "        \n",
    "    def sendEmail(self):\n",
    "        print(f\"Sending email to {self.recipient}\")\n",
    "        print(\"Email sent successfully\")\n",
    "    \n",
    "    def displayEmailDetails(self):\n",
    "        print(\"Subject:\",self.subject)\n",
    "        print(\"Sender:\",self.sender)\n",
    "        print(\"Recipient:\",self.recipient)\n",
    "        print(\"Body:\",self.body)\n",
    "    \n",
    "email = Email(\"john.doe@example.com\", \"jane.smith@example.com\", \"Meeting Reminder\", \"Don't forget about the meeting tomorrow at 10 AM.\")\n",
    "email.sendEmail()\n",
    "email.displayEmailDetails()"
   ]
  },
  {
   "cell_type": "markdown",
   "id": "76633b07-625a-4890-aaf9-c5696fe694a1",
   "metadata": {},
   "source": [
    "Problem 9: Social Media Profile Create a class representing a social media profile with attributes like username and posts. Implement methods to add posts, display posts, and search for posts by keyword"
   ]
  },
  {
   "cell_type": "code",
   "execution_count": 9,
   "id": "2dcad4c3-53de-480d-a97a-35c1c73f9437",
   "metadata": {},
   "outputs": [
    {
     "name": "stdout",
     "output_type": "stream",
     "text": [
      "Post is added successfully: this is my first post\n",
      "Post is added successfully: this is my second post\n",
      "Post is added successfully: this is my third post\n",
      "Display all posts:\n",
      "1,this is my first post\n",
      "2,this is my second post\n",
      "3,this is my third post\n",
      "No posts found containing 'two'.\n",
      "No posts found containing 'three'.\n"
     ]
    }
   ],
   "source": [
    "class SocialMedialProfile:\n",
    "    \n",
    "    def __init__(self,username):\n",
    "        self.user_name = username\n",
    "        self.posts = []\n",
    "        \n",
    "    def AddPost(self,post):\n",
    "        self.posts.append(post)\n",
    "        print(f\"Post is added successfully: {post}\")\n",
    "    \n",
    "    def displayPost(self):\n",
    "        print(\"Display all posts:\")\n",
    "        for i, post in enumerate(self.posts,1):\n",
    "            print(f\"{i},{post}\")\n",
    "    \n",
    "    def SearchPost(self,keyword):\n",
    "        matching_posts = [post for post in self.posts if keyword.lower() in post.lower()]\n",
    "        if matching_posts:\n",
    "            print(f\"Posts containing '{keyword}':\")\n",
    "            for post in matching_posts:\n",
    "                print(f\"- {post}\")\n",
    "        else:\n",
    "            print(f\"No posts found containing '{keyword}'.\")\n",
    "                \n",
    "            \n",
    "socialMedia = SocialMedialProfile(\"duke1223\")\n",
    "socialMedia.AddPost(\"this is my first post\")\n",
    "socialMedia.AddPost(\"this is my second post\")\n",
    "socialMedia.AddPost(\"this is my third post\")\n",
    "\n",
    "socialMedia.displayPost()\n",
    "\n",
    "socialMedia.SearchPost(\"two\")\n",
    "socialMedia.SearchPost(\"three\")"
   ]
  },
  {
   "cell_type": "markdown",
   "id": "208d9c76-339e-4680-b484-da95d98b5e37",
   "metadata": {},
   "source": [
    "Problem 10: ToDo List Create a class representing a ToDo list with attributes like tasks and due dates. Implement methods to add tasks, mark tasks as completed, and display pending tasks."
   ]
  },
  {
   "cell_type": "code",
   "execution_count": 10,
   "id": "0b1c7721-dea2-4064-a6b9-b1d7e1e2dfc6",
   "metadata": {},
   "outputs": [
    {
     "name": "stdout",
     "output_type": "stream",
     "text": [
      "Initial Pending Task\n",
      "Pending Tasks:\n",
      "Task: Buy groceries DueDate : 2024-06-10 Completed : False\n",
      "Task: Finish project report DueDate : 2024-06-05 Completed : False\n",
      "Task: Call mom DueDate : 2024-06-02 Completed : False\n",
      "Task Mark as completed:\n",
      "Task 'Call mom' marked as completed.\n",
      "Pending Tasks:\n",
      "Task: Buy groceries DueDate : 2024-06-10 Completed : False\n",
      "Task: Finish project report DueDate : 2024-06-05 Completed : False\n"
     ]
    }
   ],
   "source": [
    "class ToDoList:\n",
    "    \n",
    "    def __init__(self):\n",
    "        self.tasks = []\n",
    "    \n",
    "    def Addtasks(self,description,dueDate):\n",
    "        task = {\n",
    "            'Description':description,\n",
    "            'Due_Date':dueDate,\n",
    "            'Completed':False\n",
    "        }\n",
    "        self.tasks.append(task)\n",
    "    \n",
    "    def displayPendingTask(self):\n",
    "        pending_tasks = [task for task in self.tasks if not task['Completed']]\n",
    "        if pending_tasks:\n",
    "            for item in pending_tasks:\n",
    "                print(f\"Task: {item['Description']} DueDate : {item['Due_Date']} Completed : {item['Completed']}\")\n",
    "        else:\n",
    "            print(\"there is no pending task\")\n",
    "            \n",
    "    def MarkTaskCompleted(self,descriptionInfo):\n",
    "        for task in self.tasks:\n",
    "            if task['Description'] == descriptionInfo:\n",
    "                task['Completed'] = True\n",
    "                print(f\"Task '{descriptionInfo}' marked as completed.\")\n",
    "                return\n",
    "        print(f\"Task '{descriptionInfo}' not found.\")\n",
    "    \n",
    "mytodoList = ToDoList()\n",
    "mytodoList.Addtasks(\"Buy groceries\", \"2024-06-10\")\n",
    "mytodoList.Addtasks(\"Finish project report\", \"2024-06-05\")\n",
    "mytodoList.Addtasks(\"Call mom\", \"2024-06-02\")\n",
    "\n",
    "print(\"Initial Pending Task\")\n",
    "print(\"Pending Tasks:\")\n",
    "mytodoList.displayPendingTask()\n",
    "\n",
    "print(\"Task Mark as completed:\")\n",
    "mytodoList.MarkTaskCompleted(\"Call mom\")\n",
    "\n",
    "print(\"Pending Tasks:\")\n",
    "mytodoList.displayPendingTask()"
   ]
  },
  {
   "cell_type": "code",
   "execution_count": null,
   "id": "852a9db0-7272-4b7d-ad6e-262c509a3187",
   "metadata": {},
   "outputs": [],
   "source": []
  }
 ],
 "metadata": {
  "kernelspec": {
   "display_name": "Python 3 (ipykernel)",
   "language": "python",
   "name": "python3"
  },
  "language_info": {
   "codemirror_mode": {
    "name": "ipython",
    "version": 3
   },
   "file_extension": ".py",
   "mimetype": "text/x-python",
   "name": "python",
   "nbconvert_exporter": "python",
   "pygments_lexer": "ipython3",
   "version": "3.10.8"
  }
 },
 "nbformat": 4,
 "nbformat_minor": 5
}
