{
 "cells": [
  {
   "cell_type": "markdown",
   "id": "1ee9fc1e-c61d-44c4-938b-c9c7ec7c7c97",
   "metadata": {},
   "source": [
    "                                         Assignment"
   ]
  },
  {
   "cell_type": "markdown",
   "id": "52ef6675-cf78-4743-a1bd-f96a7b6fe50f",
   "metadata": {},
   "source": [
    "TOPIC: Python Basics Variable"
   ]
  },
  {
   "cell_type": "markdown",
   "id": "3ae25eb1-9efe-4b52-aaed-fd4a6b20c731",
   "metadata": {},
   "source": [
    "Ques-1 : Declare two variables, `x` and `y`, and assign them integer values. Swap the\n",
    "values of these variables without using any temporary variable."
   ]
  },
  {
   "cell_type": "markdown",
   "id": "c6a9ba3d-e035-490b-90ee-ed281c5623d8",
   "metadata": {},
   "source": [
    "Program:"
   ]
  },
  {
   "cell_type": "code",
   "execution_count": 8,
   "id": "92a13db9-56de-45b0-9239-2762a9f7859d",
   "metadata": {},
   "outputs": [
    {
     "name": "stdout",
     "output_type": "stream",
     "text": [
      "Before swapping: \n",
      "Value of x :  10  and y :  15\n",
      "After swapping: \n",
      "Value of x :  15  and y :  10\n"
     ]
    }
   ],
   "source": [
    "x = 10\n",
    "y = 15\n",
    "print (\"Before swapping: \")\n",
    "print(\"Value of x : \", x, \" and y : \", y)\n",
    "y = x+y\n",
    "x = y-x\n",
    "y = y-x\n",
    "print (\"After swapping: \")\n",
    "print(\"Value of x : \", x, \" and y : \", y)"
   ]
  },
  {
   "cell_type": "markdown",
   "id": "4c909f74-1488-423c-b035-168c9f97de1a",
   "metadata": {},
   "source": [
    "Ques-2 : Create a program that calculates the area of a rectangle. Take the length and\n",
    "width as inputs from the user and store them in variables. Calculate and\n",
    "display the area."
   ]
  },
  {
   "cell_type": "markdown",
   "id": "dd5067c0-eca0-477d-893c-ef0feab1735f",
   "metadata": {},
   "source": [
    "Program:"
   ]
  },
  {
   "cell_type": "code",
   "execution_count": 9,
   "id": "3e579403-69ec-4ecc-bb1a-57703ae5bfdc",
   "metadata": {},
   "outputs": [
    {
     "name": "stdout",
     "output_type": "stream",
     "text": [
      "Enter length of Rectangle : \n"
     ]
    },
    {
     "name": "stdin",
     "output_type": "stream",
     "text": [
      " 10\n"
     ]
    },
    {
     "name": "stdout",
     "output_type": "stream",
     "text": [
      "Enter a width of Rectangle :\n"
     ]
    },
    {
     "name": "stdin",
     "output_type": "stream",
     "text": [
      " 15\n"
     ]
    },
    {
     "name": "stdout",
     "output_type": "stream",
     "text": [
      "Length of rectangle is 10.0 and Width of Rectangle is  15.0\n",
      "Area of rectangle is : 150.0\n"
     ]
    }
   ],
   "source": [
    "print(\"Enter length of Rectangle : \")\n",
    "length = float(input())\n",
    "print(\"Enter a width of Rectangle :\")\n",
    "width = float(input())\n",
    "print(\"Length of rectangle is\",length ,\"and Width of Rectangle is \",width)\n",
    "# Formula to calculate area of Rectangle\n",
    "area = length*width\n",
    "print(\"Area of rectangle is :\", area)"
   ]
  },
  {
   "cell_type": "markdown",
   "id": "c3a02e1e-8c02-4a3e-92be-7221a250e9db",
   "metadata": {},
   "source": [
    "Ques-3: Write a Python program that converts temperatures from Celsius to\n",
    "Fahrenheit. Take the temperature in Celsius as input, store it in a variable,\n",
    "convert it to Fahrenheit, and display the result."
   ]
  },
  {
   "cell_type": "markdown",
   "id": "39b1fb7f-b386-4a9c-bbc5-56bd029a3b5d",
   "metadata": {},
   "source": [
    "Program:"
   ]
  },
  {
   "cell_type": "code",
   "execution_count": 10,
   "id": "52d79368-6d2f-4c24-a178-c79b9072632c",
   "metadata": {},
   "outputs": [
    {
     "name": "stdout",
     "output_type": "stream",
     "text": [
      "Enter Temperature in Celsius\n"
     ]
    },
    {
     "name": "stdin",
     "output_type": "stream",
     "text": [
      " 45\n"
     ]
    },
    {
     "name": "stdout",
     "output_type": "stream",
     "text": [
      "Temperature in Celsius: 45.0\n",
      "Temperature in Fahrenheit: 113.0\n"
     ]
    }
   ],
   "source": [
    "print(\"Enter Temperature in Celsius\")\n",
    "temp_Celsius = float(input())\n",
    "print(\"Temperature in Celsius:\",temp_Celsius)\n",
    "# Formula to Convert Celsius to Fahrenheit\n",
    "temp_Fahrenheit = (temp_Celsius*(9/5))+32\n",
    "print(\"Temperature in Fahrenheit:\",temp_Fahrenheit)"
   ]
  },
  {
   "cell_type": "markdown",
   "id": "f505bd9e-8d1a-4812-90ca-2c5c1f388cca",
   "metadata": {},
   "source": [
    "TOPIC: String Based Questions"
   ]
  },
  {
   "cell_type": "markdown",
   "id": "fd478228-5f22-41d5-83c6-9b2e40472f0d",
   "metadata": {},
   "source": [
    "Ques-1 Write a Python program that takes a string as input and prints the length of\n",
    "the string."
   ]
  },
  {
   "cell_type": "markdown",
   "id": "2e815825-be97-48a7-bde2-ec99ac9c01b9",
   "metadata": {},
   "source": [
    "Program"
   ]
  },
  {
   "cell_type": "code",
   "execution_count": 11,
   "id": "7fe1283b-9ef3-4291-9209-bad2feae0f91",
   "metadata": {
    "tags": []
   },
   "outputs": [
    {
     "name": "stdout",
     "output_type": "stream",
     "text": [
      "please Enter any string to Calculate length of a string\n"
     ]
    },
    {
     "name": "stdin",
     "output_type": "stream",
     "text": [
      " maneesh\n"
     ]
    },
    {
     "name": "stdout",
     "output_type": "stream",
     "text": [
      "Length of Input string is: 7\n"
     ]
    }
   ],
   "source": [
    "print(\"please Enter any string to Calculate length of a string\")\n",
    "s = str(input())\n",
    "print(\"Length of Input string is:\", len(s))"
   ]
  },
  {
   "cell_type": "markdown",
   "id": "76722d7a-8598-439b-8f31-c86a76207e16",
   "metadata": {},
   "source": [
    "Ques-2 Create a program that takes a sentence from the user and counts the number\n",
    "of vowels (a, e, i, o, u) in the string."
   ]
  },
  {
   "cell_type": "markdown",
   "id": "b64d0fc2-fe58-4dfe-b41a-bbb6a808c1b6",
   "metadata": {},
   "source": [
    "Program"
   ]
  },
  {
   "cell_type": "code",
   "execution_count": null,
   "id": "620316e2-b862-4f17-8232-9f234c7c53c5",
   "metadata": {},
   "outputs": [
    {
     "name": "stdout",
     "output_type": "stream",
     "text": [
      "Please Enter a Sentence\n"
     ]
    }
   ],
   "source": [
    "print(\"Please Enter a Sentence\")\n",
    "input_sentence = str(input())\n",
    "count = 0\n",
    "vowels  = \"aeiou\"\n",
    "for item in input_sentence:\n",
    "    if item in vowels:\n",
    "        count =count+1\n",
    "print(\"No. of Vowels:\",count)"
   ]
  },
  {
   "cell_type": "markdown",
   "id": "a2e70fab-e311-4fa0-886e-3ae5c53e9174",
   "metadata": {},
   "source": [
    "Ques-3 Given a string, reverse the order of characters using string slicing and print\n",
    "the reversed string."
   ]
  },
  {
   "cell_type": "code",
   "execution_count": null,
   "id": "6e43f08c-aff7-4f88-8282-56ee5d19b7c2",
   "metadata": {},
   "outputs": [],
   "source": [
    "input_string = \"Fahrenheit\"\n",
    "print(\"Reversed String of\",input_string, \"is\",input_string[-1:-11:-1])"
   ]
  },
  {
   "cell_type": "markdown",
   "id": "26955551-37be-4f06-8fc0-8f30f3ff186a",
   "metadata": {},
   "source": [
    "Ques-4 Write a program that takes a string as input and checks if it is a palindrome\n",
    "(reads the same forwards and backwards)"
   ]
  },
  {
   "cell_type": "markdown",
   "id": "0a0b490c-4172-4aea-ac13-a8e1218cbb35",
   "metadata": {},
   "source": [
    "Program"
   ]
  },
  {
   "cell_type": "code",
   "execution_count": null,
   "id": "4b011f1f-3e0f-4963-934b-2431b8083cff",
   "metadata": {},
   "outputs": [],
   "source": [
    "print(\"Please Enter a String\")\n",
    "in_string = str(input())\n",
    "reversed_string = in_string[-1:-(len(in_string)+1):-1]\n",
    "if reversed_string == in_string:\n",
    "    print(\"Input String is palindrome\")\n",
    "else :\n",
    "    print(\"Input String is not palindrome\")"
   ]
  },
  {
   "cell_type": "markdown",
   "id": "1d5f6dc9-4274-452a-bac8-5ff88bd27043",
   "metadata": {},
   "source": [
    "Ques:5 Create a program that takes a string as input and removes all the spaces from\n",
    "it. Print the modified string without spaces."
   ]
  },
  {
   "cell_type": "markdown",
   "id": "b5b2cc8b-cfbd-443c-b0a2-e23eb7451e0e",
   "metadata": {},
   "source": [
    "Program"
   ]
  },
  {
   "cell_type": "code",
   "execution_count": null,
   "id": "24f043a6-642d-4c22-970d-d0beb5df8a6a",
   "metadata": {},
   "outputs": [],
   "source": [
    "print(\"Please Enter a String\")\n",
    "inp_string = str(input())\n",
    "print(\"String after removed space:\", inp_string.replace(\" \", \"\"))"
   ]
  }
 ],
 "metadata": {
  "kernelspec": {
   "display_name": "Python 3 (ipykernel)",
   "language": "python",
   "name": "python3"
  },
  "language_info": {
   "codemirror_mode": {
    "name": "ipython",
    "version": 3
   },
   "file_extension": ".py",
   "mimetype": "text/x-python",
   "name": "python",
   "nbconvert_exporter": "python",
   "pygments_lexer": "ipython3",
   "version": "3.10.8"
  }
 },
 "nbformat": 4,
 "nbformat_minor": 5
}
