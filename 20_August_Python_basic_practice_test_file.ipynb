{
 "cells": [
  {
   "cell_type": "markdown",
   "id": "aee55aa7-7ce7-4aa3-b1e6-6a5900b90676",
   "metadata": {},
   "source": [
    "TOPIC: String Based Assignment Problem"
   ]
  },
  {
   "cell_type": "markdown",
   "id": "30ef8524-d98c-4839-b49e-3b29a347d048",
   "metadata": {},
   "source": [
    "Problem 1 : Write a program to reverse a string."
   ]
  },
  {
   "cell_type": "code",
   "execution_count": 1,
   "id": "bbadbb2b-0c4f-41bf-95d8-b4b11c81cd0f",
   "metadata": {},
   "outputs": [],
   "source": [
    "s = \"pwskills\""
   ]
  },
  {
   "cell_type": "code",
   "execution_count": 2,
   "id": "b78a624b-ec49-42c6-9f41-1aa52b366139",
   "metadata": {},
   "outputs": [
    {
     "data": {
      "text/plain": [
       "'sllikswp'"
      ]
     },
     "execution_count": 2,
     "metadata": {},
     "output_type": "execute_result"
    }
   ],
   "source": [
    "s[::-1]"
   ]
  },
  {
   "cell_type": "markdown",
   "id": "d1717f90-a316-4922-a663-ba5f5292d4d7",
   "metadata": {},
   "source": [
    "Problem 2 : Check if a string is a palindrome."
   ]
  },
  {
   "cell_type": "code",
   "execution_count": 3,
   "id": "c48615ef-dd31-488b-89fc-a0100d7c2c8f",
   "metadata": {},
   "outputs": [
    {
     "name": "stdout",
     "output_type": "stream",
     "text": [
      "String is Palindrome\n"
     ]
    }
   ],
   "source": [
    "def isPalindrome(string):\n",
    "    if(string==string[::-1]):\n",
    "        return \"String is Palindrome\"\n",
    "    else:\n",
    "        return \"String is not Palindrome\"\n",
    "print(isPalindrome(\"MOM\"))"
   ]
  },
  {
   "cell_type": "markdown",
   "id": "d7f4d0be-82a1-4a26-bc38-a3d025316c73",
   "metadata": {},
   "source": [
    "Problem 3 :Convert a string to uppercase."
   ]
  },
  {
   "cell_type": "code",
   "execution_count": 4,
   "id": "f530a620-b01c-4b9d-8bcf-b57c0c456ee8",
   "metadata": {},
   "outputs": [
    {
     "name": "stdout",
     "output_type": "stream",
     "text": [
      "MANEESH KUMAR\n"
     ]
    }
   ],
   "source": [
    "s1 = \"Maneesh Kumar\"\n",
    "print(s1.upper())"
   ]
  },
  {
   "cell_type": "markdown",
   "id": "bba8732b-b88a-4ccb-967c-0a70ef90efbd",
   "metadata": {},
   "source": [
    "Problem 4 : Convert a string to lowercase."
   ]
  },
  {
   "cell_type": "code",
   "execution_count": 5,
   "id": "d51c612a-a567-4045-882d-cf80c1319938",
   "metadata": {},
   "outputs": [
    {
     "name": "stdout",
     "output_type": "stream",
     "text": [
      "maneesh kumar\n"
     ]
    }
   ],
   "source": [
    "s2 = \"Maneesh Kumar\"\n",
    "print(s1.lower())"
   ]
  },
  {
   "cell_type": "markdown",
   "id": "19781295-be77-4571-8928-a3a69107bbe7",
   "metadata": {},
   "source": [
    "Problem 5 : Count the number of vowels in a string."
   ]
  },
  {
   "cell_type": "code",
   "execution_count": 6,
   "id": "9d47171a-41f2-42aa-bff4-429727410f93",
   "metadata": {},
   "outputs": [
    {
     "name": "stdout",
     "output_type": "stream",
     "text": [
      "No. of Vowels: 8\n"
     ]
    }
   ],
   "source": [
    "s3 = \"My name is maneesh Kumar\"\n",
    "count = 0\n",
    "vowels  = \"aeiou\"\n",
    "for item in s3:\n",
    "    if item in vowels:\n",
    "        count =count+1\n",
    "print(\"No. of Vowels:\",count)"
   ]
  },
  {
   "cell_type": "markdown",
   "id": "9c522a51-0357-4db4-b110-ea2970db0de7",
   "metadata": {},
   "source": [
    "Problem 6 : Count the number of consonants in a string."
   ]
  },
  {
   "cell_type": "code",
   "execution_count": 7,
   "id": "a57b6073-3879-4355-8403-1474617e59d7",
   "metadata": {},
   "outputs": [
    {
     "name": "stdout",
     "output_type": "stream",
     "text": [
      "No. of Consonants: 14\n"
     ]
    }
   ],
   "source": [
    "s4 = \"String is not a Palindrome\"\n",
    "consonantsCount = 0\n",
    "vowelsCount = \"abcdfghjklmnpqrstvwxyz\"\n",
    "for item in s4:\n",
    "    if item in vowelsCount:\n",
    "        consonantsCount = consonantsCount+1\n",
    "print(\"No. of Consonants:\",consonantsCount)"
   ]
  },
  {
   "cell_type": "markdown",
   "id": "94ea98f5-234a-43f7-8196-79178203d672",
   "metadata": {},
   "source": [
    "Problem 7 : Remove all whitespaces from a string."
   ]
  },
  {
   "cell_type": "code",
   "execution_count": 8,
   "id": "29a68243-79de-4468-a36a-7cfbb7b61ba2",
   "metadata": {},
   "outputs": [
    {
     "data": {
      "text/plain": [
       "'test data'"
      ]
     },
     "execution_count": 8,
     "metadata": {},
     "output_type": "execute_result"
    }
   ],
   "source": [
    "s5 = \"  test data \"\n",
    "s5.strip()"
   ]
  },
  {
   "cell_type": "markdown",
   "id": "590edda5-f29e-4331-ae5d-ae621986b563",
   "metadata": {},
   "source": [
    "Problem 8 : Find the length of a string without using the `len()` function."
   ]
  },
  {
   "cell_type": "code",
   "execution_count": 9,
   "id": "cc235be5-6c7f-4dba-beb4-1322030af673",
   "metadata": {},
   "outputs": [
    {
     "name": "stdout",
     "output_type": "stream",
     "text": [
      "7\n"
     ]
    }
   ],
   "source": [
    "s6 = \"Maneesh\"\n",
    "length = 0\n",
    "for item in s6:\n",
    "    length = length+1\n",
    "print(length)"
   ]
  },
  {
   "cell_type": "markdown",
   "id": "2469f339-7723-4ac7-9e08-f00b0c014ac7",
   "metadata": {},
   "source": [
    "Problem 9 : Check if a string contains a specific word."
   ]
  },
  {
   "cell_type": "code",
   "execution_count": 10,
   "id": "94956fa5-efd6-4599-9133-4e4b75dd8492",
   "metadata": {},
   "outputs": [
    {
     "name": "stdout",
     "output_type": "stream",
     "text": [
      "String Contains loves\n"
     ]
    }
   ],
   "source": [
    "s7 = \"The king loves is queen\"\n",
    "item = \"loves\"\n",
    "if item in s7:\n",
    "    print(\"String Contains\",item)\n",
    "else:\n",
    "    print(\"String does not contains\",item)"
   ]
  },
  {
   "cell_type": "markdown",
   "id": "3ca87b33-8cb0-4d61-a5dc-4af9d8a32c8d",
   "metadata": {},
   "source": [
    "Problem 10 :Replace a word in a string with another word."
   ]
  },
  {
   "cell_type": "code",
   "execution_count": 11,
   "id": "da639eee-f0af-4dc8-9556-65dc5262c721",
   "metadata": {},
   "outputs": [
    {
     "data": {
      "text/plain": [
       "'The king hates is queen'"
      ]
     },
     "execution_count": 11,
     "metadata": {},
     "output_type": "execute_result"
    }
   ],
   "source": [
    "s8 = \"The king loves is queen\"\n",
    "word = \"hates\"\n",
    "s8.replace(\"loves\",word)"
   ]
  },
  {
   "cell_type": "markdown",
   "id": "82fef42b-9a7f-4dff-956b-7198c27b80bd",
   "metadata": {},
   "source": [
    "Promblem 11: Count the occurrences of a word in a string."
   ]
  },
  {
   "cell_type": "code",
   "execution_count": 12,
   "id": "55caf72b-365f-4ed0-b95b-00ee7a335096",
   "metadata": {},
   "outputs": [
    {
     "name": "stdout",
     "output_type": "stream",
     "text": [
      "No. of Occurrences of - the: 1\n"
     ]
    }
   ],
   "source": [
    "s9 = \"Count the occurrences of a word in a string.\"\n",
    "print(\"No. of Occurrences of - the:\",s9.count(\"the\"))"
   ]
  },
  {
   "cell_type": "markdown",
   "id": "24ba6c91-85d0-4c77-bcab-297f5962b213",
   "metadata": {},
   "source": [
    "Promblem 12: Find the first occurrence of a word in a string."
   ]
  },
  {
   "cell_type": "code",
   "execution_count": 13,
   "id": "d7b2b407-028c-4750-8a10-7dd07d7aafdc",
   "metadata": {},
   "outputs": [
    {
     "data": {
      "text/plain": [
       "26"
      ]
     },
     "execution_count": 13,
     "metadata": {},
     "output_type": "execute_result"
    }
   ],
   "source": [
    "txt = \"Visit Pwskills tutorials. very very nice\"\n",
    "txt.find(\"very\")"
   ]
  },
  {
   "cell_type": "markdown",
   "id": "b85d0c34-59ad-4952-a8fd-540b524bdabf",
   "metadata": {},
   "source": [
    "Promblem 13: Find the last occurrence of a word in a string."
   ]
  },
  {
   "cell_type": "code",
   "execution_count": 14,
   "id": "f984e799-c074-4fac-be05-22251b00a2a5",
   "metadata": {},
   "outputs": [
    {
     "data": {
      "text/plain": [
       "31"
      ]
     },
     "execution_count": 14,
     "metadata": {},
     "output_type": "execute_result"
    }
   ],
   "source": [
    "txt = \"Visit Pwskills tutorials. very very nice\"\n",
    "txt.rfind(\"very\")"
   ]
  },
  {
   "cell_type": "markdown",
   "id": "48b51d6d-2a91-42d0-8dc2-71bd9d605d7b",
   "metadata": {},
   "source": [
    "Promblem 14: Split a string into a list of words."
   ]
  },
  {
   "cell_type": "code",
   "execution_count": 15,
   "id": "c184dd53-bf2f-4652-a633-968c5381acbf",
   "metadata": {},
   "outputs": [
    {
     "data": {
      "text/plain": [
       "['Visit', 'Pwskills', 'tutorials.', 'very', 'very', 'nice']"
      ]
     },
     "execution_count": 15,
     "metadata": {},
     "output_type": "execute_result"
    }
   ],
   "source": [
    "txt = \"Visit Pwskills tutorials. very very nice\"\n",
    "txt.split()"
   ]
  },
  {
   "cell_type": "markdown",
   "id": "c9514fdd-81d5-4d7c-911b-39b868ba6dd1",
   "metadata": {},
   "source": [
    "Promblem 15: Join a list of words into a string."
   ]
  },
  {
   "cell_type": "code",
   "execution_count": 16,
   "id": "54f8e7c1-5471-40b9-b541-25274a7ffd70",
   "metadata": {},
   "outputs": [
    {
     "name": "stdout",
     "output_type": "stream",
     "text": [
      "Visit Pwskills tutorials. very very nice\n"
     ]
    }
   ],
   "source": [
    "listofwords = ['Visit', 'Pwskills', 'tutorials.', 'very', 'very', 'nice']\n",
    "txtstring = ' '.join(listofwords)\n",
    "print(txtstring)"
   ]
  },
  {
   "cell_type": "markdown",
   "id": "6f4670f1-8139-4fcc-89bc-bc841da52d74",
   "metadata": {},
   "source": [
    "Promblem 16: Convert a string where words are separated by spaces to one where words\n",
    "are separated by underscores."
   ]
  },
  {
   "cell_type": "code",
   "execution_count": 17,
   "id": "bbfdc3c9-87c6-4a63-9940-05d6e3682838",
   "metadata": {},
   "outputs": [
    {
     "name": "stdout",
     "output_type": "stream",
     "text": [
      "Visit_Pwskills_tutorials_very_very_nice\n"
     ]
    }
   ],
   "source": [
    "txt = \"Visit Pwskills tutorials very very nice\"\n",
    "print(txt.replace(' ','_'))"
   ]
  },
  {
   "cell_type": "markdown",
   "id": "45c770a3-e4a2-4b97-8db4-a063e9ee81fc",
   "metadata": {},
   "source": [
    "Promblem 17: Check if a string starts with a specific word or phrase."
   ]
  },
  {
   "cell_type": "code",
   "execution_count": 18,
   "id": "1ac6cf9f-8263-4bbf-9a00-4ad1bc5733dc",
   "metadata": {},
   "outputs": [
    {
     "data": {
      "text/plain": [
       "True"
      ]
     },
     "execution_count": 18,
     "metadata": {},
     "output_type": "execute_result"
    }
   ],
   "source": [
    "txt = \"Hello, welcome to my world.\"\n",
    "txt.startswith(\"Hello\")"
   ]
  },
  {
   "cell_type": "markdown",
   "id": "69b2f25c-516f-46da-b4fb-4b569d941fb9",
   "metadata": {},
   "source": [
    "Promblem 18: Check if a string ends with a specific word or phrase."
   ]
  },
  {
   "cell_type": "code",
   "execution_count": 19,
   "id": "71de77d9-535b-4d54-9c23-93b6029b370f",
   "metadata": {},
   "outputs": [
    {
     "data": {
      "text/plain": [
       "True"
      ]
     },
     "execution_count": 19,
     "metadata": {},
     "output_type": "execute_result"
    }
   ],
   "source": [
    "txt = \"Hello, welcome to my world\"\n",
    "txt.endswith(\"world\")"
   ]
  },
  {
   "cell_type": "markdown",
   "id": "e5d1e2a9-206b-41ac-8edb-961a323b46fb",
   "metadata": {},
   "source": [
    "Promblem 19: Convert a string to title case (e.g., \"hello world\" to \"Hello World\")."
   ]
  },
  {
   "cell_type": "code",
   "execution_count": 20,
   "id": "fa41c7cb-1edb-44bd-ae29-b79a67401013",
   "metadata": {},
   "outputs": [
    {
     "data": {
      "text/plain": [
       "'Hello World'"
      ]
     },
     "execution_count": 20,
     "metadata": {},
     "output_type": "execute_result"
    }
   ],
   "source": [
    "txt = \"hello world\"\n",
    "txt.title()"
   ]
  },
  {
   "cell_type": "markdown",
   "id": "24058d4f-c198-497d-9bf6-50e2b2d65ed5",
   "metadata": {},
   "source": [
    "Problem 20: Find the longest word in a string."
   ]
  },
  {
   "cell_type": "code",
   "execution_count": 21,
   "id": "f8f59a96-5bc7-4a70-bfde-42d20b1f1b64",
   "metadata": {},
   "outputs": [
    {
     "data": {
      "text/plain": [
       "'welcome'"
      ]
     },
     "execution_count": 21,
     "metadata": {},
     "output_type": "execute_result"
    }
   ],
   "source": [
    "txt = \"Hello, welcome to my world\"\n",
    "listofData = txt.split(' ')\n",
    "sortedString = sorted(listofData,key = len)\n",
    "sortedString[-1]"
   ]
  },
  {
   "cell_type": "markdown",
   "id": "14bbc4af-7bcf-4a0a-beb9-e555169f2420",
   "metadata": {},
   "source": [
    "Problem 21 : Find the shortest word in a string."
   ]
  },
  {
   "cell_type": "code",
   "execution_count": 22,
   "id": "a8fd2c79-579e-4f9a-885a-44587e00b709",
   "metadata": {},
   "outputs": [
    {
     "data": {
      "text/plain": [
       "'to'"
      ]
     },
     "execution_count": 22,
     "metadata": {},
     "output_type": "execute_result"
    }
   ],
   "source": [
    "txt = \"Hello, welcome to my world\"\n",
    "listofData = txt.split(' ')\n",
    "sortedString = sorted(listofData,key = len)\n",
    "sortedString[0]"
   ]
  },
  {
   "cell_type": "markdown",
   "id": "ad71c8f1-8738-49ef-bbf8-d88a8ba6da90",
   "metadata": {},
   "source": [
    "Problem 22: Reverse the order of words in a string."
   ]
  },
  {
   "cell_type": "code",
   "execution_count": 23,
   "id": "8d9baa6d-cf6b-4efa-820a-ce27e301b382",
   "metadata": {},
   "outputs": [
    {
     "name": "stdout",
     "output_type": "stream",
     "text": [
      "world my to welcome Hello,\n"
     ]
    }
   ],
   "source": [
    "txt = \"Hello, welcome to my world\"\n",
    "listofSplit = txt.split(' ')\n",
    "#print the reverse word of string\n",
    "print(' '.join(listofSplit[::-1]))"
   ]
  },
  {
   "cell_type": "markdown",
   "id": "2ca48d8c-d953-4ef5-aa10-5790b4f5740e",
   "metadata": {},
   "source": [
    "Problem 23: Check if a string is alphanumeric."
   ]
  },
  {
   "cell_type": "code",
   "execution_count": 24,
   "id": "49be4a34-cc91-40d2-8986-48d027e24d1d",
   "metadata": {},
   "outputs": [
    {
     "name": "stdout",
     "output_type": "stream",
     "text": [
      "String is AlphaNumeric\n"
     ]
    }
   ],
   "source": [
    "txt = \"pwskills99\"\n",
    "def checkStringisAlphaNumric(s):\n",
    "    if(txt.isalnum()):\n",
    "        print(\"String is AlphaNumeric\")\n",
    "    else:\n",
    "        print(\"String is not a AlphaNumeric\")\n",
    "checkStringisAlphaNumric(txt)"
   ]
  },
  {
   "cell_type": "markdown",
   "id": "e7995126-e467-4b7a-9ea5-1c795308d700",
   "metadata": {},
   "source": [
    "Problem 24: Extract all digits from a string."
   ]
  },
  {
   "cell_type": "code",
   "execution_count": 25,
   "id": "ab3ebb8b-2320-481e-874a-6337c2c3692c",
   "metadata": {},
   "outputs": [
    {
     "name": "stdout",
     "output_type": "stream",
     "text": [
      "The digits string is : 99\n"
     ]
    }
   ],
   "source": [
    "import re\n",
    "txt = \"pwskills99\"\n",
    "# Extract digit string \n",
    "res = re.sub(\"\\D\", \"\", txt)     \n",
    "# print result\n",
    "print(\"The digits string is : \" + str(res))"
   ]
  },
  {
   "cell_type": "markdown",
   "id": "c6c511e0-7b95-4072-8c1c-f4535e48534b",
   "metadata": {},
   "source": [
    "Problem 25 : Extract all alphabets from a string."
   ]
  },
  {
   "cell_type": "code",
   "execution_count": 26,
   "id": "cd84d135-dc27-468c-be4b-f702216938c9",
   "metadata": {},
   "outputs": [
    {
     "name": "stdout",
     "output_type": "stream",
     "text": [
      "The string is : pwskills\n"
     ]
    }
   ],
   "source": [
    "import re\n",
    "txt = \"pwskills99\"\n",
    "# Extract digit string \n",
    "res = \" \".join(re.findall(\"[a-zA-Z]+\", txt))\n",
    "# print result\n",
    "print(\"The string is : \" + str(res))"
   ]
  },
  {
   "cell_type": "markdown",
   "id": "8d0f0033-0b18-4691-8daa-d66c37173ca0",
   "metadata": {},
   "source": [
    "Problem 26 : Count the number of uppercase letters in a string."
   ]
  },
  {
   "cell_type": "code",
   "execution_count": 27,
   "id": "d4260252-1df6-44d4-9d3d-c819fe82b065",
   "metadata": {},
   "outputs": [
    {
     "name": "stdout",
     "output_type": "stream",
     "text": [
      "Number of UpperCase letter in String: 4\n"
     ]
    }
   ],
   "source": [
    "txt = \"My Name is Maneesh Kumar\"\n",
    "count = 0\n",
    "for i in txt:\n",
    "    if (i.isupper()):\n",
    "        count +=1\n",
    "print(\"Number of UpperCase letter in String:\",count)"
   ]
  },
  {
   "cell_type": "markdown",
   "id": "4a6f754f-5cbb-44b8-952d-1c9610bf1d96",
   "metadata": {},
   "source": [
    "Problem 27:Count the number of lowercase letters in a string."
   ]
  },
  {
   "cell_type": "code",
   "execution_count": 28,
   "id": "9cd26fad-c13a-4df1-a31a-83f1a7aa43ae",
   "metadata": {},
   "outputs": [
    {
     "name": "stdout",
     "output_type": "stream",
     "text": [
      "Number of lowerCase letter in String: 22\n"
     ]
    }
   ],
   "source": [
    "txt = \"Virat Kohali is a good player\"\n",
    "count = 0\n",
    "for i in txt:\n",
    "    if(i.islower()):\n",
    "        count +=1\n",
    "print(\"Number of lowerCase letter in String:\",count)"
   ]
  },
  {
   "cell_type": "markdown",
   "id": "b1efff71-5204-40e3-8269-c804e1c36550",
   "metadata": {},
   "source": [
    "Problem 28: Swap the case of each character in a string."
   ]
  },
  {
   "cell_type": "code",
   "execution_count": 29,
   "id": "e7873a45-3eb3-4e48-9437-b1266cee6e5c",
   "metadata": {},
   "outputs": [
    {
     "name": "stdout",
     "output_type": "stream",
     "text": [
      "vIRAT kOhAlI\n"
     ]
    }
   ],
   "source": [
    "txt = \"Virat KoHaLi\"\n",
    "txt = txt.swapcase()\n",
    "print(txt)"
   ]
  },
  {
   "cell_type": "markdown",
   "id": "ae94271a-1add-40af-9062-ffdccd134507",
   "metadata": {},
   "source": [
    "Problem 29: Remove a specific word from a string."
   ]
  },
  {
   "cell_type": "code",
   "execution_count": 30,
   "id": "d7fa5ab0-f509-4e93-9c31-36b4d8e924f8",
   "metadata": {},
   "outputs": [
    {
     "name": "stdout",
     "output_type": "stream",
     "text": [
      "After removing specific word: Swap the case of  character in a string.\n"
     ]
    }
   ],
   "source": [
    "txt = \"Swap the case of each character in a string.\"\n",
    "txt = txt.replace(\"each\",'')\n",
    "print(\"After removing specific word:\",txt)"
   ]
  },
  {
   "cell_type": "markdown",
   "id": "93d984b6-84eb-48e6-8740-0583fb3c55f5",
   "metadata": {},
   "source": [
    "Problem 30: Check if a string is a valid email address."
   ]
  },
  {
   "cell_type": "code",
   "execution_count": 31,
   "id": "e9213b46-afd1-4022-a431-93adb08b3c24",
   "metadata": {},
   "outputs": [
    {
     "name": "stdout",
     "output_type": "stream",
     "text": [
      "example@email.com is a valid email address.\n"
     ]
    }
   ],
   "source": [
    "import re\n",
    "\n",
    "def is_valid_email(email):\n",
    "    pattern = r'^[\\w\\.-]+@[a-zA-Z\\d\\.-]+\\.[a-zA-Z]{2,}$'\n",
    "    return bool(re.match(pattern, email))\n",
    "\n",
    "# Example usage:\n",
    "email_to_check = \"example@email.com\"\n",
    "if is_valid_email(email_to_check):\n",
    "    print(f\"{email_to_check} is a valid email address.\")\n",
    "else:\n",
    "    print(f\"{email_to_check} is not a valid email address.\")\n"
   ]
  },
  {
   "cell_type": "markdown",
   "id": "aca5b4b8-c1f4-46f6-8b19-b5bebfccc4b0",
   "metadata": {},
   "source": [
    "Problem 31 : Extract the username from an email address string."
   ]
  },
  {
   "cell_type": "code",
   "execution_count": 32,
   "id": "56be10e5-0434-4652-8347-87ff0cddb21e",
   "metadata": {},
   "outputs": [
    {
     "name": "stdout",
     "output_type": "stream",
     "text": [
      "Extracted Username from Email Address: example123\n"
     ]
    }
   ],
   "source": [
    "def extract_username(email):\n",
    "    username = email.split('@')[0]\n",
    "    return username\n",
    "email_address = \"example123@gmail.com\"\n",
    "username_extracted = extract_username(email_address)\n",
    "print(\"Extracted Username from Email Address:\",username_extracted)"
   ]
  },
  {
   "cell_type": "markdown",
   "id": "474ed933-d997-4e7e-9282-e14b30c280fe",
   "metadata": {},
   "source": [
    "Problem 32: Extract the domain name from an email address string."
   ]
  },
  {
   "cell_type": "code",
   "execution_count": 33,
   "id": "3778312d-9b25-4e6d-a956-cf812788566d",
   "metadata": {},
   "outputs": [
    {
     "name": "stdout",
     "output_type": "stream",
     "text": [
      "Extracted Domain Name from Email Address: gmail.com\n"
     ]
    }
   ],
   "source": [
    "def extract_domanName(email):\n",
    "    domain = email.split('@')[1]\n",
    "    return domain\n",
    "email_address = \"example123@gmail.com\"\n",
    "domain_extracted = extract_domanName(email_address)\n",
    "print(\"Extracted Domain Name from Email Address:\",domain_extracted)"
   ]
  },
  {
   "cell_type": "markdown",
   "id": "6579b74c-7eb0-4643-922b-832040ac9bdd",
   "metadata": {},
   "source": [
    "Problem 33: Replace multiple spaces in a string with a single space."
   ]
  },
  {
   "cell_type": "code",
   "execution_count": 34,
   "id": "14c813db-4cb0-4eb9-a4fb-246b5ff00ad7",
   "metadata": {},
   "outputs": [
    {
     "name": "stdout",
     "output_type": "stream",
     "text": [
      "A good player is respect everyone in his team\n"
     ]
    }
   ],
   "source": [
    "txt = \"A good    player is   respect everyone   in his    team\"\n",
    "def replace_multiple_spaces_with_single_space(input_string):\n",
    "    return ' '.join(input_string.split())\n",
    "modified_string = replace_multiple_spaces_with_single_space(txt)\n",
    "print(modified_string)"
   ]
  },
  {
   "cell_type": "markdown",
   "id": "e0fd629c-f2dd-4dba-b37b-3229eef5fcc5",
   "metadata": {},
   "source": [
    "Problem 34: Check if a string is a valid URL."
   ]
  },
  {
   "cell_type": "code",
   "execution_count": 35,
   "id": "afcf8cec-6fe0-437d-a50b-d9094e7ae11e",
   "metadata": {},
   "outputs": [
    {
     "name": "stdout",
     "output_type": "stream",
     "text": [
      "https://www.google.com is a valid url\n"
     ]
    }
   ],
   "source": [
    "from urllib.parse import urlparse\n",
    "def check_Valid_Url(stringurl):\n",
    "    try:\n",
    "        result = urlparse(stringurl)\n",
    "        return all([result.scheme,result.netloc])\n",
    "    except ValueError:\n",
    "        return False\n",
    "url_string = \"https://www.google.com\"\n",
    "if (check_Valid_Url(url_string)):\n",
    "    print(f\"{url_string} is a valid url\")\n",
    "else:\n",
    "    print(f\"{url_string} is not a valid url\")"
   ]
  },
  {
   "cell_type": "markdown",
   "id": "f8c325b0-0b0a-4338-a4f2-991351cc1b6c",
   "metadata": {},
   "source": [
    "Problem 35 : Extract the protocol (http or https) from a URL string."
   ]
  },
  {
   "cell_type": "code",
   "execution_count": 36,
   "id": "860420cc-e950-4833-a53a-478c218724f3",
   "metadata": {},
   "outputs": [
    {
     "name": "stdout",
     "output_type": "stream",
     "text": [
      "The protocol of https://www.google.com is: https\n"
     ]
    }
   ],
   "source": [
    "from urllib.parse import urlparse\n",
    "\n",
    "def extract_protocol(url):\n",
    "    parsed_url = urlparse(url)\n",
    "    return parsed_url.scheme\n",
    "\n",
    "# Example usage:\n",
    "url_to_check = \"https://www.google.com\"\n",
    "protocol = extract_protocol(url_to_check)\n",
    "print(f\"The protocol of {url_to_check} is: {protocol}\")\n"
   ]
  },
  {
   "cell_type": "markdown",
   "id": "f7153ac1-9a24-40e1-ac21-b74c54d4aacf",
   "metadata": {},
   "source": [
    "Problem 36 : Find the frequency of each character in a string."
   ]
  },
  {
   "cell_type": "code",
   "execution_count": 37,
   "id": "d93a4770-31f7-4237-b0de-68910f325cd5",
   "metadata": {},
   "outputs": [
    {
     "name": "stdout",
     "output_type": "stream",
     "text": [
      "Frequency of Each character: {'F': 1, 'i': 3, 'n': 4, 'd': 1, ' ': 8, 't': 3, 'h': 3, 'e': 5, 'f': 2, 'r': 4, 'q': 1, 'u': 1, 'c': 4, 'y': 1, 'o': 1, 'a': 4, 's': 1, 'g': 1, '.': 1}\n"
     ]
    }
   ],
   "source": [
    "txt = \"Find the frequency of each character in a string.\"\n",
    "frequency = {}\n",
    "for i in txt:\n",
    "    if (i in frequency):\n",
    "        frequency[i] +=1\n",
    "    else:\n",
    "        frequency[i] = 1\n",
    "print(\"Frequency of Each character:\",frequency)"
   ]
  },
  {
   "cell_type": "markdown",
   "id": "7aa3bcaf-b375-452f-8ca7-27cd6da13e0a",
   "metadata": {},
   "source": [
    "Problem 37 : Remove all punctuation from a string."
   ]
  },
  {
   "cell_type": "code",
   "execution_count": 38,
   "id": "4d03c461-0c98-4925-b93b-350e148cb279",
   "metadata": {},
   "outputs": [
    {
     "name": "stdout",
     "output_type": "stream",
     "text": [
      "Cleaned String: Remove  all punctuation from  a string\n"
     ]
    }
   ],
   "source": [
    "import string\n",
    "txt = \"Remove ! all. punctuation from ! a string.\"\n",
    "def remove_punctuation(input_string):\n",
    "    translator = str.maketrans('','',string.punctuation)\n",
    "    cleaned_string = input_string.translate(translator)\n",
    "    return cleaned_string\n",
    "print(\"Cleaned String:\",remove_punctuation(txt))"
   ]
  },
  {
   "cell_type": "markdown",
   "id": "7b69dac3-0eda-450d-b08e-c178d3324e1c",
   "metadata": {},
   "source": [
    "Problem 38: Check if a string contains only digits. "
   ]
  },
  {
   "cell_type": "code",
   "execution_count": 39,
   "id": "1eec07af-5b20-41cc-8df7-4c58ce82522d",
   "metadata": {},
   "outputs": [
    {
     "name": "stdout",
     "output_type": "stream",
     "text": [
      "String Contains Only digit\n"
     ]
    }
   ],
   "source": [
    "txt = \"99999999\"\n",
    "if(txt.isnumeric()):\n",
    "    print(\"String Contains Only digit\")\n",
    "else:\n",
    "    print(\"String does not contain only digit\")"
   ]
  },
  {
   "cell_type": "markdown",
   "id": "54441f55-f58c-4743-9e0e-a2a51508e296",
   "metadata": {},
   "source": [
    "Problem 39: Check if a string contains only alphabets."
   ]
  },
  {
   "cell_type": "code",
   "execution_count": 40,
   "id": "7e131928-1137-4a94-9d88-e00dd8cedd56",
   "metadata": {},
   "outputs": [
    {
     "name": "stdout",
     "output_type": "stream",
     "text": [
      "String Contains Only Alphabest\n"
     ]
    }
   ],
   "source": [
    "txt = \"pwskills\"\n",
    "if(txt.isalpha()):\n",
    "    print(\"String Contains Only Alphabest\")\n",
    "else:\n",
    "    print(\"String does not contain only Alphabest\")"
   ]
  },
  {
   "cell_type": "markdown",
   "id": "41e5e126-5697-47d4-9635-327f504d17de",
   "metadata": {},
   "source": [
    "Problem 40: Convert a string to a list of characters."
   ]
  },
  {
   "cell_type": "code",
   "execution_count": 41,
   "id": "3d2fcfb1-ed3e-41eb-8b46-8d47a9a6e890",
   "metadata": {},
   "outputs": [
    {
     "data": {
      "text/plain": [
       "['p', 'w', 's', 'k', 'i', 'l', 'l', 's', 'l', 'a', 'b']"
      ]
     },
     "execution_count": 41,
     "metadata": {},
     "output_type": "execute_result"
    }
   ],
   "source": [
    "txt = \"pwskillslab\"\n",
    "list(txt)"
   ]
  },
  {
   "cell_type": "markdown",
   "id": "5b9a0f0e-898c-49db-a73e-4a6859f299af",
   "metadata": {},
   "source": [
    "Problem 41: Check if two strings are anagrams."
   ]
  },
  {
   "cell_type": "code",
   "execution_count": 42,
   "id": "44231181-4e24-4a78-954e-754cd804938d",
   "metadata": {},
   "outputs": [
    {
     "name": "stdout",
     "output_type": "stream",
     "text": [
      "race and care are anagrams\n"
     ]
    }
   ],
   "source": [
    "str1 = \"Race\"\n",
    "str2 = \"Care\"\n",
    "#covert botht the string to lowercase\n",
    "str1 = str1.lower()\n",
    "str2 = str2.lower()\n",
    "#check the length of the both string\n",
    "if(len(str1)==len(str2)):\n",
    "    str1_sorted = sorted(str1)\n",
    "    str2_sorted = sorted(str2)\n",
    "    if(str1_sorted==str2_sorted):\n",
    "        print(str1 + \" and \" + str2 + \" are anagrams\")\n",
    "    else:\n",
    "        print(str1 + \" and \"  + str2 + \" are not anagrams\")\n",
    "else:\n",
    "    print(str1 + \" and \" + str2 + \" are not anagrams\")"
   ]
  },
  {
   "cell_type": "markdown",
   "id": "e791ff03-177c-41c7-992c-2fc4ee491788",
   "metadata": {},
   "source": [
    "Problem 42: Encode a string using a Caesar cipher."
   ]
  },
  {
   "cell_type": "code",
   "execution_count": 43,
   "id": "8a2f4bae-6fda-4b8f-99c9-bfff83459008",
   "metadata": {},
   "outputs": [
    {
     "name": "stdout",
     "output_type": "stream",
     "text": [
      "Orginal Text : Hello Everyone\n",
      "Encrypted Text: Lipps Izivcsri\n"
     ]
    }
   ],
   "source": [
    "text = \"Hello Everyone\"\n",
    "n = 4\n",
    "def encrypt_text(plain_text,s):\n",
    "    encrypted_text = \"\"\n",
    "    for i in plain_text:\n",
    "        ch = i\n",
    "        if ch == \" \":\n",
    "           encrypted_text+=\" \"\n",
    "        elif(ch.isupper()):\n",
    "            encrypted_text += chr((ord(ch) + n-65) % 26 + 65)\n",
    "        else:\n",
    "            encrypted_text += chr((ord(ch) + n-97) % 26 + 97)\n",
    "    return encrypted_text\n",
    "print(\"Orginal Text :\",text)\n",
    "print(\"Encrypted Text:\",encrypt_text(text,str(n)))"
   ]
  },
  {
   "cell_type": "markdown",
   "id": "bda05a00-10f8-4435-a0a3-bd6b0881f93c",
   "metadata": {},
   "source": [
    "Problem 43 : Decode a Caesar cipher encoded string."
   ]
  },
  {
   "cell_type": "code",
   "execution_count": 44,
   "id": "ff7cc4a4-5b4c-49fe-b8ed-cb4e95ecc972",
   "metadata": {},
   "outputs": [
    {
     "name": "stdout",
     "output_type": "stream",
     "text": [
      "Encrypted Message: Lipps Izivcsri\n",
      "Decrypted Message: Hello Everyone\n"
     ]
    }
   ],
   "source": [
    "\n",
    "def decrypt(key, message):\n",
    "    small_alpha = \"abcdefghijklmnopqrstuvwxyz\"\n",
    "    big_alpha = \"ABCDEFGHIJKLMNOPQRSTUVWXYZ\"\n",
    "    result = \"\"\n",
    "\n",
    "    for letter in message:\n",
    "        if letter in big_alpha: #if the letter is actually a letter\n",
    "            #find the corresponding ciphertext letter in the alphabet\n",
    "            letter_index = (big_alpha.find(letter) - key) % len(big_alpha)\n",
    "\n",
    "            result = result + big_alpha[letter_index]\n",
    "        elif letter in small_alpha:\n",
    "            #find the corresponding ciphertext letter in the alphabet\n",
    "            letter_index = (small_alpha.find(letter) - key) % len(small_alpha)\n",
    "\n",
    "            result = result + small_alpha[letter_index]\n",
    "        else:\n",
    "            result = result+letter\n",
    "\n",
    "    return result\n",
    "encrypted_message = \"Lipps Izivcsri\"\n",
    "print(\"Encrypted Message:\",encrypted_message)\n",
    "print(\"Decrypted Message:\",decrypt(4,encrypted_message))"
   ]
  },
  {
   "cell_type": "markdown",
   "id": "96b7b4bf-5140-4a4e-9a6b-5f768684a1ec",
   "metadata": {},
   "source": [
    "Problem 44 : Find the most frequent word in a string."
   ]
  },
  {
   "cell_type": "code",
   "execution_count": 45,
   "id": "51514abf-b205-470f-bc33-292544ca1ef8",
   "metadata": {},
   "outputs": [
    {
     "name": "stdout",
     "output_type": "stream",
     "text": [
      "[('the', 5), ('of', 3), ('your', 2), (\"Don't\", 1), ('miss', 1), ('chance', 1), ('to', 1), ('ride', 1), ('wave', 1), ('data', 1), ('revolution!', 1), ('Every', 1), ('industry', 1), ('is', 1), ('scaling', 1), ('new', 1), ('heights', 1), ('by', 1), ('tapping', 1), ('into', 1), ('power', 1), ('data.', 1), ('Sharpen', 1), ('skills', 1), ('and', 1), ('become', 1), ('a', 1), ('part', 1), ('hottest', 1), ('trend', 1), ('in', 1), ('21st', 1), ('century.', 1)]\n"
     ]
    }
   ],
   "source": [
    "from collections import Counter\n",
    "input_string = \"Don't miss your chance to ride the wave of the data revolution! Every industry is scaling new heights by tapping into the power of data. Sharpen your skills and become a part of the hottest trend in the 21st century.\"\n",
    "split_string = input_string.split( )\n",
    "split_counter = Counter(split_string)\n",
    "most_frquent_word = split_counter.most_common()\n",
    "print(most_frquent_word)"
   ]
  },
  {
   "cell_type": "markdown",
   "id": "edfb87c0-64a3-4236-b8c8-d73d70e7375e",
   "metadata": {},
   "source": [
    "Problem 45: Find all unique words in a string."
   ]
  },
  {
   "cell_type": "code",
   "execution_count": 46,
   "id": "7e6c7070-6d1c-4e12-9fb4-f9708bb32f1e",
   "metadata": {},
   "outputs": [
    {
     "name": "stdout",
     "output_type": "stream",
     "text": [
      "{'wave', '21st', 'part', 'chance', 'your', 'data.', 'to', 'miss', \"Don't\", 'is', 'and', 'hottest', 'into', 'trend', 'Sharpen', 'tapping', 'heights', 'century.', 'the', 'industry', 'new', 'scaling', 'become', 'in', 'ride', 'revolution!', 'of', 'data', 'a', 'Every', 'power', 'by', 'skills'}\n"
     ]
    }
   ],
   "source": [
    "input_string = \"Don't miss your chance to ride the wave of the data revolution! Every industry is scaling new heights by tapping into the power of data. Sharpen your skills and become a part of the hottest trend in the 21st century.\"\n",
    "split_string = input_string.split( )\n",
    "print(set(split_string))"
   ]
  },
  {
   "cell_type": "markdown",
   "id": "b3234a18-53af-4948-aafe-ad67a7f3ce29",
   "metadata": {},
   "source": [
    "Problem 46 :Count the number of syllables in a string."
   ]
  },
  {
   "cell_type": "code",
   "execution_count": 47,
   "id": "88ea7a22-02c7-48e9-8ae5-40ccd07f56c7",
   "metadata": {},
   "outputs": [
    {
     "name": "stdout",
     "output_type": "stream",
     "text": [
      "3\n"
     ]
    }
   ],
   "source": [
    "import re\n",
    "\n",
    "def count_syllables(word):\n",
    "    return len(\n",
    "        re.findall('(?!e$)[aeiouy]+', word, re.I) +\n",
    "        re.findall('^[^aeiouy]*e$', word, re.I)\n",
    "    )\n",
    "print(count_syllables(\"Tomato\"))"
   ]
  },
  {
   "cell_type": "markdown",
   "id": "0376e252-06b5-4b29-a6af-db4cba7e46cc",
   "metadata": {},
   "source": [
    "Problem 47: Check if a string contains any special characters."
   ]
  },
  {
   "cell_type": "code",
   "execution_count": 48,
   "id": "334ec2b5-f64e-4583-9f88-94c36e9a46e6",
   "metadata": {},
   "outputs": [
    {
     "name": "stdout",
     "output_type": "stream",
     "text": [
      "String contains Special Characters\n"
     ]
    }
   ],
   "source": [
    "import re\n",
    "def special_characters(word):\n",
    "    regex = re.compile('[@_!#$%^&*()<>?/\\|}{~:]')\n",
    "    if(regex.search(word) == None):\n",
    "        print(\"String does not contain Special Characters\")     \n",
    "    else:\n",
    "        print(\"String contains Special Characters\")\n",
    "input_string = \"pw$skills\"\n",
    "special_characters(input_string)"
   ]
  },
  {
   "cell_type": "markdown",
   "id": "5723f7e6-de57-4d45-9f6c-ea3460cc1fa3",
   "metadata": {},
   "source": [
    "Problem 48: Remove the nth word from a string."
   ]
  },
  {
   "cell_type": "code",
   "execution_count": 49,
   "id": "a6f80f77-852d-4ad6-807d-2eabc6a79627",
   "metadata": {},
   "outputs": [
    {
     "name": "stdout",
     "output_type": "stream",
     "text": [
      "The String is :\n",
      "This is my test string.\n",
      "['This', 'is', 'my', 'test', 'string.']\n",
      "The updated String is:  This is test string.\n"
     ]
    }
   ],
   "source": [
    "def remove_word(my_list, my_word, N):\n",
    "   count = 0\n",
    "\n",
    "   for i in range(0, len(my_list)):\n",
    "      if (my_list[i] == my_word):\n",
    "        count = count + 1\n",
    "\n",
    "      if(count == N):\n",
    "         del(my_list[i])\n",
    "         return True\n",
    "\n",
    "   return False\n",
    "\n",
    "input_string = \"This is my test string.\"\n",
    "my_list = input_string.split()\n",
    "print(\"The String is :\")\n",
    "print(input_string)\n",
    "print(my_list)\n",
    "my_word = 'my'\n",
    "N = 1\n",
    "\n",
    "flag_val = remove_word(my_list, my_word, N)\n",
    "\n",
    "if (flag_val == True):\n",
    "   print(\"The updated String is: \", \" \".join(my_list))\n",
    "else:\n",
    "   print(\"String hasn't been updated\")"
   ]
  },
  {
   "cell_type": "markdown",
   "id": "7adb3465-cfb3-4fe9-9559-bd79b266f7ef",
   "metadata": {},
   "source": [
    "Problem 49 : Insert a word at the nth position in a string."
   ]
  },
  {
   "cell_type": "code",
   "execution_count": 50,
   "id": "83c9db29-541a-4245-8a18-a7f8f5b4bb8e",
   "metadata": {},
   "outputs": [
    {
     "name": "stdout",
     "output_type": "stream",
     "text": [
      "This is my your test string\n"
     ]
    }
   ],
   "source": [
    "# initializing N\n",
    "N = 3\n",
    "# using join() + list() + insert()\n",
    "# Add substring at specific index\n",
    "test_string = \"This is my test string\"\n",
    "my_list = list(test_string.split())\n",
    "add_string = \"your\"\n",
    "mylist = my_list.insert(N,add_string)\n",
    "test_string =  \" \".join(my_list)\n",
    "print(test_string)"
   ]
  },
  {
   "cell_type": "markdown",
   "id": "caf4ad61-b875-4594-926d-26975b147224",
   "metadata": {},
   "source": [
    "Problem 50: Convert a CSV string to a list of lists."
   ]
  },
  {
   "cell_type": "markdown",
   "id": "b60e5cb3-b2b0-4fda-bf3e-0206d3374f20",
   "metadata": {},
   "source": [
    "Topic : List Based Practice Problem"
   ]
  },
  {
   "cell_type": "markdown",
   "id": "ff93291b-2961-4e7c-bb23-0d5e37d6db45",
   "metadata": {},
   "source": [
    "Problem 1 : Create a list with integers from 1 to 10."
   ]
  },
  {
   "cell_type": "code",
   "execution_count": 51,
   "id": "bda32b64-6589-4001-939d-6c8a33ae2ad3",
   "metadata": {},
   "outputs": [
    {
     "name": "stdout",
     "output_type": "stream",
     "text": [
      "[1, 2, 3, 4, 5, 6, 7, 8, 9, 10]\n"
     ]
    }
   ],
   "source": [
    "my_list = [1,2,3,4,5,6,7,8,9,10]\n",
    "print(my_list)"
   ]
  },
  {
   "cell_type": "markdown",
   "id": "934bcf99-091c-47f4-b946-ad6988282a60",
   "metadata": {},
   "source": [
    "Problem 2: Find the length of a list without using the `len()` function."
   ]
  },
  {
   "cell_type": "code",
   "execution_count": 52,
   "id": "c41fe7a1-2580-4083-b335-1c7b6c4d3052",
   "metadata": {},
   "outputs": [
    {
     "name": "stdout",
     "output_type": "stream",
     "text": [
      "Lenght of List: 10\n"
     ]
    }
   ],
   "source": [
    "my_list = [1,2,3,4,5,6,7,8,9,10]\n",
    "count = 0\n",
    "for i in my_list:\n",
    "    count = count+1\n",
    "print(\"Lenght of List:\",count)"
   ]
  },
  {
   "cell_type": "markdown",
   "id": "84a080f3-af97-418f-80cc-25262f32d237",
   "metadata": {},
   "source": [
    "Problem 3 : Append an element to the end of a list."
   ]
  },
  {
   "cell_type": "code",
   "execution_count": 53,
   "id": "493d8650-3b15-438c-91fb-830dd369132a",
   "metadata": {},
   "outputs": [
    {
     "name": "stdout",
     "output_type": "stream",
     "text": [
      "[1, 2, 3, 4, 5, 6, 7, 8, 9, 10, 11]\n"
     ]
    }
   ],
   "source": [
    "my_list = [1,2,3,4,5,6,7,8,9,10]\n",
    "my_list.append(11)\n",
    "print(my_list)"
   ]
  },
  {
   "cell_type": "markdown",
   "id": "699514dc-f3dd-404f-b96c-4788c4c47025",
   "metadata": {},
   "source": [
    "Problem 4: Insert an element at a specific index in a list."
   ]
  },
  {
   "cell_type": "code",
   "execution_count": 54,
   "id": "0712a27f-08fb-4459-904f-a581858ff6af",
   "metadata": {},
   "outputs": [
    {
     "name": "stdout",
     "output_type": "stream",
     "text": [
      "[1, 2, 3, 4, 11, 5, 6, 7, 8, 9, 10]\n"
     ]
    }
   ],
   "source": [
    "my_list = [1,2,3,4,5,6,7,8,9,10]\n",
    "N=4\n",
    "my_list.insert(N,11)\n",
    "print(my_list)"
   ]
  },
  {
   "cell_type": "markdown",
   "id": "dd8e3e41-6c0d-4b65-a62d-06bce493a6ab",
   "metadata": {},
   "source": [
    "Problem 5: Remove an element from a list by its value."
   ]
  },
  {
   "cell_type": "code",
   "execution_count": 55,
   "id": "a941657d-1a83-46a3-b305-0b3d3994cb1c",
   "metadata": {},
   "outputs": [
    {
     "data": {
      "text/plain": [
       "[1, 2, 3, 4, 5, 6, 7, 8, 9]"
      ]
     },
     "execution_count": 55,
     "metadata": {},
     "output_type": "execute_result"
    }
   ],
   "source": [
    "my_list = [1,2,3,4,5,6,7,8,9,10]\n",
    "my_list.remove(10)\n",
    "my_list"
   ]
  },
  {
   "cell_type": "markdown",
   "id": "6cd234f6-dbc7-46ee-8db7-c564c21eda34",
   "metadata": {},
   "source": [
    "Problem 6: Remove an element from a list by its index."
   ]
  },
  {
   "cell_type": "code",
   "execution_count": 56,
   "id": "8bc2cc29-393d-4f58-9b25-002db6dc4adf",
   "metadata": {},
   "outputs": [
    {
     "data": {
      "text/plain": [
       "[1, 2, 3, 4, 6, 7, 8, 9, 10]"
      ]
     },
     "execution_count": 56,
     "metadata": {},
     "output_type": "execute_result"
    }
   ],
   "source": [
    "my_list = [1, 2, 3, 4, 5, 6, 7, 8, 9, 10]\n",
    "index_to_remove = 4\n",
    "my_list.pop(index_to_remove)\n",
    "my_list"
   ]
  },
  {
   "cell_type": "markdown",
   "id": "ded80705-003d-4492-ab21-dacc3fa04ec9",
   "metadata": {},
   "source": [
    "Problem 7 : Check if an element exists in a list."
   ]
  },
  {
   "cell_type": "code",
   "execution_count": 57,
   "id": "a50cf92f-f541-4751-b127-e6000f206657",
   "metadata": {},
   "outputs": [
    {
     "name": "stdout",
     "output_type": "stream",
     "text": [
      "Element Exist\n"
     ]
    }
   ],
   "source": [
    "my_list = [1,2,3,4,5,6,7,8,9,10]\n",
    "check_element = 10\n",
    "if check_element in my_list:\n",
    "    print(\"Element Exist\")\n",
    "else:\n",
    "    print(\"Element does not exist\")"
   ]
  },
  {
   "cell_type": "markdown",
   "id": "a3bf71eb-7a2c-4bda-add0-e176c0946369",
   "metadata": {},
   "source": [
    "Problem 8: Find the index of the first occurrence of an element in a list."
   ]
  },
  {
   "cell_type": "code",
   "execution_count": 58,
   "id": "fb46cfa1-86d6-4f26-aaa9-1b6364a80160",
   "metadata": {},
   "outputs": [
    {
     "data": {
      "text/plain": [
       "7"
      ]
     },
     "execution_count": 58,
     "metadata": {},
     "output_type": "execute_result"
    }
   ],
   "source": [
    "my_list = [1,2,3,4,5,6,7,8,8,9,10]\n",
    "my_list.index(8)"
   ]
  },
  {
   "cell_type": "markdown",
   "id": "05225d38-90bc-43fa-be5e-e7676433a3b5",
   "metadata": {},
   "source": [
    "Problem 9: Count the occurrences of an element in a list."
   ]
  },
  {
   "cell_type": "code",
   "execution_count": 59,
   "id": "2c9a7010-ba18-4fb6-92ff-5d8c9586b7fb",
   "metadata": {},
   "outputs": [
    {
     "data": {
      "text/plain": [
       "2"
      ]
     },
     "execution_count": 59,
     "metadata": {},
     "output_type": "execute_result"
    }
   ],
   "source": [
    "my_list = [1,2,3,4,5,6,7,8,8,9,10]\n",
    "my_list.count(8)"
   ]
  },
  {
   "cell_type": "markdown",
   "id": "0ebef3f1-23e1-4091-ad4d-3e13b2ba0d89",
   "metadata": {},
   "source": [
    "Problem 10 : Reverse the order of elements in a list."
   ]
  },
  {
   "cell_type": "code",
   "execution_count": 60,
   "id": "4de9ce33-d335-41c1-8436-1e4fe1cbda80",
   "metadata": {},
   "outputs": [
    {
     "data": {
      "text/plain": [
       "[10, 9, 8, 8, 7, 6, 5, 4, 3, 2, 1]"
      ]
     },
     "execution_count": 60,
     "metadata": {},
     "output_type": "execute_result"
    }
   ],
   "source": [
    "my_list = [1,2,3,4,5,6,7,8,8,9,10]\n",
    "my_list.reverse()\n",
    "my_list"
   ]
  },
  {
   "cell_type": "markdown",
   "id": "8066f434-e7df-4bed-b0a7-ac7ba16f686b",
   "metadata": {},
   "source": [
    "Problem 11: Sort a list in ascending order."
   ]
  },
  {
   "cell_type": "code",
   "execution_count": 61,
   "id": "25397f93-d4d0-46f6-baa3-2d3756afd25f",
   "metadata": {},
   "outputs": [
    {
     "name": "stdout",
     "output_type": "stream",
     "text": [
      "[1, 2, 3, 4, 5, 6, 7, 8, 9, 10, 11]\n"
     ]
    }
   ],
   "source": [
    "my_list = [1,2,3,4,5,11,6,7,8,9,10]\n",
    "my_list.sort()\n",
    "print(my_list)"
   ]
  },
  {
   "cell_type": "markdown",
   "id": "c44a50d5-3432-4b72-8aff-ea0c3deb791b",
   "metadata": {},
   "source": [
    "Problem 12: Sort a list in descending order."
   ]
  },
  {
   "cell_type": "code",
   "execution_count": 62,
   "id": "ff190ec8-c446-4ddf-8ebc-96a06486bd33",
   "metadata": {},
   "outputs": [
    {
     "name": "stdout",
     "output_type": "stream",
     "text": [
      "[45, 25, 23, 20, 18, 13, 11]\n"
     ]
    }
   ],
   "source": [
    "my_list = [11,23,13,45,20,25,18]\n",
    "my_list.sort(reverse=True)\n",
    "print(my_list)"
   ]
  },
  {
   "cell_type": "markdown",
   "id": "d6b549c7-eeec-43ce-9541-6d917f83c3ef",
   "metadata": {},
   "source": [
    "Problem 13: Create a list of even numbers from 1 to 20."
   ]
  },
  {
   "cell_type": "code",
   "execution_count": 63,
   "id": "e9e79d6a-02a6-4c62-a417-3ae618d5e257",
   "metadata": {},
   "outputs": [
    {
     "name": "stdout",
     "output_type": "stream",
     "text": [
      "[2, 4, 6, 8, 10, 12, 14, 16, 18, 20]\n"
     ]
    }
   ],
   "source": [
    "even_number_list = []\n",
    "for i in range(1,21):\n",
    "    if(i%2==0):\n",
    "        even_number_list.append(i)\n",
    "print(even_number_list)"
   ]
  },
  {
   "cell_type": "markdown",
   "id": "bf5ef97c-4fb5-47f6-9b31-1f3c9206fc39",
   "metadata": {},
   "source": [
    "Problem 14: Create a list of odd numbers from 1 to 20."
   ]
  },
  {
   "cell_type": "code",
   "execution_count": 64,
   "id": "81fc9238-0b57-4047-864a-3fc936fd3f0e",
   "metadata": {},
   "outputs": [
    {
     "name": "stdout",
     "output_type": "stream",
     "text": [
      "[1, 3, 5, 7, 9, 11, 13, 15, 17, 19]\n"
     ]
    }
   ],
   "source": [
    "odd_number_List = []\n",
    "for i in range(1,20):\n",
    "    if(i%2!=0):\n",
    "        odd_number_List.append(i)\n",
    "print(odd_number_List)"
   ]
  },
  {
   "cell_type": "markdown",
   "id": "efb788fd-baed-4a06-9cd6-af607884db7a",
   "metadata": {},
   "source": [
    "Problem 15: Find the sum of all elements in a list."
   ]
  },
  {
   "cell_type": "code",
   "execution_count": 65,
   "id": "4b16878c-1117-4a12-8173-23e4795b0f13",
   "metadata": {},
   "outputs": [
    {
     "name": "stdout",
     "output_type": "stream",
     "text": [
      "176\n"
     ]
    }
   ],
   "source": [
    "my_list = [12,35,34,56,7,8,9,15]\n",
    "totalsum =0;\n",
    "for i in my_list:\n",
    "    totalsum = totalsum+i\n",
    "print(totalsum)"
   ]
  },
  {
   "cell_type": "markdown",
   "id": "ff72c231-591a-45f4-92f9-5f6503375d28",
   "metadata": {},
   "source": [
    "Problem 16: Find the maximum value in a list."
   ]
  },
  {
   "cell_type": "code",
   "execution_count": 66,
   "id": "0e7efc4d-80c0-4f8d-8405-6f9c2853e98d",
   "metadata": {},
   "outputs": [
    {
     "name": "stdout",
     "output_type": "stream",
     "text": [
      "56\n"
     ]
    }
   ],
   "source": [
    "my_list = [12,35,34,56,7,8,9,15]\n",
    "maximumValue = 0\n",
    "for i in my_list:\n",
    "    if(i>maximumValue):\n",
    "        maximumValue = i\n",
    "print(maximumValue)"
   ]
  },
  {
   "cell_type": "markdown",
   "id": "69df0ef4-db61-4a72-9f3b-2176cbb1f13c",
   "metadata": {},
   "source": [
    "Problem 17: Find the minimum value in a list."
   ]
  },
  {
   "cell_type": "code",
   "execution_count": 67,
   "id": "1ce2b263-ccba-4b43-9612-817408c24679",
   "metadata": {},
   "outputs": [
    {
     "name": "stdout",
     "output_type": "stream",
     "text": [
      "7\n"
     ]
    }
   ],
   "source": [
    "my_list = [12,35,34,56,7,8,9,15]\n",
    "minimumValue = my_list[0]\n",
    "for i in my_list:\n",
    "    if(i<minimumValue):\n",
    "        minimumValue = i\n",
    "print(minimumValue)"
   ]
  },
  {
   "cell_type": "markdown",
   "id": "5316ea12-69d0-467a-9bd8-cfe3dfb2b592",
   "metadata": {},
   "source": [
    "Problem 18: Create a list of squares of numbers from 1 to 10."
   ]
  },
  {
   "cell_type": "code",
   "execution_count": 68,
   "id": "fbcc0e6b-02e1-4268-baad-943de28c3ed2",
   "metadata": {},
   "outputs": [
    {
     "data": {
      "text/plain": [
       "[1, 4, 9, 16, 25, 36, 49, 64, 81, 100]"
      ]
     },
     "execution_count": 68,
     "metadata": {},
     "output_type": "execute_result"
    }
   ],
   "source": [
    "squares_number_List = []\n",
    "for i in range(1,11):\n",
    "    squares_number_List.append(i**2)\n",
    "squares_number_List"
   ]
  },
  {
   "cell_type": "markdown",
   "id": "a8c9630d-9b78-4a06-ac37-47149a73b88b",
   "metadata": {},
   "source": [
    "Problem 19: Create a list of random numbers."
   ]
  },
  {
   "cell_type": "code",
   "execution_count": 69,
   "id": "9f80e182-0e58-4bca-96fb-82d11840e0c9",
   "metadata": {},
   "outputs": [
    {
     "name": "stdout",
     "output_type": "stream",
     "text": [
      "[5, 9, 9, 3, 5, 7, 3, 4, 6, 6]\n"
     ]
    }
   ],
   "source": [
    "import random\n",
    "random_numbers_List = []\n",
    "n=10\n",
    "for i in range(n):\n",
    "    random_numbers_List.append(random.randint(3,9))\n",
    "print(random_numbers_List)"
   ]
  },
  {
   "cell_type": "markdown",
   "id": "64adea99-1ca4-402f-b651-005e808f72d5",
   "metadata": {},
   "source": [
    "Problem 20: Remove duplicates from a list."
   ]
  },
  {
   "cell_type": "code",
   "execution_count": 70,
   "id": "e0067f12-33a4-46bd-a558-67810ed85420",
   "metadata": {},
   "outputs": [
    {
     "name": "stdout",
     "output_type": "stream",
     "text": [
      "[1, 2, 3, 4, 5]\n"
     ]
    }
   ],
   "source": [
    "my_list = [1,2,3,4,2,3,4,5,1,2,4,5]\n",
    "my_list = list(set(my_list))\n",
    "print(my_list)"
   ]
  },
  {
   "cell_type": "markdown",
   "id": "4f059c3a-89d6-41ab-9bf1-aecc4a3db2f1",
   "metadata": {},
   "source": [
    "problem 21: Find the common elements between two lists."
   ]
  },
  {
   "cell_type": "code",
   "execution_count": 71,
   "id": "96e05368-fbd1-46a4-93da-8eba492bdfe8",
   "metadata": {},
   "outputs": [
    {
     "name": "stdout",
     "output_type": "stream",
     "text": [
      "Common Elements: [2, 3, 4, 5, 6, 7]\n"
     ]
    }
   ],
   "source": [
    "list1 = [1,2,3,4,5,6,7]\n",
    "list2 = [4,5,2,3,6,7,8]\n",
    "common_elements = []\n",
    "for x in list1:\n",
    "    for y in list2:\n",
    "        if(x==y):\n",
    "            common_elements.append(x)\n",
    "print(\"Common Elements:\",common_elements)"
   ]
  },
  {
   "cell_type": "markdown",
   "id": "69c1a38e-1462-49c6-a2c9-af135fb92103",
   "metadata": {},
   "source": [
    "Problem 22:Find the difference between two lists."
   ]
  },
  {
   "cell_type": "code",
   "execution_count": 72,
   "id": "1b5cdb41-95d8-4b5b-90be-a4745e22f7c9",
   "metadata": {},
   "outputs": [
    {
     "name": "stdout",
     "output_type": "stream",
     "text": [
      "Difference between two list\n"
     ]
    },
    {
     "data": {
      "text/plain": [
       "{1, 4, 7, 8}"
      ]
     },
     "execution_count": 72,
     "metadata": {},
     "output_type": "execute_result"
    }
   ],
   "source": [
    "list_a = [1,2,3,4,5]\n",
    "list_b = [8,7,2,3,5]\n",
    "difference = (set(list_a)-set(list_b)).union(set(list_b)-set(list_a))\n",
    "print(\"Difference between two list\")\n",
    "difference"
   ]
  },
  {
   "cell_type": "markdown",
   "id": "4d9bb3e4-a7f2-419e-b0b2-030f793f193c",
   "metadata": {},
   "source": [
    "Problem 23: Merge two lists."
   ]
  },
  {
   "cell_type": "code",
   "execution_count": 73,
   "id": "2bced77a-ffc0-4940-aa80-b73bf002613a",
   "metadata": {},
   "outputs": [
    {
     "name": "stdout",
     "output_type": "stream",
     "text": [
      "[1, 2, 3, 4, 5, 8, 7, 2, 3, 5]\n"
     ]
    }
   ],
   "source": [
    "list_a = [1,2,3,4,5]\n",
    "list_b = [8,7,2,3,5]\n",
    "list_a.extend(list_b)\n",
    "print(list_a)"
   ]
  },
  {
   "cell_type": "markdown",
   "id": "bf37ea40-5039-48cf-aa79-f401aa1554f5",
   "metadata": {},
   "source": [
    "Problem 24: Multiply all elements in a list by 2."
   ]
  },
  {
   "cell_type": "code",
   "execution_count": 74,
   "id": "00ccb405-2fc2-41c4-b5e6-5970a9afd818",
   "metadata": {},
   "outputs": [
    {
     "name": "stdout",
     "output_type": "stream",
     "text": [
      "[2, 4, 6, 8, 10]\n"
     ]
    }
   ],
   "source": [
    "list_a = [1,2,3,4,5]\n",
    "list_b =[]\n",
    "for i in list_a:\n",
    "    list_b.append(i*2)\n",
    "print(list_b)"
   ]
  },
  {
   "cell_type": "markdown",
   "id": "42b9de81-e359-4efe-bcac-c38b3e158912",
   "metadata": {},
   "source": [
    "Problem 25: Filter out all even numbers from a list."
   ]
  },
  {
   "cell_type": "code",
   "execution_count": 75,
   "id": "22c5caad-a8e0-4120-bdfd-7d9e34b18c30",
   "metadata": {},
   "outputs": [
    {
     "name": "stdout",
     "output_type": "stream",
     "text": [
      "[2, 4, 6, 8, 10]\n"
     ]
    }
   ],
   "source": [
    "list_a = [2,3,4,5,6,7,8,9,10]\n",
    "filter_evennumber = []\n",
    "for i in list_a:\n",
    "    if(i%2==0):\n",
    "        filter_evennumber.append(i)\n",
    "print(filter_evennumber)"
   ]
  },
  {
   "cell_type": "markdown",
   "id": "82f4b780-f1a4-4f1c-9c78-2f62b2196332",
   "metadata": {},
   "source": [
    "Problem 26: Convert a list of strings to a list of integers."
   ]
  },
  {
   "cell_type": "code",
   "execution_count": 76,
   "id": "37377e44-7232-4297-bc6c-9535c83a3e4f",
   "metadata": {},
   "outputs": [
    {
     "name": "stdout",
     "output_type": "stream",
     "text": [
      "Modified List: [1, 2, 3, 4, 5]\n"
     ]
    }
   ],
   "source": [
    "list_a = ['1','2','3','4','5']\n",
    "for i in range(0,len(list_a)):\n",
    "    list_a[i]=int(list_a[i])\n",
    "print(\"Modified List:\",list_a)"
   ]
  },
  {
   "cell_type": "markdown",
   "id": "e1665695-091e-402e-8d2c-9026d48f434e",
   "metadata": {},
   "source": [
    "Problem 27: Convert a list of integers to a list of strings."
   ]
  },
  {
   "cell_type": "code",
   "execution_count": 77,
   "id": "cf4b7411-60b0-4443-987b-8c133fb47085",
   "metadata": {},
   "outputs": [
    {
     "name": "stdout",
     "output_type": "stream",
     "text": [
      "Modified List: ['1', '2', '3', '4', '5']\n"
     ]
    }
   ],
   "source": [
    "list_b = [1, 2, 3, 4, 5]\n",
    "for i in range(0,len(list_b)):\n",
    "    list_b[i]=str(list_b[i])\n",
    "print(\"Modified List:\",list_b)"
   ]
  },
  {
   "cell_type": "markdown",
   "id": "46404c5f-6015-4659-a21a-9be9a2bc7f90",
   "metadata": {},
   "source": [
    "Problem 28: Flatten a nested list."
   ]
  },
  {
   "cell_type": "code",
   "execution_count": 78,
   "id": "0ee57c7d-4ad9-475e-adf2-f6082c875acb",
   "metadata": {},
   "outputs": [
    {
     "name": "stdout",
     "output_type": "stream",
     "text": [
      "[1, 2, 3, 4, 5, 6, 7]\n"
     ]
    }
   ],
   "source": [
    "my_list = [[1], [2, 3], [4, 5, 6, 7]]\n",
    "\n",
    "flat_list = []\n",
    "for sublist in my_list:\n",
    "    for num in sublist:\n",
    "        flat_list.append(num)\n",
    "\n",
    "print(flat_list)"
   ]
  },
  {
   "cell_type": "markdown",
   "id": "8a21c358-b4f6-49fb-8ba8-8f61c4d2f4fa",
   "metadata": {},
   "source": [
    "Problem 29: Create a list of the first 10 Fibonacci numbers."
   ]
  },
  {
   "cell_type": "code",
   "execution_count": 79,
   "id": "fdc41fde-8efd-4a82-b9ea-41ddad514ebc",
   "metadata": {},
   "outputs": [
    {
     "data": {
      "text/plain": [
       "[0, 1, 1, 2, 3, 5, 8, 13, 21, 34]"
      ]
     },
     "execution_count": 79,
     "metadata": {},
     "output_type": "execute_result"
    }
   ],
   "source": [
    "def fibonacci(n, a, b):\n",
    "    if n == 0:\n",
    "        return []\n",
    "    elif n == 1:\n",
    "        return [a]\n",
    "    elif n == 2:\n",
    "        return [a, b]\n",
    "    else:\n",
    "        fib = [a, b]\n",
    "        for i in range(2, n):\n",
    "            fib.append(fib[i-1] + fib[i-2])\n",
    "        return fib\n",
    "fibonacci(10,0,1)"
   ]
  },
  {
   "cell_type": "markdown",
   "id": "12bf91a7-1d4c-494a-935d-66038343dbb7",
   "metadata": {},
   "source": [
    "Problem 30: Check if a list is sorted."
   ]
  },
  {
   "cell_type": "code",
   "execution_count": 80,
   "id": "8a3e2614-5612-4dcd-83d1-99b09ebd3fa9",
   "metadata": {},
   "outputs": [
    {
     "name": "stdout",
     "output_type": "stream",
     "text": [
      "No, List is not sorted.\n"
     ]
    }
   ],
   "source": [
    "test_list = [1,4,5,6,2,3]\n",
    "test_list1 = test_list\n",
    "flag = 0\n",
    "if(test_list1.sort()==test_list):\n",
    "    flag = 1\n",
    "if (flag) :\n",
    "    print (\"Yes, List is sorted.\")\n",
    "else :\n",
    "    print (\"No, List is not sorted.\")"
   ]
  },
  {
   "cell_type": "markdown",
   "id": "775f49cc-3498-4ba2-9933-c27a4d9137dc",
   "metadata": {},
   "source": [
    "Problem 31: Rotate a list to the left by `n` positions."
   ]
  },
  {
   "cell_type": "code",
   "execution_count": 81,
   "id": "da86281a-164a-4344-a524-74dcce8d5db8",
   "metadata": {},
   "outputs": [
    {
     "name": "stdin",
     "output_type": "stream",
     "text": [
      "Enter Number of left Rotation 5\n"
     ]
    },
    {
     "name": "stdout",
     "output_type": "stream",
     "text": [
      "List after left rotate by:[6, 7, 8, 9, 10, 1, 2, 3, 4, 5]\n"
     ]
    }
   ],
   "source": [
    "from collections import deque\n",
    "test_list = [1,2,3,4,5,6,7,8,9,10]\n",
    "# rotate lefe by this postion\n",
    "n = int(input(\"Enter Number of left Rotation\"))\n",
    "test_deque = deque(test_list)\n",
    "test_deque.rotate(-n)\n",
    "test_list = list(test_deque)\n",
    "print (\"List after left rotate by:\" + str(test_list))"
   ]
  },
  {
   "cell_type": "markdown",
   "id": "c67755d7-661f-47d7-9f75-a2b7fd398af5",
   "metadata": {},
   "source": [
    "Problem 32:Rotate a list to the right by `n` positions."
   ]
  },
  {
   "cell_type": "code",
   "execution_count": 82,
   "id": "f417611d-697e-4de9-b1fc-ef68fcf89a6b",
   "metadata": {},
   "outputs": [
    {
     "name": "stdin",
     "output_type": "stream",
     "text": [
      "Enter Number of Right Rotation 7\n"
     ]
    },
    {
     "name": "stdout",
     "output_type": "stream",
     "text": [
      "List after right rotate by:[4, 5, 6, 7, 8, 9, 10, 1, 2, 3]\n"
     ]
    }
   ],
   "source": [
    "from collections import deque\n",
    "test_list = [1,2,3,4,5,6,7,8,9,10]\n",
    "# rotate lefe by this postion\n",
    "n = int(input(\"Enter Number of Right Rotation\"))\n",
    "test_deque = deque(test_list)\n",
    "test_deque.rotate(n)\n",
    "test_list = list(test_deque)\n",
    "print (\"List after right rotate by:\" + str(test_list))"
   ]
  },
  {
   "cell_type": "markdown",
   "id": "ab796738-be30-46dd-bb06-986e606867e0",
   "metadata": {},
   "source": [
    "Problem 33: Create a list of prime numbers up to 50."
   ]
  },
  {
   "cell_type": "code",
   "execution_count": 83,
   "id": "f1821610-1408-4dca-8818-980ef63cf54a",
   "metadata": {},
   "outputs": [
    {
     "name": "stdout",
     "output_type": "stream",
     "text": [
      "[2, 3, 5, 7, 11, 13, 17, 19, 23, 29, 31, 37, 41, 43, 47]\n"
     ]
    }
   ],
   "source": [
    "def prime_numbers(n):\n",
    "    primes = []\n",
    "    for i in range(2, n + 1):\n",
    "        for j in range(2, int(i ** 0.5) + 1):\n",
    "            if i%j == 0:\n",
    "                break\n",
    "        else:\n",
    "            primes.append(i)\n",
    "    return primes\n",
    "\n",
    "prime_list = prime_numbers(50)\n",
    "#print prime number list\n",
    "print(prime_list)"
   ]
  },
  {
   "cell_type": "markdown",
   "id": "d610f526-28be-4a66-ab59-6419c0677c45",
   "metadata": {},
   "source": [
    "Problem 34: Split a list into chunks of size `n`."
   ]
  },
  {
   "cell_type": "code",
   "execution_count": 84,
   "id": "27e705fc-4c2d-44f1-b220-593cb8f76aa8",
   "metadata": {},
   "outputs": [
    {
     "name": "stdin",
     "output_type": "stream",
     "text": [
      "Enter Number of Chunks 6\n"
     ]
    },
    {
     "name": "stdout",
     "output_type": "stream",
     "text": [
      "[2, 3, 5, 7, 11, 13]\n",
      "[17, 19, 23, 29, 31, 37]\n",
      "[41, 43, 47]\n"
     ]
    }
   ],
   "source": [
    "list_a = [2, 3, 5, 7, 11, 13, 17, 19, 23, 29, 31, 37, 41, 43, 47]\n",
    "n = int(input(\"Enter Number of Chunks\"))\n",
    "start = 0\n",
    "end = len(list_a)\n",
    "step =n\n",
    "for i in range(start,end,step):\n",
    "    #print chunk of lists\n",
    "    print(list_a[i:i+step])"
   ]
  },
  {
   "cell_type": "markdown",
   "id": "396675ac-919c-4ca0-83ff-531b3258df9c",
   "metadata": {},
   "source": [
    "Problem 35: Find the second largest number in a list."
   ]
  },
  {
   "cell_type": "code",
   "execution_count": 85,
   "id": "77bf95ae-d76c-454f-bbe8-8d6c9b8394cd",
   "metadata": {},
   "outputs": [
    {
     "name": "stdout",
     "output_type": "stream",
     "text": [
      "Second Largest Element: 7\n"
     ]
    }
   ],
   "source": [
    "list_a = [2,4,3,6,7,8]\n",
    "list_b = list(set(list_a))\n",
    "list_b.sort()\n",
    "print(\"Second Largest Element:\",list_b[-2])"
   ]
  },
  {
   "cell_type": "markdown",
   "id": "444915f2-7ec8-49f7-a37f-84f6ea55acc7",
   "metadata": {},
   "source": [
    "Problem 36:Replace every element in a list with its square."
   ]
  },
  {
   "cell_type": "code",
   "execution_count": 86,
   "id": "4cb0ef9f-7c81-4ddd-8a87-16b9511dceea",
   "metadata": {},
   "outputs": [
    {
     "name": "stdout",
     "output_type": "stream",
     "text": [
      "Original String: [2, 4, 3, 6, 7, 8]\n",
      "Square List: [16, 4, 9, 36, 49, 64]\n"
     ]
    }
   ],
   "source": [
    "list_a = [2,4,3,6,7,8]\n",
    "print(\"Original String:\",list_a)\n",
    "for i in list_a:\n",
    "    list_a[list_a.index(i)]=i**2\n",
    "print(\"Square List:\",list_a)"
   ]
  },
  {
   "cell_type": "markdown",
   "id": "1b421095-10d3-4bdf-b143-f6913f0727b7",
   "metadata": {},
   "source": [
    "Problem 37: Convert a list to a dictionary where list elements become keys and their\n",
    "indices become values."
   ]
  },
  {
   "cell_type": "code",
   "execution_count": 87,
   "id": "f57ed7c9-6724-47a3-8a5f-498663ae54bb",
   "metadata": {},
   "outputs": [
    {
     "name": "stdout",
     "output_type": "stream",
     "text": [
      "{0: 2, 1: 3, 2: 4, 3: 6, 4: 8, 5: 9}\n"
     ]
    }
   ],
   "source": [
    "list_a = [2,3,4,6,8,9]\n",
    "dict_list = dict(enumerate(list_a)) #convert list to dixt\n",
    "#print dict\n",
    "print(dict_list)"
   ]
  },
  {
   "cell_type": "markdown",
   "id": "072ab9ea-6eea-4233-a7a0-107c4fb8082d",
   "metadata": {},
   "source": [
    "Problem 38:Shuffle the elements of a list randomly."
   ]
  },
  {
   "cell_type": "code",
   "execution_count": 88,
   "id": "47399cd6-8e08-4696-99f4-46120c5a940d",
   "metadata": {},
   "outputs": [
    {
     "name": "stdout",
     "output_type": "stream",
     "text": [
      "Origional List: [1, 2, 3, 4, 5, 6, 7, 8, 9, 10]\n",
      "Shuffle List: [8, 3, 6, 10, 4, 2, 5, 9, 1, 7]\n"
     ]
    }
   ],
   "source": [
    "import random\n",
    "list_a = [1,2,3,4,5,6,7,8,9,10]\n",
    "print(\"Origional List:\",list_a)\n",
    "random.shuffle(list_a)\n",
    "print(\"Shuffle List:\",list_a)"
   ]
  },
  {
   "cell_type": "markdown",
   "id": "92884491-3acf-4115-a578-198213544c78",
   "metadata": {},
   "source": [
    "Problem 39:Create a list of the first 10 factorial numbers."
   ]
  },
  {
   "cell_type": "code",
   "execution_count": 89,
   "id": "8410c968-0d46-4873-b5c5-919ca8ed21dc",
   "metadata": {},
   "outputs": [
    {
     "name": "stdout",
     "output_type": "stream",
     "text": [
      "Factorial List: [1, 2, 6, 24, 120, 720, 5040, 40320, 362880, 3628800]\n"
     ]
    }
   ],
   "source": [
    "list_b = []\n",
    "for i in range(1,11):\n",
    "    fact = 1\n",
    "    for item in range(1,i+1):\n",
    "        fact = fact*item\n",
    "    list_b.append(fact)\n",
    "print(\"Factorial List:\",list_b)"
   ]
  },
  {
   "cell_type": "markdown",
   "id": "94c61201-51e6-4e67-be1c-4931e926d14b",
   "metadata": {},
   "source": [
    "Problem 40: Check if two lists have at least one element in common."
   ]
  },
  {
   "cell_type": "code",
   "execution_count": 90,
   "id": "6f438a8f-2ac0-4fb5-b694-3debf3b4997c",
   "metadata": {},
   "outputs": [
    {
     "name": "stdout",
     "output_type": "stream",
     "text": [
      "Both List have at least one Common Element: False\n"
     ]
    }
   ],
   "source": [
    "list_a = [5,8,2,9,10]\n",
    "list_b = [4,3,6,7,1]\n",
    "def common_element(list1,list2):\n",
    "    flag = False\n",
    "    for i in list_a:\n",
    "        for j in list_b:\n",
    "            if(i==j):\n",
    "                flag = True\n",
    "                return flag\n",
    "    return flag\n",
    "print(\"Both List have at least one Common Element:\",common_element(list_a,list_b))"
   ]
  },
  {
   "cell_type": "markdown",
   "id": "a11e6fb3-46e5-4b7c-91a3-7a10c9985f69",
   "metadata": {},
   "source": [
    "Problem 41 : Remove all elements from a list."
   ]
  },
  {
   "cell_type": "code",
   "execution_count": 91,
   "id": "5c24425d-aed3-48c1-9e2a-2c563773b130",
   "metadata": {},
   "outputs": [
    {
     "data": {
      "text/plain": [
       "[]"
      ]
     },
     "execution_count": 91,
     "metadata": {},
     "output_type": "execute_result"
    }
   ],
   "source": [
    "list_a = [5,8,2,9,10]\n",
    "list_a.clear()\n",
    "list_a"
   ]
  },
  {
   "cell_type": "markdown",
   "id": "0e724d70-218b-4a76-ac3e-8b6216cbbd4e",
   "metadata": {},
   "source": [
    "Problem 42: Replace negative numbers in a list with 0."
   ]
  },
  {
   "cell_type": "code",
   "execution_count": 92,
   "id": "b5ea583a-08b9-4f1f-bea0-e5f2cfb6d582",
   "metadata": {},
   "outputs": [
    {
     "name": "stdout",
     "output_type": "stream",
     "text": [
      "Updated List: [2, 3, 4, 5, 0, 0, 0]\n"
     ]
    }
   ],
   "source": [
    "list_a = [2,3,4,5,-5,-8,-7]\n",
    "for item in range(0,len(list_a)):\n",
    "    if(list_a[item]<0):\n",
    "        list_a[item]=0\n",
    "print(\"Updated List:\",list_a)"
   ]
  },
  {
   "cell_type": "markdown",
   "id": "80bdae54-566e-46e7-8fef-ab5116789e19",
   "metadata": {},
   "source": [
    "Problem 43: Convert a string into a list of words."
   ]
  },
  {
   "cell_type": "code",
   "execution_count": 93,
   "id": "c2f63e0f-5024-4345-946b-194dd22efec5",
   "metadata": {},
   "outputs": [
    {
     "name": "stdout",
     "output_type": "stream",
     "text": [
      "['p', 'w', 's', 'k', 'i', 'l', 'l', 's']\n"
     ]
    }
   ],
   "source": [
    "word_string =\"pwskills\"\n",
    "list_a = list(word_string)\n",
    "print(list_a)"
   ]
  },
  {
   "cell_type": "markdown",
   "id": "b8254e5d-4adf-4d60-9362-d9b7a6f3e836",
   "metadata": {},
   "source": [
    "Problem 44: Convert a list of words into a string."
   ]
  },
  {
   "cell_type": "code",
   "execution_count": 94,
   "id": "da90a9b0-d621-4131-9061-0ef65d2a1a72",
   "metadata": {},
   "outputs": [
    {
     "name": "stdout",
     "output_type": "stream",
     "text": [
      "pwskills\n"
     ]
    }
   ],
   "source": [
    "list_a = ['p', 'w', 's', 'k', 'i', 'l', 'l', 's']\n",
    "world_string = ''.join(list_a)\n",
    "print(world_string)"
   ]
  },
  {
   "cell_type": "markdown",
   "id": "3e3aca98-f92f-460d-9826-f82913b4f31a",
   "metadata": {},
   "source": [
    "Problem 45: Create a list of the first `n` powers of 2."
   ]
  },
  {
   "cell_type": "code",
   "execution_count": 95,
   "id": "7f2e3b4f-8a84-40ae-a1c7-b04bc95556cc",
   "metadata": {},
   "outputs": [
    {
     "name": "stdin",
     "output_type": "stream",
     "text": [
      "Enter Number to Print Powers of 2 5\n"
     ]
    },
    {
     "data": {
      "text/plain": [
       "[1, 2, 4, 8, 16, 32]"
      ]
     },
     "execution_count": 95,
     "metadata": {},
     "output_type": "execute_result"
    }
   ],
   "source": [
    "list_a =  []\n",
    "n = int(input(\"Enter Number to Print Powers of 2\"))\n",
    "for i in range(0,n+1):\n",
    "    list_a.append(2**i)\n",
    "list_a"
   ]
  },
  {
   "cell_type": "markdown",
   "id": "e65f85e3-1b16-41d3-afbc-043dab0ccf3e",
   "metadata": {},
   "source": [
    "Problem 46: Find the longest string in a list of strings."
   ]
  },
  {
   "cell_type": "code",
   "execution_count": 96,
   "id": "2ed06452-914c-4e6c-b1f5-08464233ebc5",
   "metadata": {},
   "outputs": [
    {
     "name": "stdout",
     "output_type": "stream",
     "text": [
      "longest string: schools\n"
     ]
    }
   ],
   "source": [
    "list_a = [\"my\",\"name\",\"is\",\"schools\"]\n",
    "max_len = -1\n",
    "for item in list_a:\n",
    "    if(len(item)>max_len):\n",
    "        max_len = len(item)\n",
    "        res = item\n",
    "print(\"longest string:\",res)"
   ]
  },
  {
   "cell_type": "markdown",
   "id": "ef8a1a88-0d87-49cb-b6fc-9b17a8b68f20",
   "metadata": {},
   "source": [
    "Problem 47: Find the shortest string in a list of strings."
   ]
  },
  {
   "cell_type": "code",
   "execution_count": 97,
   "id": "fd6b172c-f208-496b-b85e-fa15b870d40c",
   "metadata": {},
   "outputs": [
    {
     "name": "stdout",
     "output_type": "stream",
     "text": [
      "Shortest string: is\n"
     ]
    }
   ],
   "source": [
    "list_a = [\"miy\",\"name\",\"is\",\"schools\"]\n",
    "min_len = list_a[0]\n",
    "for item in list_a:\n",
    "    if(len(item)<len(min_len)):\n",
    "        min_len = item\n",
    "print(\"Shortest string:\",min_len)"
   ]
  },
  {
   "cell_type": "markdown",
   "id": "94955431-3c8a-4f74-b12b-4291ea48a580",
   "metadata": {},
   "source": [
    "Problem 48: Create a list of the first `n` triangular numbers."
   ]
  },
  {
   "cell_type": "code",
   "execution_count": 98,
   "id": "4eea0301-8cc8-41a9-887e-562a4be94e22",
   "metadata": {},
   "outputs": [
    {
     "name": "stdin",
     "output_type": "stream",
     "text": [
      "Tringular Number 2\n"
     ]
    },
    {
     "name": "stdout",
     "output_type": "stream",
     "text": [
      "The first 2 triangular numbers are: [1, 3]\n"
     ]
    }
   ],
   "source": [
    "triangular_numbers = []\n",
    "n = int(input(\"Tringular Number\"))\n",
    "for i in range(1, n + 1):\n",
    "    triangular_numbers.append((i*(i+1))//2)\n",
    "triangular_numbers\n",
    "print(f\"The first {n} triangular numbers are: {triangular_numbers}\")"
   ]
  },
  {
   "cell_type": "markdown",
   "id": "1813aaa7-16a9-4705-8e2a-6a0eff1438c6",
   "metadata": {},
   "source": [
    "Problem 49: Check if a list contains another list as a subsequence."
   ]
  },
  {
   "cell_type": "code",
   "execution_count": 99,
   "id": "8f061699-c8ac-4d71-b9e2-60c298cd3327",
   "metadata": {},
   "outputs": [
    {
     "name": "stdout",
     "output_type": "stream",
     "text": [
      "Main List Contain another list as a SubSequence\n"
     ]
    }
   ],
   "source": [
    "main_list = [1,2,3,4,5,6,7,8,9,10,11,12,4,5,7,98,0,1,46,8,9,0]\n",
    "subsequencelist = [1,2,3,4,5,6,7]\n",
    "main_list_len = len(main_list)\n",
    "subsequencelist_len = len(subsequencelist)\n",
    "Flag = False\n",
    "if(subsequencelist_len>main_list_len):\n",
    "    Flag=False\n",
    "if (main_list_len>0) and (subsequencelist_len>0):\n",
    "    for item in subsequencelist:\n",
    "        try:\n",
    "            item_index_mainlist = main_list.index(item)\n",
    "            main_list = main_list[item_index_mainlist+1::]\n",
    "            Flag = True\n",
    "        except ValueError:\n",
    "            Flag = False\n",
    "            break\n",
    "if(Flag):\n",
    "    print(\"Main List Contain another list as a SubSequence\")\n",
    "else:\n",
    "    print(\"Main List Does not Contain another list as a SubSequence\")"
   ]
  },
  {
   "cell_type": "markdown",
   "id": "6a628e76-f9f0-447a-bc60-6f26f25b58d0",
   "metadata": {},
   "source": [
    "Problem 50 : Swap two elements in a list by their indices."
   ]
  },
  {
   "cell_type": "code",
   "execution_count": 100,
   "id": "0de4e7fd-a5d2-41b6-b51d-18a8072dc6cd",
   "metadata": {},
   "outputs": [
    {
     "name": "stdout",
     "output_type": "stream",
     "text": [
      "Original List: [1, 2, 3, 4, 5]\n",
      "Swaped List: [1, 4, 3, 2, 5]\n"
     ]
    }
   ],
   "source": [
    "list_a = [1,2,3,4,5]\n",
    "#enter the position which you want to swap\n",
    "pos1 = 1\n",
    "pos3 = 3\n",
    "print(\"Original List:\",list_a)\n",
    "list_a[pos1],list_a[pos3] = list_a[pos3],list_a[pos1]\n",
    "print(\"Swaped List:\",list_a)"
   ]
  },
  {
   "cell_type": "markdown",
   "id": "a880a29e-af56-4176-bedb-6c907342774b",
   "metadata": {},
   "source": [
    "TPOIC: Tuple Based Practice Problem"
   ]
  },
  {
   "cell_type": "markdown",
   "id": "ddb0524d-1863-4f09-879b-85bf511f5fb3",
   "metadata": {},
   "source": [
    "Problem 1 : Create a tuple with integers from 1 to 5."
   ]
  },
  {
   "cell_type": "code",
   "execution_count": 101,
   "id": "f02aa376-3250-4ee0-a9b9-03c7bf85075f",
   "metadata": {},
   "outputs": [
    {
     "name": "stdout",
     "output_type": "stream",
     "text": [
      "(1, 2, 3, 4, 5)\n"
     ]
    }
   ],
   "source": [
    "tuple_data = (1,2,3,4,5)\n",
    "print(tuple_data)"
   ]
  },
  {
   "cell_type": "markdown",
   "id": "9f110215-b0fe-49f7-83a8-9b12b97f3e8b",
   "metadata": {},
   "source": [
    "Problem 2: Access the third element of a tuple."
   ]
  },
  {
   "cell_type": "code",
   "execution_count": 102,
   "id": "6bc90de7-21f1-4d87-b901-4bafc0ca0f2d",
   "metadata": {},
   "outputs": [
    {
     "name": "stdout",
     "output_type": "stream",
     "text": [
      "Third element of the tuple: 30\n"
     ]
    }
   ],
   "source": [
    "my_tuple = (10, 20, 30, 40, 50)\n",
    "third_element = my_tuple[2]\n",
    "print(\"Third element of the tuple:\", third_element)"
   ]
  },
  {
   "cell_type": "markdown",
   "id": "d1511f6e-6d5a-4c22-bb19-ef5a3dfda6f1",
   "metadata": {},
   "source": [
    "Problem 3: Find the length of a tuple without using the `len()` function."
   ]
  },
  {
   "cell_type": "code",
   "execution_count": 103,
   "id": "afdbfe93-54f6-49ca-88a1-98a2e609599c",
   "metadata": {},
   "outputs": [
    {
     "name": "stdout",
     "output_type": "stream",
     "text": [
      "Length of the tuple: 5\n"
     ]
    }
   ],
   "source": [
    "def tuple_length(my_tuple):\n",
    "    count = 0\n",
    "    for i in my_tuple:\n",
    "        count += 1\n",
    "    return count\n",
    "my_tuple = (10, 20, 30, 40, 50)\n",
    "length_of_tuple = tuple_length(my_tuple)\n",
    "\n",
    "print(\"Length of the tuple:\", length_of_tuple)"
   ]
  },
  {
   "cell_type": "markdown",
   "id": "90de8fbf-1cb4-4a83-a50e-717d5f54f81d",
   "metadata": {},
   "source": [
    "Problem 4: Count the occurrences of an element in a tuple."
   ]
  },
  {
   "cell_type": "code",
   "execution_count": 104,
   "id": "8e7631df-1944-4483-8cc6-08fd4e71b297",
   "metadata": {},
   "outputs": [
    {
     "data": {
      "text/plain": [
       "1"
      ]
     },
     "execution_count": 104,
     "metadata": {},
     "output_type": "execute_result"
    }
   ],
   "source": [
    "my_tuple = (10, 20, 30, 40, 50)\n",
    "my_tuple.count(10)"
   ]
  },
  {
   "cell_type": "markdown",
   "id": "a0054d09-ce78-47f2-8127-6866abd3e9c7",
   "metadata": {},
   "source": [
    "Problem 5: Find the index of the first occurrence of an element in a tuple."
   ]
  },
  {
   "cell_type": "code",
   "execution_count": 105,
   "id": "141a8ce2-1651-48e6-ae21-5cdbd0598454",
   "metadata": {},
   "outputs": [
    {
     "data": {
      "text/plain": [
       "0"
      ]
     },
     "execution_count": 105,
     "metadata": {},
     "output_type": "execute_result"
    }
   ],
   "source": [
    "my_tuple = (10, 20, 30, 40, 50)\n",
    "my_tuple.index(10)"
   ]
  },
  {
   "cell_type": "markdown",
   "id": "3d6d65fb-1816-4cd0-a062-cf8cb1b327f8",
   "metadata": {},
   "source": [
    "Problem 6: Check if an element exists in a tuple."
   ]
  },
  {
   "cell_type": "code",
   "execution_count": 106,
   "id": "d77c00a9-b00a-41e9-8987-7d78afd56dd2",
   "metadata": {},
   "outputs": [
    {
     "name": "stdout",
     "output_type": "stream",
     "text": [
      "30 exists in the tuple.\n"
     ]
    }
   ],
   "source": [
    "my_tuple = (10, 20, 30, 40, 50)\n",
    "element_to_check = 30\n",
    "if element_to_check in my_tuple:\n",
    "    print(f\"{element_to_check} exists in the tuple.\")\n",
    "else:\n",
    "    print(f\"{element_to_check} does not exist in the tuple.\")"
   ]
  },
  {
   "cell_type": "markdown",
   "id": "f0079dff-12cf-42d5-ab48-9bc40ebaf2da",
   "metadata": {},
   "source": [
    "Problem 7: Convert a tuple to a list."
   ]
  },
  {
   "cell_type": "code",
   "execution_count": 107,
   "id": "319729b5-e109-4c67-aeaf-ff5ea2051a22",
   "metadata": {},
   "outputs": [
    {
     "name": "stdout",
     "output_type": "stream",
     "text": [
      "Convert tuple (10, 20, 30, 40, 50) to list: [10, 20, 30, 40, 50]\n"
     ]
    }
   ],
   "source": [
    "my_tuple = (10, 20, 30, 40, 50)\n",
    "print(f\"Convert tuple {my_tuple} to list:\",list(my_tuple))"
   ]
  },
  {
   "cell_type": "markdown",
   "id": "1c4482e4-29e1-4b40-9658-ffdb131e9e30",
   "metadata": {},
   "source": [
    "Problem 8: Convert a list to a tuple."
   ]
  },
  {
   "cell_type": "code",
   "execution_count": 108,
   "id": "b8a79bff-efc4-4a7e-ae65-23a0be58c52a",
   "metadata": {},
   "outputs": [
    {
     "name": "stdout",
     "output_type": "stream",
     "text": [
      "Convert list [1, 2, 3, 4, 5, 6, 7, 8] to tuple : (1, 2, 3, 4, 5, 6, 7, 8)\n"
     ]
    }
   ],
   "source": [
    "my_list = [1,2,3,4,5,6,7,8]\n",
    "print(f\"Convert list {my_list} to tuple :\",tuple(my_list))"
   ]
  },
  {
   "cell_type": "markdown",
   "id": "8a1870ea-9177-45de-b578-5699b34727ed",
   "metadata": {},
   "source": [
    "Problem 9: Unpack the elements of a tuple into variables."
   ]
  },
  {
   "cell_type": "code",
   "execution_count": 109,
   "id": "2947e6e8-8d5b-4885-9381-1ee4440ca201",
   "metadata": {},
   "outputs": [
    {
     "name": "stdout",
     "output_type": "stream",
     "text": [
      "a: 10\n",
      "b: 20\n",
      "c: 30\n",
      "d: 40\n",
      "e: 50\n"
     ]
    }
   ],
   "source": [
    "my_tuple = (10, 20, 30, 40, 50)\n",
    "a,b,c,d,e = my_tuple\n",
    "# UnPack Value\n",
    "print(\"a:\", a)\n",
    "print(\"b:\", b)\n",
    "print(\"c:\", c)\n",
    "print(\"d:\", d)\n",
    "print(\"e:\", e)"
   ]
  },
  {
   "cell_type": "markdown",
   "id": "8036976c-1b1a-43bc-b77a-c937028ea786",
   "metadata": {},
   "source": [
    "Problem 10: Create a tuple of even numbers from 1 to 10."
   ]
  },
  {
   "cell_type": "code",
   "execution_count": 110,
   "id": "bc5b5a0f-b575-43ea-889c-34d05fa5f67f",
   "metadata": {},
   "outputs": [
    {
     "name": "stdout",
     "output_type": "stream",
     "text": [
      "(2, 4, 6, 8, 10)\n"
     ]
    }
   ],
   "source": [
    "even_numbers_tuple = tuple(x for x in range(2, 11, 2))\n",
    "print(even_numbers_tuple)"
   ]
  },
  {
   "cell_type": "markdown",
   "id": "ecff901e-033d-4267-acd2-c92fd2d5b448",
   "metadata": {},
   "source": [
    "Problem 11: Create a tuple of odd numbers from 1 to 10."
   ]
  },
  {
   "cell_type": "code",
   "execution_count": 111,
   "id": "90471c1e-dd09-43cd-a292-7f006e7b4144",
   "metadata": {},
   "outputs": [
    {
     "name": "stdout",
     "output_type": "stream",
     "text": [
      "(1, 3, 5, 7, 9)\n"
     ]
    }
   ],
   "source": [
    "odd_numbers_tuple = tuple(x for x in range(1, 10, 2))\n",
    "print(odd_numbers_tuple)"
   ]
  },
  {
   "cell_type": "markdown",
   "id": "1bad9e0d-1e1c-4f9e-abf7-6b84924b3e46",
   "metadata": {},
   "source": [
    "Problem 12: Concatenate two tuples."
   ]
  },
  {
   "cell_type": "code",
   "execution_count": 112,
   "id": "a13c9d48-0e47-467a-9ad3-af6d48fffc06",
   "metadata": {},
   "outputs": [
    {
     "name": "stdout",
     "output_type": "stream",
     "text": [
      "tuple After Concatenate: (1, 2, 3, 4, 5, 6, 6, 7, 8, 9)\n"
     ]
    }
   ],
   "source": [
    "tuple1 = (1,2,3,4,5)\n",
    "tuple2 = (6,6,7,8,9)\n",
    "tuple3 = tuple1 + tuple2\n",
    "print(\"tuple After Concatenate:\",tuple3)"
   ]
  },
  {
   "cell_type": "markdown",
   "id": "10714a4f-8898-4850-a405-fe6eff94f451",
   "metadata": {},
   "source": [
    "Problem 13: Repeat a tuple three times."
   ]
  },
  {
   "cell_type": "code",
   "execution_count": 113,
   "id": "3e9ad371-8c0c-40e5-b793-4d26732069a2",
   "metadata": {},
   "outputs": [
    {
     "name": "stdout",
     "output_type": "stream",
     "text": [
      "Tuple After three times repeat: (1, 2, 3, 4, 1, 2, 3, 4, 1, 2, 3, 4)\n"
     ]
    }
   ],
   "source": [
    "tuple1 = (1,2,3,4)\n",
    "tuple2 = tuple1*3\n",
    "print(\"Tuple After three times repeat:\",tuple2)"
   ]
  },
  {
   "cell_type": "markdown",
   "id": "fa8425e3-6c17-4054-a50c-3dd97f69bcdd",
   "metadata": {},
   "source": [
    "Problem 14: Check if a tuple is empty."
   ]
  },
  {
   "cell_type": "code",
   "execution_count": 114,
   "id": "dfe1afd3-5530-467a-829f-028c9b5e662c",
   "metadata": {},
   "outputs": [
    {
     "name": "stdout",
     "output_type": "stream",
     "text": [
      "Tuple is Empty\n"
     ]
    }
   ],
   "source": [
    "tuple1 = ()\n",
    "if(tuple1==()):\n",
    "    print(\"Tuple is Empty\")\n",
    "else:\n",
    "    print(\"Tuple is not empty\")"
   ]
  },
  {
   "cell_type": "markdown",
   "id": "3f9cabdd-5141-479b-ab93-5c8171a81f2f",
   "metadata": {},
   "source": [
    "Problem 15: Create a nested tuple."
   ]
  },
  {
   "cell_type": "code",
   "execution_count": 115,
   "id": "a222d7f5-6055-40ae-9891-04230687e8fe",
   "metadata": {},
   "outputs": [],
   "source": [
    "# created a nested tuple\n",
    "tuple1 = (1,2,3,4,5,(6,7,9))"
   ]
  },
  {
   "cell_type": "markdown",
   "id": "5f87ea9e-98dd-4807-b296-cde351a2f0a7",
   "metadata": {},
   "source": [
    "Problem 16: Access the first element of a nested tuple."
   ]
  },
  {
   "cell_type": "code",
   "execution_count": 116,
   "id": "0d91a075-fc33-4089-a5aa-fe2301893880",
   "metadata": {},
   "outputs": [
    {
     "name": "stdout",
     "output_type": "stream",
     "text": [
      "Nested tuple first element: 6\n"
     ]
    }
   ],
   "source": [
    "# nested tuple\n",
    "tuple1 = (1,2,3,4,5,(6,7,9))\n",
    "nested_tuple = tuple1[5]\n",
    "# print nested tuple first element\n",
    "print(\"Nested tuple first element:\",nested_tuple[0])"
   ]
  },
  {
   "cell_type": "markdown",
   "id": "30309d28-506b-4fa6-bbcf-4ffff0969d63",
   "metadata": {},
   "source": [
    "Problem 17: Create a tuple with a single element."
   ]
  },
  {
   "cell_type": "code",
   "execution_count": 117,
   "id": "6d5278f5-f509-4af7-8c0b-e931d6ebbe8e",
   "metadata": {},
   "outputs": [
    {
     "name": "stdout",
     "output_type": "stream",
     "text": [
      "1\n"
     ]
    }
   ],
   "source": [
    "# created a tuple with single element\n",
    "tuple1 = (1)\n",
    "print(tuple1)"
   ]
  },
  {
   "cell_type": "markdown",
   "id": "9655f75c-98b5-465b-9e0a-cfe25faa8278",
   "metadata": {},
   "source": [
    "Problem 18: Compare two tuples."
   ]
  },
  {
   "cell_type": "code",
   "execution_count": 118,
   "id": "78f7d3d2-99c4-4627-af7b-f3230cecc8f8",
   "metadata": {},
   "outputs": [
    {
     "name": "stdout",
     "output_type": "stream",
     "text": [
      "tuple are not equal\n"
     ]
    }
   ],
   "source": [
    "tuple1 = (1,2,3,4)\n",
    "tuple2 = (1,3,4)\n",
    "if(tuple1==tuple2):\n",
    "    print(\"tuple are equal\")\n",
    "else:\n",
    "    print(\"tuple are not equal\")"
   ]
  },
  {
   "cell_type": "markdown",
   "id": "869a4161-fbf1-4750-adc7-a27d86a26ecd",
   "metadata": {},
   "source": [
    "Problem 19: Delete a tuple."
   ]
  },
  {
   "cell_type": "code",
   "execution_count": 119,
   "id": "a7eb5735-e45b-4446-894a-98f908eea883",
   "metadata": {},
   "outputs": [
    {
     "name": "stdout",
     "output_type": "stream",
     "text": [
      "tuple after delete: ()\n"
     ]
    }
   ],
   "source": [
    "test_tup = (1,2,3,4)\n",
    "temp = list(test_tup)\n",
    "temp.clear()\n",
    "test_tup = tuple(temp)\n",
    "print(\"tuple after delete:\",test_tup)"
   ]
  },
  {
   "cell_type": "markdown",
   "id": "cb6cc703-2dea-4741-b17a-ccb4a214a2cb",
   "metadata": {},
   "source": [
    "Problem 20: Slice a tuple."
   ]
  },
  {
   "cell_type": "code",
   "execution_count": 120,
   "id": "d33b22d5-b026-4656-8866-3258c8799214",
   "metadata": {},
   "outputs": [
    {
     "data": {
      "text/plain": [
       "(4, 2.4, 2, 56)"
      ]
     },
     "execution_count": 120,
     "metadata": {},
     "output_type": "execute_result"
    }
   ],
   "source": [
    "tup = (22, 3, 45, 4, 2.4, 2, 56, 890, 1)\n",
    "# slice a tuple\n",
    "tup[3:7]"
   ]
  },
  {
   "cell_type": "markdown",
   "id": "3a6956f8-b4eb-43ba-a773-bb9234fc88eb",
   "metadata": {},
   "source": [
    "Problem 21: Find the maximum value in a tuple."
   ]
  },
  {
   "cell_type": "code",
   "execution_count": 121,
   "id": "f3f794ee-684f-45ad-8159-e5c73f62be9f",
   "metadata": {},
   "outputs": [
    {
     "name": "stdout",
     "output_type": "stream",
     "text": [
      "Maximum Value in Tuple: 890\n"
     ]
    }
   ],
   "source": [
    "tup = (22, 3, 45, 4, 2.4, 2, 56, 890, 1)\n",
    "max_value = max(tup)\n",
    "print(\"Maximum Value in Tuple:\",max_value)"
   ]
  },
  {
   "cell_type": "markdown",
   "id": "c086a382-7097-40d2-a6d8-0f46dd8af0b1",
   "metadata": {},
   "source": [
    "Problem 22: Find the minimum value in a tuple."
   ]
  },
  {
   "cell_type": "code",
   "execution_count": 122,
   "id": "d1c981f5-cebb-4665-9f14-ec26226e42cf",
   "metadata": {},
   "outputs": [
    {
     "name": "stdout",
     "output_type": "stream",
     "text": [
      "Minimum Value in Tuple: 1\n"
     ]
    }
   ],
   "source": [
    "tup = (22, 3, 45, 4, 2.4, 2, 56, 890, 1)\n",
    "min_value = min(tup)\n",
    "print(\"Minimum Value in Tuple:\",min_value)"
   ]
  },
  {
   "cell_type": "markdown",
   "id": "71963cea-e625-435f-8b11-ca5e7d5bfb74",
   "metadata": {},
   "source": [
    "Problem 23: Convert a string to a tuple of characters."
   ]
  },
  {
   "cell_type": "code",
   "execution_count": 123,
   "id": "730a377e-0f25-4bce-8c02-60ab7028e1b9",
   "metadata": {},
   "outputs": [
    {
     "name": "stdout",
     "output_type": "stream",
     "text": [
      "Convert String to Tuple: ('p', 'w', 's', 'k', 'i', 'l', 'l', 's')\n"
     ]
    }
   ],
   "source": [
    "name = \"pwskills\"\n",
    "tup = tuple(name)\n",
    "print(\"Convert String to Tuple:\",tup)"
   ]
  },
  {
   "cell_type": "markdown",
   "id": "f710ac4e-c872-40de-bc1d-d335fa4533c2",
   "metadata": {},
   "source": [
    "Problem 24: Convert a tuple of characters to a string."
   ]
  },
  {
   "cell_type": "code",
   "execution_count": 124,
   "id": "d12c41c4-bd50-4a8d-a6be-67793d71c018",
   "metadata": {},
   "outputs": [
    {
     "name": "stdout",
     "output_type": "stream",
     "text": [
      "Convert tuple to string: pwskills\n"
     ]
    }
   ],
   "source": [
    "tup = ('p', 'w', 's', 'k', 'i', 'l', 'l', 's')\n",
    "str1 = ''.join(tup)\n",
    "print(\"Convert tuple to string:\",str1)"
   ]
  },
  {
   "cell_type": "markdown",
   "id": "3ab00101-a6d2-4acf-8486-36ef2700c86f",
   "metadata": {},
   "source": [
    "Problem 25: Create a tuple from multiple data types."
   ]
  },
  {
   "cell_type": "code",
   "execution_count": 125,
   "id": "38bc2c10-d61a-49d1-ac12-d3a7e14e0138",
   "metadata": {},
   "outputs": [
    {
     "name": "stdout",
     "output_type": "stream",
     "text": [
      "tuple of multiple data types: (1, 2, 3.5, 'maneesh', 'q', (1, 2, 3))\n"
     ]
    }
   ],
   "source": [
    "# crated a stuple from multiple data types\n",
    "tup = (1,2,3.5,\"maneesh\",'q',(1,2,3))\n",
    "print(\"tuple of multiple data types:\",tup)"
   ]
  },
  {
   "cell_type": "markdown",
   "id": "8a694ad4-6895-472d-a5bb-bf2196370944",
   "metadata": {},
   "source": [
    "Problem 26: Check if two tuples are identical."
   ]
  },
  {
   "cell_type": "code",
   "execution_count": 126,
   "id": "da5f88d2-e067-4126-a4d6-808cb13a8ce6",
   "metadata": {},
   "outputs": [
    {
     "name": "stdout",
     "output_type": "stream",
     "text": [
      "Tuples are identical\n"
     ]
    }
   ],
   "source": [
    "tuple1 = (1,2,3,4,5)\n",
    "tuple2 = (1,2,3,4,5)\n",
    "if(tuple1 == tuple2):\n",
    "    print(\"Tuples are identical\")\n",
    "else:\n",
    "    print(\"Tuples are not identical\")"
   ]
  },
  {
   "cell_type": "markdown",
   "id": "88c1b504-fb12-4e4f-a242-65eceb5cb227",
   "metadata": {},
   "source": [
    "Problem 27: Sort the elements of a tuple."
   ]
  },
  {
   "cell_type": "code",
   "execution_count": 127,
   "id": "2d0ee7da-16fb-4f65-b54d-93222cfc5a1c",
   "metadata": {},
   "outputs": [
    {
     "name": "stdout",
     "output_type": "stream",
     "text": [
      "Sorted tuple: [1, 2, 2.4, 3, 4, 22, 45, 56, 890]\n"
     ]
    }
   ],
   "source": [
    "tup = (22, 3, 45, 4, 2.4, 2, 56, 890, 1)\n",
    "print(\"Sorted tuple:\",sorted(tup))"
   ]
  },
  {
   "cell_type": "markdown",
   "id": "0d061f1d-0358-4045-8de4-b07a0365ba4e",
   "metadata": {},
   "source": [
    "Problem 28: Convert a tuple of integers to a tuple of strings."
   ]
  },
  {
   "cell_type": "code",
   "execution_count": 128,
   "id": "abc6cf4e-34f8-4ca0-bf8f-c8e0321a635e",
   "metadata": {},
   "outputs": [
    {
     "name": "stdout",
     "output_type": "stream",
     "text": [
      "('1', '2', '3', '4', '5')\n"
     ]
    }
   ],
   "source": [
    "# Example tuple of integers\n",
    "tuple_of_integers = (1, 2, 3, 4, 5)\n",
    "# Convert to tuple of strings using list comprehension\n",
    "tuple_of_strings = tuple(str(i) for i in tuple_of_integers)\n",
    "# Print the result\n",
    "print(tuple_of_strings)"
   ]
  },
  {
   "cell_type": "markdown",
   "id": "e32d3c9c-05ca-4ae9-a946-8586cb9aac6c",
   "metadata": {},
   "source": [
    "Problem 29: Convert a tuple of strings to a tuple of integers."
   ]
  },
  {
   "cell_type": "code",
   "execution_count": 129,
   "id": "2f6f0629-f2b5-49de-af2e-3c9a24a48d6d",
   "metadata": {},
   "outputs": [
    {
     "name": "stdout",
     "output_type": "stream",
     "text": [
      "(1, 2, 3, 4, 5)\n"
     ]
    }
   ],
   "source": [
    "# Example tuple of Strings\n",
    "tuple_of_strings = ('1', '2', '3', '4', '5')\n",
    "# Convert to tuple of strings using list comprehension\n",
    "tuple_of_integers = tuple(int(i) for i in tuple_of_strings)\n",
    "# Print the result\n",
    "print(tuple_of_integers)"
   ]
  },
  {
   "cell_type": "markdown",
   "id": "80fe1afd-c836-462b-b2a3-94f68be421b5",
   "metadata": {},
   "source": [
    "Problem 30: Merge two tuples."
   ]
  },
  {
   "cell_type": "code",
   "execution_count": 130,
   "id": "3b0d9514-33c7-4d91-9fb3-e5019b6b1644",
   "metadata": {},
   "outputs": [
    {
     "name": "stdout",
     "output_type": "stream",
     "text": [
      "Tuple after merging: (1, 2, 3, 4, 5, 6, 7, 8)\n"
     ]
    }
   ],
   "source": [
    "tup1 = (1,2,3,4)\n",
    "tup2 = (5,6,7,8)\n",
    "merge_tuple = tup1 + tup2\n",
    "print(\"Tuple after merging:\",merge_tuple)"
   ]
  },
  {
   "cell_type": "markdown",
   "id": "43f99f34-fe71-4aa5-b89e-08970d683bc7",
   "metadata": {},
   "source": [
    "Problem 31: Flatten a nested tuple."
   ]
  },
  {
   "cell_type": "code",
   "execution_count": 131,
   "id": "9b44950e-29c8-40db-b395-c52389f50405",
   "metadata": {},
   "outputs": [
    {
     "name": "stdout",
     "output_type": "stream",
     "text": [
      "(1, 2, 3, 4, 5, 6, 7, 8, 9)\n"
     ]
    }
   ],
   "source": [
    "def flatten_nested_tuple(nested_tuple):\n",
    "    flattened = []\n",
    "    for item in nested_tuple:\n",
    "        if isinstance(item, tuple):\n",
    "            flattened.extend(flatten_nested_tuple(item))\n",
    "        else:\n",
    "            flattened.append(item)\n",
    "    return flattened\n",
    "# Example nested tuple\n",
    "nested_tuple = ((1, 2, 3), (4, 5, 6), (7, 8, 9))\n",
    "# Flatten the nested tuple using the recursive function\n",
    "flattened_tuple = tuple(flatten_nested_tuple(nested_tuple))\n",
    "# Print the result\n",
    "print(flattened_tuple)"
   ]
  },
  {
   "cell_type": "markdown",
   "id": "52ca0ee6-b899-47c4-928d-b366455bbdf9",
   "metadata": {},
   "source": [
    "Problem 32: Create a tuple of the first 5 prime numbers."
   ]
  },
  {
   "cell_type": "code",
   "execution_count": 132,
   "id": "80f8d733-f660-4286-aa35-7f9ea9078b19",
   "metadata": {},
   "outputs": [
    {
     "name": "stdout",
     "output_type": "stream",
     "text": [
      "Tuple of First 5 Prime Number: (2, 3, 5)\n"
     ]
    }
   ],
   "source": [
    "def prime_numbers(n):\n",
    "    primes = []\n",
    "    for i in range(2, n + 1):\n",
    "        for j in range(2, int(i ** 0.5) + 1):\n",
    "            if i%j == 0:\n",
    "                break\n",
    "        else:\n",
    "            primes.append(i)\n",
    "    return primes\n",
    "\n",
    "prime_list = prime_numbers(5)\n",
    "#print prime number list\n",
    "print(\"Tuple of First 5 Prime Number:\",tuple(prime_list))"
   ]
  },
  {
   "cell_type": "markdown",
   "id": "fe54b095-ef46-47b3-9aab-d5665af60ba7",
   "metadata": {},
   "source": [
    "Problem 33: Check if a tuple is a palindrome."
   ]
  },
  {
   "cell_type": "code",
   "execution_count": 133,
   "id": "3b1f5c29-05aa-4688-95fd-ec79e752bb1a",
   "metadata": {},
   "outputs": [
    {
     "name": "stdout",
     "output_type": "stream",
     "text": [
      "The tuple is a palindrome.\n"
     ]
    }
   ],
   "source": [
    "def is_palindrome(input_tuple):\n",
    "    \"\"\"Check if a tuple is a palindrome.\"\"\"\n",
    "    return input_tuple == input_tuple[::-1]\n",
    "# Example: Check if a tuple is a palindrome\n",
    "example_tuple = (1, 2, 3, 2, 1)\n",
    "if is_palindrome(example_tuple):\n",
    "    print(\"The tuple is a palindrome.\")\n",
    "else:\n",
    "    print(\"The tuple is not a palindrome.\")"
   ]
  },
  {
   "cell_type": "markdown",
   "id": "25e35f1e-c9ab-41f6-8d3b-bb1c3f3c8c5c",
   "metadata": {},
   "source": [
    "Problem 34: Create a tuple of squares of numbers from 1 to 5."
   ]
  },
  {
   "cell_type": "code",
   "execution_count": 134,
   "id": "6c9f7a88-2ff0-403d-b8d2-0ee5136aa72e",
   "metadata": {},
   "outputs": [
    {
     "name": "stdout",
     "output_type": "stream",
     "text": [
      "(1, 4, 9, 16, 25)\n"
     ]
    }
   ],
   "source": [
    "# Using a list comprehension to create a tuple of squares\n",
    "squares_tuple = tuple(i**2 for i in range(1, 6))\n",
    "# Print the result\n",
    "print(squares_tuple)"
   ]
  },
  {
   "cell_type": "markdown",
   "id": "65d9f680-98f5-4b1c-81e6-3ee48943b565",
   "metadata": {},
   "source": [
    "Problem 35: Filter out all even numbers from a tuple.\n"
   ]
  },
  {
   "cell_type": "code",
   "execution_count": 135,
   "id": "180ff28a-afdb-4aa0-b2c7-fe2b8db5c4c4",
   "metadata": {},
   "outputs": [
    {
     "name": "stdout",
     "output_type": "stream",
     "text": [
      "Even Number from Tuple: (2, 4, 6, 8, 10)\n"
     ]
    }
   ],
   "source": [
    "tuple1 = (2,3,4,5,6,7,8,9,10)\n",
    "even_number = []\n",
    "for i in tuple1:\n",
    "    if(i%2==0):\n",
    "        even_number.append(i)\n",
    "print(\"Even Number from Tuple:\",tuple(even_number))"
   ]
  },
  {
   "cell_type": "markdown",
   "id": "605e370c-5ce5-48c3-945c-e358c7334c10",
   "metadata": {},
   "source": [
    "Problem 36: Multiply all elements in a tuple by 2."
   ]
  },
  {
   "cell_type": "code",
   "execution_count": 136,
   "id": "d83adb9f-7283-4810-ae63-1da0b33040a4",
   "metadata": {},
   "outputs": [
    {
     "name": "stdout",
     "output_type": "stream",
     "text": [
      "Tuple after multiply all elemennt by 2 : (2, 3, 4, 5, 6, 7, 8, 9, 10, 2, 3, 4, 5, 6, 7, 8, 9, 10)\n"
     ]
    }
   ],
   "source": [
    "tuple1 = (2,3,4,5,6,7,8,9,10)\n",
    "print(\"Tuple after multiply all elemennt by 2 :\",tuple1*2)"
   ]
  },
  {
   "cell_type": "markdown",
   "id": "b4d40b85-c1e7-4818-96e5-263d368f8252",
   "metadata": {},
   "source": [
    "Problem 37: Create a tuple of random numbers."
   ]
  },
  {
   "cell_type": "code",
   "execution_count": 137,
   "id": "21a2b771-90c3-48f9-875b-93415311a416",
   "metadata": {},
   "outputs": [
    {
     "name": "stdout",
     "output_type": "stream",
     "text": [
      "(35, 18, 95, 48, 63)\n"
     ]
    }
   ],
   "source": [
    "import random\n",
    "# Using a list comprehension to create a tuple of random integers\n",
    "random_tuple = tuple(random.randint(1, 100) for _ in range(5))\n",
    "# Print the result\n",
    "print(random_tuple)"
   ]
  },
  {
   "cell_type": "markdown",
   "id": "0759323a-6258-4f40-971a-e82c95e9b683",
   "metadata": {},
   "source": [
    "Problem 38: Check if a tuple is sorted."
   ]
  },
  {
   "cell_type": "code",
   "execution_count": 138,
   "id": "e8f27938-b0aa-496d-9640-60823905cf86",
   "metadata": {},
   "outputs": [
    {
     "name": "stdout",
     "output_type": "stream",
     "text": [
      "The tuple is sorted.\n"
     ]
    }
   ],
   "source": [
    "# Function to check if a tuple is sorted\n",
    "def is_sorted(input_tuple):\n",
    "    return input_tuple == tuple(sorted(input_tuple))\n",
    "# Example: Check if a tuple is sorted\n",
    "sorted_tuple = (1, 2, 3, 4, 5)\n",
    "if is_sorted(sorted_tuple):\n",
    "    print(\"The tuple is sorted.\")\n",
    "else:\n",
    "    print(\"The tuple is not sorted.\")"
   ]
  },
  {
   "cell_type": "markdown",
   "id": "bf6c36ed-c36c-41a9-9843-04c334554636",
   "metadata": {},
   "source": [
    "Problem 39: Rotate a tuple to the left by `n` positions."
   ]
  },
  {
   "cell_type": "code",
   "execution_count": 139,
   "id": "4d6faf77-a929-48ed-93ed-f72902196a6e",
   "metadata": {},
   "outputs": [
    {
     "name": "stdin",
     "output_type": "stream",
     "text": [
      "Enter Number of Position 6\n"
     ]
    },
    {
     "name": "stdout",
     "output_type": "stream",
     "text": [
      "(2, 3, 4, 5, 1)\n"
     ]
    }
   ],
   "source": [
    "def rotate_left(tuple_to_rotate, n):\n",
    "    # Calculate the effective rotation index\n",
    "    n = n % len(tuple_to_rotate)\n",
    "    # Perform the rotation using slicing\n",
    "    rotated_tuple = tuple_to_rotate[n:] + tuple_to_rotate[:n]\n",
    "    return rotated_tuple\n",
    "# Example: Rotate a tuple to the left by 2 positions\n",
    "original_tuple = (1, 2, 3, 4, 5)\n",
    "n_positions = int(input(\"Enter Number of Position\"))\n",
    "rotated_tuple = rotate_left(original_tuple, n_positions)\n",
    "# Print the result\n",
    "print(rotated_tuple)"
   ]
  },
  {
   "cell_type": "markdown",
   "id": "ac0c63bc-bc51-4a98-9f3a-fa8ee74973fc",
   "metadata": {},
   "source": [
    "Problem 40: Rotate a tuple to the right by `n` positions."
   ]
  },
  {
   "cell_type": "code",
   "execution_count": 140,
   "id": "c7eee590-298c-4528-9b56-3f532b05ea02",
   "metadata": {},
   "outputs": [
    {
     "name": "stdin",
     "output_type": "stream",
     "text": [
      "Enter Number of Position 4\n"
     ]
    },
    {
     "name": "stdout",
     "output_type": "stream",
     "text": [
      "(2, 3, 4, 5, 1)\n"
     ]
    }
   ],
   "source": [
    "def rotate_right(tuple_to_rotate, n):\n",
    "    # Calculate the effective rotation index\n",
    "    n = n % len(tuple_to_rotate)\n",
    "    # Perform the rotation using slicing\n",
    "    rotated_tuple = tuple_to_rotate[-n:] + tuple_to_rotate[:-n]\n",
    "    return rotated_tuple\n",
    "# Example: Rotate a tuple to the left by 2 positions\n",
    "original_tuple = (1, 2, 3, 4, 5)\n",
    "n_positions = int(input(\"Enter Number of Position\"))\n",
    "rotated_tuple = rotate_right(original_tuple, n_positions)\n",
    "# Print the result\n",
    "print(rotated_tuple)"
   ]
  },
  {
   "cell_type": "markdown",
   "id": "c6e374f1-b689-40d0-9df3-c60b439e744e",
   "metadata": {},
   "source": [
    "Problem 41: Create a tuple of the first 5 Fibonacci numbers."
   ]
  },
  {
   "cell_type": "code",
   "execution_count": 141,
   "id": "29377f38-3a85-498c-aada-024f199e336c",
   "metadata": {},
   "outputs": [
    {
     "name": "stdin",
     "output_type": "stream",
     "text": [
      "Enter Number to List Fibonacci Number 5\n"
     ]
    },
    {
     "data": {
      "text/plain": [
       "(0, 1, 1, 2, 3)"
      ]
     },
     "execution_count": 141,
     "metadata": {},
     "output_type": "execute_result"
    }
   ],
   "source": [
    "def fibonacci(n, a, b):\n",
    "    if n == 0:\n",
    "        return tuple([])\n",
    "    elif n == 1:\n",
    "        return tuple([a])\n",
    "    elif n == 2:\n",
    "        return tuple([a, b])\n",
    "    else:\n",
    "        fib = [a, b]\n",
    "        for i in range(2, n):\n",
    "            fib.append(fib[i-1] + fib[i-2])\n",
    "        return tuple(fib)\n",
    "input_number = int(input(\"Enter Number to List Fibonacci Number\"))\n",
    "fibonacci(input_number,0,1)"
   ]
  },
  {
   "cell_type": "markdown",
   "id": "526db666-f687-43ed-9919-c600d246e95a",
   "metadata": {},
   "source": [
    "Problem 42: Create a tuple from user input."
   ]
  },
  {
   "cell_type": "code",
   "execution_count": 142,
   "id": "da0a5c71-8c97-467e-a25d-2da1fb06f6e1",
   "metadata": {},
   "outputs": [
    {
     "name": "stdin",
     "output_type": "stream",
     "text": [
      "Enter elements for the tuple separated by commas:  4\n"
     ]
    },
    {
     "name": "stdout",
     "output_type": "stream",
     "text": [
      "('4',)\n"
     ]
    }
   ],
   "source": [
    "# Get input from the user for the tuple elements\n",
    "input_values = input(\"Enter elements for the tuple separated by commas: \")\n",
    "# Split the input string into a list using commas as the delimiter\n",
    "elements = input_values.split(',')\n",
    "\n",
    "# Convert the list of elements into a tuple\n",
    "user_tuple = tuple(elements)\n",
    "print(user_tuple)"
   ]
  },
  {
   "cell_type": "markdown",
   "id": "aafabb72-c8bf-4e23-8cae-f3ed1f7ed835",
   "metadata": {},
   "source": [
    "Problem 43: Swap two elements in a tuple."
   ]
  },
  {
   "cell_type": "code",
   "execution_count": 143,
   "id": "4a69b944-a824-4c36-ac39-79e8afbf90c3",
   "metadata": {},
   "outputs": [
    {
     "name": "stdout",
     "output_type": "stream",
     "text": [
      "Original tuple: (1, 2, 3, 4, 5)\n",
      "After Swap Tuple: (1, 2, 4, 3, 5)\n"
     ]
    }
   ],
   "source": [
    "tup = (1,2,3,4,5)\n",
    "#enter position which want to swap\n",
    "pos1 = 2\n",
    "pos2 = 3\n",
    "tup_list = list(tup)\n",
    "tup_list[pos1],tup_list[pos2] = tup_list[pos2],tup_list[pos1]\n",
    "print(\"Original tuple:\",tup)\n",
    "print(\"After Swap Tuple:\",tuple(tup_list))"
   ]
  },
  {
   "cell_type": "markdown",
   "id": "9b5e04e4-5cba-4194-8391-eb604fddfc90",
   "metadata": {},
   "source": [
    "Problem 44: Reverse the elements of a tuple."
   ]
  },
  {
   "cell_type": "code",
   "execution_count": 144,
   "id": "89b66bba-7517-48a7-891d-e3d862ce8dc4",
   "metadata": {},
   "outputs": [
    {
     "name": "stdout",
     "output_type": "stream",
     "text": [
      "Original Tuple: (1, 5, 3, 4, 7)\n",
      "Reverse Tuple: (7, 4, 3, 5, 1)\n"
     ]
    }
   ],
   "source": [
    "tup = (1,5,3,4,7)\n",
    "# reverse the element of tuple\n",
    "reverse_tuple = tup[::-1]\n",
    "print(\"Original Tuple:\",tup)\n",
    "print(\"Reverse Tuple:\",reverse_tuple)"
   ]
  },
  {
   "cell_type": "markdown",
   "id": "62d411e5-20f8-4c79-b20b-d4aa73dc2ef7",
   "metadata": {},
   "source": [
    "Problem 45: Create a tuple of the first `n` powers of 2."
   ]
  },
  {
   "cell_type": "code",
   "execution_count": 145,
   "id": "ea663c9d-3a41-4efd-bd72-fcd5237011cd",
   "metadata": {},
   "outputs": [
    {
     "name": "stdin",
     "output_type": "stream",
     "text": [
      "Enter the value of n:  6\n"
     ]
    },
    {
     "name": "stdout",
     "output_type": "stream",
     "text": [
      "Tuple of the first 6 powers of 2: (1, 2, 4, 8, 16, 32)\n"
     ]
    }
   ],
   "source": [
    "# Get the value of n from the user\n",
    "n = int(input(\"Enter the value of n: \"))\n",
    "\n",
    "# Create a tuple of the first n powers of 2\n",
    "powers_of_2 = tuple(2**i for i in range(n))\n",
    "\n",
    "# Print the resulting tuple\n",
    "print(\"Tuple of the first\", n, \"powers of 2:\", powers_of_2)"
   ]
  },
  {
   "cell_type": "markdown",
   "id": "99e347aa-d922-4881-84e7-f96f0d71b442",
   "metadata": {},
   "source": [
    "Problem 46: Find the longest string in a tuple of strings."
   ]
  },
  {
   "cell_type": "code",
   "execution_count": 146,
   "id": "5bc824dc-36ae-4c1b-ac90-fe22284da6a3",
   "metadata": {},
   "outputs": [
    {
     "name": "stdout",
     "output_type": "stream",
     "text": [
      "longest string: sgfsdhgds\n"
     ]
    }
   ],
   "source": [
    "tup = (\"my\",\"name\",\"is\",\"schools\",\"sgfsdhgds\")\n",
    "max_len = -1\n",
    "for item in tup:\n",
    "    if(len(item)>max_len):\n",
    "        max_len = len(item)\n",
    "        res234 = item\n",
    "print(\"longest string:\",res234)"
   ]
  },
  {
   "cell_type": "markdown",
   "id": "1d814bd8-f8ba-4659-8404-c9a412213399",
   "metadata": {},
   "source": [
    "Problem 47: Find the shortest string in a tuple of strings."
   ]
  },
  {
   "cell_type": "code",
   "execution_count": 147,
   "id": "372c30d2-d774-4222-9759-5f4aadbfa63a",
   "metadata": {},
   "outputs": [
    {
     "name": "stdout",
     "output_type": "stream",
     "text": [
      "Shortest string: k\n"
     ]
    }
   ],
   "source": [
    "tup23 = (\"my\",\"name\",\"is\",\"schools\",\"k\")\n",
    "min_len = len(tup23[0])\n",
    "#short_string = \"my\"\n",
    "for item in tup23: \n",
    "    if len(item) < min_len:\n",
    "        min_len = len(item)\n",
    "        short_string = item\n",
    "print(\"Shortest string:\",short_string)"
   ]
  },
  {
   "cell_type": "markdown",
   "id": "32366e63-f152-4227-a98a-7fc9c92e9b16",
   "metadata": {},
   "source": [
    "Problem 48: Create a tuple of the first `n` triangular numbers."
   ]
  },
  {
   "cell_type": "code",
   "execution_count": 148,
   "id": "1f026137-5a42-429e-87e6-894086462a4f",
   "metadata": {},
   "outputs": [
    {
     "name": "stdin",
     "output_type": "stream",
     "text": [
      "Tringular Number 8\n"
     ]
    },
    {
     "name": "stdout",
     "output_type": "stream",
     "text": [
      "The first 8 triangular numbers are: (1, 3, 6, 10, 15, 21, 28, 36)\n"
     ]
    }
   ],
   "source": [
    "n = int(input(\"Tringular Number\"))\n",
    "# Create a tuple of the first n triangular numbers\n",
    "triangular_numbers = tuple((i*(i+1))//2 for i in range(1, n + 1))\n",
    "print(f\"The first {n} triangular numbers are: {triangular_numbers}\")"
   ]
  },
  {
   "cell_type": "markdown",
   "id": "c4f9eaac-874b-4ba8-990b-51fa7601610d",
   "metadata": {},
   "source": [
    "Problem 49: Check if a tuple contains another tuple as a subsequence."
   ]
  },
  {
   "cell_type": "code",
   "execution_count": 149,
   "id": "949fb108-dc59-45d0-bae3-1569a7214387",
   "metadata": {},
   "outputs": [
    {
     "name": "stdout",
     "output_type": "stream",
     "text": [
      "The smaller tuple is a subsequence of the larger tuple.\n"
     ]
    }
   ],
   "source": [
    "def is_subsequence(sub, full):\n",
    "    sub_len = len(sub)\n",
    "    full_len = len(full)\n",
    "\n",
    "    for i in range(full_len - sub_len + 1):\n",
    "        if full[i:i + sub_len] == sub:\n",
    "            return True\n",
    "\n",
    "    return False\n",
    "\n",
    "# Example usage\n",
    "larger_tuple = (1, 2, 3, 4, 5, 6, 7)\n",
    "smaller_tuple = (3, 4, 5)\n",
    "\n",
    "if is_subsequence(smaller_tuple, larger_tuple):\n",
    "    print(\"The smaller tuple is a subsequence of the larger tuple.\")\n",
    "else:\n",
    "    print(\"The smaller tuple is not a subsequence of the larger tuple.\")"
   ]
  },
  {
   "cell_type": "markdown",
   "id": "906b16ea-3f01-4133-8664-aeb4bce5dc64",
   "metadata": {},
   "source": [
    "Problem 50: Create a tuple of alternating 1s and 0s of length `n`."
   ]
  },
  {
   "cell_type": "code",
   "execution_count": 150,
   "id": "813e872e-e2cb-4748-a6f5-3877d259f5a0",
   "metadata": {},
   "outputs": [
    {
     "name": "stdin",
     "output_type": "stream",
     "text": [
      "Enter the length of the tuple:  9\n"
     ]
    },
    {
     "name": "stdout",
     "output_type": "stream",
     "text": [
      "Tuple of alternating 1s and 0s: (1, 0, 1, 0, 1, 0, 1, 0, 1)\n"
     ]
    }
   ],
   "source": [
    "# Get the value of n from the user\n",
    "n = int(input(\"Enter the length of the tuple: \"))\n",
    "\n",
    "# Create a tuple of alternating 1s and 0s\n",
    "alternating_tuple = tuple(1 if i % 2 == 0 else 0 for i in range(n))\n",
    "\n",
    "# Print the resulting tuple\n",
    "print(\"Tuple of alternating 1s and 0s:\", alternating_tuple)"
   ]
  },
  {
   "cell_type": "markdown",
   "id": "55d7a626-499f-439f-8bc3-b0192c1cbe65",
   "metadata": {},
   "source": [
    "Set Based Practice Problem :"
   ]
  },
  {
   "cell_type": "markdown",
   "id": "1cfb0cfc-3fc8-49ff-b4fa-14a74dc90135",
   "metadata": {},
   "source": [
    "Problem 1:  Create a set with integers from 1 to 5."
   ]
  },
  {
   "cell_type": "code",
   "execution_count": 151,
   "id": "23c0e4ed-3dc8-4a1a-ab9e-65d5105491dd",
   "metadata": {},
   "outputs": [
    {
     "data": {
      "text/plain": [
       "{1, 2, 3, 4, 5}"
      ]
     },
     "execution_count": 151,
     "metadata": {},
     "output_type": "execute_result"
    }
   ],
   "source": [
    "set_a = {1,2,3,4,5}\n",
    "set_a #print set"
   ]
  },
  {
   "cell_type": "markdown",
   "id": "05fcbb62-8ee7-44de-b657-a2501a2a3a6a",
   "metadata": {},
   "source": [
    "Problem 2: Add an element to a set."
   ]
  },
  {
   "cell_type": "code",
   "execution_count": 152,
   "id": "c4039f35-5945-4019-9c4d-bbaf8f0165f9",
   "metadata": {},
   "outputs": [
    {
     "data": {
      "text/plain": [
       "{1, 2, 3, 4, 5}"
      ]
     },
     "execution_count": 152,
     "metadata": {},
     "output_type": "execute_result"
    }
   ],
   "source": [
    "set_a = {1,2,3,4}\n",
    "set_a.add(5) # add element to set\n",
    "set_a"
   ]
  },
  {
   "cell_type": "markdown",
   "id": "a69649c4-6b82-4b46-ae74-0a8f3ede3536",
   "metadata": {},
   "source": [
    "Problem 3: Remove an element from a set."
   ]
  },
  {
   "cell_type": "code",
   "execution_count": 153,
   "id": "37e54340-46f6-434e-86b0-c2cd29dfe30a",
   "metadata": {},
   "outputs": [
    {
     "data": {
      "text/plain": [
       "{1, 2, 4}"
      ]
     },
     "execution_count": 153,
     "metadata": {},
     "output_type": "execute_result"
    }
   ],
   "source": [
    "set_b = {1,2,3,4}\n",
    "set_b.remove(3) #remove element\n",
    "set_b"
   ]
  },
  {
   "cell_type": "markdown",
   "id": "68921071-780e-49f5-b475-a832db44cdc7",
   "metadata": {},
   "source": [
    "Problem 4: Check if an element exists in a set."
   ]
  },
  {
   "cell_type": "code",
   "execution_count": 154,
   "id": "afdb68c3-506e-43c9-8217-10e79d0b57cb",
   "metadata": {},
   "outputs": [
    {
     "name": "stdout",
     "output_type": "stream",
     "text": [
      "Element Exist in Set\n"
     ]
    }
   ],
   "source": [
    "set_c = {1,2,3,4}\n",
    "check_element = 4\n",
    "if check_element in set_c:\n",
    "    print(\"Element Exist in Set\")\n",
    "else:\n",
    "    print(\"Element does not exist in set\")"
   ]
  },
  {
   "cell_type": "markdown",
   "id": "d3878899-5d74-422c-b891-4e2b5198f7d6",
   "metadata": {},
   "source": [
    "Problem 5: Find the length of a set without using the `len()` function."
   ]
  },
  {
   "cell_type": "code",
   "execution_count": 155,
   "id": "29aac871-05c8-4170-b8fb-4eda9106964b",
   "metadata": {},
   "outputs": [
    {
     "name": "stdout",
     "output_type": "stream",
     "text": [
      "Len of Set: 6\n"
     ]
    }
   ],
   "source": [
    "set_d = {1,2,3,4,5,6}\n",
    "count = 0\n",
    "for item in set_d:\n",
    "    count +=1\n",
    "print(\"Len of Set:\",count)"
   ]
  },
  {
   "cell_type": "markdown",
   "id": "48017326-58a8-4486-bd1f-23d32bf1fabe",
   "metadata": {},
   "source": [
    "Problem 6:Clear all elements from a set."
   ]
  },
  {
   "cell_type": "code",
   "execution_count": 156,
   "id": "1efd0791-b21e-4a1f-881e-11213bbca3d0",
   "metadata": {},
   "outputs": [
    {
     "data": {
      "text/plain": [
       "set()"
      ]
     },
     "execution_count": 156,
     "metadata": {},
     "output_type": "execute_result"
    }
   ],
   "source": [
    "set_d = {1,2,3,4}\n",
    "set_d.clear() #clear set\n",
    "set_d"
   ]
  },
  {
   "cell_type": "markdown",
   "id": "f5f6ab24-60bf-4e67-8af7-81533a27bd87",
   "metadata": {},
   "source": [
    "Problem 7:Create a set of even numbers from 1 to 10."
   ]
  },
  {
   "cell_type": "code",
   "execution_count": 157,
   "id": "1d97cfe6-098d-44c6-a315-54906926dda8",
   "metadata": {},
   "outputs": [
    {
     "name": "stdout",
     "output_type": "stream",
     "text": [
      "{2, 4, 6, 8, 10}\n"
     ]
    }
   ],
   "source": [
    "set_even = set()\n",
    "for i in range(1,11):\n",
    "    if i%2==0:\n",
    "        set_even.add(i)\n",
    "print(set_even)"
   ]
  },
  {
   "cell_type": "markdown",
   "id": "5963b6da-1b94-44a5-87af-727e60ca54e3",
   "metadata": {},
   "source": [
    "Problem 8: Create a set of odd numbers from 1 to 10."
   ]
  },
  {
   "cell_type": "code",
   "execution_count": 158,
   "id": "55f917fa-6067-4050-92db-783ec651d1d6",
   "metadata": {},
   "outputs": [
    {
     "name": "stdout",
     "output_type": "stream",
     "text": [
      "{1, 3, 5, 7, 9}\n"
     ]
    }
   ],
   "source": [
    "set_odd = set()\n",
    "for i in range(1,11):\n",
    "    if i%2 != 0:\n",
    "        set_odd.add(i)\n",
    "print(set_odd)"
   ]
  },
  {
   "cell_type": "markdown",
   "id": "46f77bd8-716b-464a-b632-4e575b1735dd",
   "metadata": {},
   "source": [
    "Problem 9: Find the union of two sets."
   ]
  },
  {
   "cell_type": "code",
   "execution_count": 159,
   "id": "27e1e85f-e327-4ea6-b616-fceebba8ccea",
   "metadata": {},
   "outputs": [
    {
     "name": "stdout",
     "output_type": "stream",
     "text": [
      "{1, 2, 3, 4, 5, 6, 7, 8, 9}\n"
     ]
    }
   ],
   "source": [
    "set_a = {1,2,3,4,5}\n",
    "set_b = {4,5,6,7,8,9}\n",
    "set_c = set_a.union(set_b) #union of two set/\n",
    "print(set_c)"
   ]
  },
  {
   "cell_type": "markdown",
   "id": "0c91970e-7259-4d9e-b861-e88dca757f63",
   "metadata": {},
   "source": [
    "Problem 10: Find the intersection of two sets."
   ]
  },
  {
   "cell_type": "code",
   "execution_count": 160,
   "id": "fc3eb3ed-5cfc-42a0-979c-e7b9df7c8d02",
   "metadata": {},
   "outputs": [
    {
     "name": "stdout",
     "output_type": "stream",
     "text": [
      "{4, 5}\n"
     ]
    }
   ],
   "source": [
    "set_a = {1,2,3,4,5}\n",
    "set_b = {4,5,6,7,8,9}\n",
    "set_c = set_a.intersection(set_b) #intersection of two set/\n",
    "print(set_c) "
   ]
  },
  {
   "cell_type": "markdown",
   "id": "ba285f40-bed8-4364-a649-f283948efb07",
   "metadata": {},
   "source": [
    "Problem 11: Find the difference between two sets."
   ]
  },
  {
   "cell_type": "code",
   "execution_count": 161,
   "id": "22b84fc8-d047-4679-af17-4953fc691377",
   "metadata": {},
   "outputs": [
    {
     "name": "stdout",
     "output_type": "stream",
     "text": [
      "{1, 2, 3}\n"
     ]
    }
   ],
   "source": [
    "set_a = {1,2,3,4,5}\n",
    "set_b = {4,5,6,7,8,9}\n",
    "set_c = set_a.difference(set_b) #difference of two set/\n",
    "print(set_c) "
   ]
  },
  {
   "cell_type": "markdown",
   "id": "8411b867-5918-4d1a-bcc6-727350f5f6e3",
   "metadata": {},
   "source": [
    "Problem 12: Check if a set is a subset of another set."
   ]
  },
  {
   "cell_type": "code",
   "execution_count": 162,
   "id": "cf04f977-dcb7-4ce3-9155-3640c73a8b65",
   "metadata": {},
   "outputs": [
    {
     "name": "stdout",
     "output_type": "stream",
     "text": [
      "Set is subset of another set\n"
     ]
    }
   ],
   "source": [
    "set_a = {1,2,3,4,5,6,7,8,9}\n",
    "set_b = {4,5,1,6}\n",
    "flag = set_b.issubset(set_a)\n",
    "if flag:\n",
    "    print(\"Set is subset of another set\")\n",
    "else:\n",
    "    print(\"Set is not subset of another set\")"
   ]
  },
  {
   "cell_type": "markdown",
   "id": "3cffd41d-2686-46e9-8070-1b9a38203762",
   "metadata": {},
   "source": [
    "Problem 13: Check if a set is a superset of another set."
   ]
  },
  {
   "cell_type": "code",
   "execution_count": 163,
   "id": "b9a74d70-b18f-44b1-acfb-2e23befde513",
   "metadata": {},
   "outputs": [
    {
     "name": "stdout",
     "output_type": "stream",
     "text": [
      "Set is not superset of another set\n"
     ]
    }
   ],
   "source": [
    "set_a = {1,2,3,4,5,6,7,8,9}\n",
    "set_b = {4,5,0,6}\n",
    "flag = set_a.issuperset(set_b)\n",
    "if flag:\n",
    "    print(\"Set is superset of another set\")\n",
    "else:\n",
    "    print(\"Set is not superset of another set\")"
   ]
  },
  {
   "cell_type": "markdown",
   "id": "45037734-ab94-4530-918c-96855861d04a",
   "metadata": {},
   "source": [
    "Problem 14: Create a set from a list."
   ]
  },
  {
   "cell_type": "code",
   "execution_count": 164,
   "id": "b6179fe8-b736-490a-af12-9bcbb2c5602a",
   "metadata": {},
   "outputs": [
    {
     "name": "stdout",
     "output_type": "stream",
     "text": [
      "{1, 2, 3, 4, 5, 6}\n"
     ]
    }
   ],
   "source": [
    "list_a = [1,2,3,4,5,5,6,6]\n",
    "set_a = set(list_a) #convert list to a set\n",
    "print(set_a)"
   ]
  },
  {
   "cell_type": "markdown",
   "id": "3da921f6-d21a-4aaa-80ff-366f8b30672e",
   "metadata": {},
   "source": [
    "Problem 15: Convert a set to a list."
   ]
  },
  {
   "cell_type": "code",
   "execution_count": 165,
   "id": "4bfe098a-9ee9-40a1-a85c-e422c961794f",
   "metadata": {},
   "outputs": [
    {
     "name": "stdout",
     "output_type": "stream",
     "text": [
      "[1, 2, 3, 4, 5, 6]\n"
     ]
    }
   ],
   "source": [
    "set_a = {1, 2, 3, 4, 5, 6}\n",
    "list_a = list(set_a) #convert set to a list\n",
    "print(list_a)"
   ]
  },
  {
   "cell_type": "markdown",
   "id": "d686e639-34e6-4225-bf38-2bce404944a0",
   "metadata": {},
   "source": [
    "Problem 16: Remove a random element from a set."
   ]
  },
  {
   "cell_type": "code",
   "execution_count": 166,
   "id": "7cda49a1-dae6-401f-9ea4-ff02aff0b621",
   "metadata": {},
   "outputs": [
    {
     "name": "stdout",
     "output_type": "stream",
     "text": [
      "Removed element: 5\n",
      "Set after removal: {1, 2, 3, 4}\n"
     ]
    }
   ],
   "source": [
    "import random\n",
    "my_set = {1, 2, 3, 4, 5}\n",
    "# Remove a random element using pop()\n",
    "removed_element = random.choice(list(my_set))\n",
    "my_set.remove(removed_element)\n",
    "print(\"Removed element:\", removed_element)\n",
    "print(\"Set after removal:\",my_set)"
   ]
  },
  {
   "cell_type": "markdown",
   "id": "d123d763-19b6-4c77-99a8-2e0984d58721",
   "metadata": {},
   "source": [
    "Problem 17: Pop an element from a set."
   ]
  },
  {
   "cell_type": "code",
   "execution_count": 167,
   "id": "2f890dfa-dd65-4779-8386-3d914f6cbaf3",
   "metadata": {},
   "outputs": [
    {
     "name": "stdout",
     "output_type": "stream",
     "text": [
      "Set after Pop: {2, 4, 5, 23}\n"
     ]
    }
   ],
   "source": [
    "set_a = {1,2,23,4,5}\n",
    "set_a.pop() #pop element from set/\n",
    "print(\"Set after Pop:\",set_a)"
   ]
  },
  {
   "cell_type": "markdown",
   "id": "3bc17cf2-9bfb-4d38-902a-b9a297670995",
   "metadata": {},
   "source": [
    "Problem 18: Check if two sets have no elements in common."
   ]
  },
  {
   "cell_type": "code",
   "execution_count": 168,
   "id": "0f7fdad9-78fc-4a3c-8539-8ec3788e8175",
   "metadata": {},
   "outputs": [
    {
     "name": "stdout",
     "output_type": "stream",
     "text": [
      "Are the sets have no common elements? False\n"
     ]
    }
   ],
   "source": [
    "set1 = {1, 2, 3}\n",
    "set2 = {4, 5, 3}\n",
    "# Check if sets have no elements in common using isdisjoint()\n",
    "are_disjoint = set1.isdisjoint(set2)\n",
    "print(\"Are the sets have no common elements?\", are_disjoint)"
   ]
  },
  {
   "cell_type": "markdown",
   "id": "1f37a2b5-a17a-4c7a-84fc-9ea42a77ac07",
   "metadata": {},
   "source": [
    "Problem 19:Find the symmetric difference between two sets."
   ]
  },
  {
   "cell_type": "code",
   "execution_count": 169,
   "id": "df419544-2b06-4881-ac16-899881bab9df",
   "metadata": {},
   "outputs": [
    {
     "name": "stdout",
     "output_type": "stream",
     "text": [
      "Symmetric difference using symmetric_difference() method: {1, 2, 6, 7}\n"
     ]
    }
   ],
   "source": [
    "set1 = {1, 2, 3, 4, 5}\n",
    "set2 = {3, 4, 5, 6, 7}\n",
    "# Using the symmetric_difference() method\n",
    "symmetric_difference_method = set1.symmetric_difference(set2)\n",
    "print(\"Symmetric difference using symmetric_difference() method:\", symmetric_difference_method)"
   ]
  },
  {
   "cell_type": "markdown",
   "id": "6229a8f3-a810-4d83-b8e9-dc13d32f99a2",
   "metadata": {},
   "source": [
    "Problem 20: Update a set with elements from another set."
   ]
  },
  {
   "cell_type": "code",
   "execution_count": 170,
   "id": "65dd7b2c-e11d-405a-8acb-725acd09c17c",
   "metadata": {},
   "outputs": [
    {
     "name": "stdout",
     "output_type": "stream",
     "text": [
      "Updated set using update() method: {1, 2, 3, 4, 5}\n"
     ]
    }
   ],
   "source": [
    "set1 = {1, 2, 3}\n",
    "set2 = {3, 4, 5}\n",
    "# Using the update() method\n",
    "set1.update(set2)\n",
    "print(\"Updated set using update() method:\", set1)"
   ]
  },
  {
   "cell_type": "markdown",
   "id": "a1d4b9b8-f6cb-45cc-8498-83c364dd3e2f",
   "metadata": {},
   "source": [
    "Problem 21:Create a set of the first 5 prime numbers."
   ]
  },
  {
   "cell_type": "code",
   "execution_count": 171,
   "id": "a0a3300c-8640-4d8e-9804-381fc5429cc6",
   "metadata": {},
   "outputs": [
    {
     "name": "stdout",
     "output_type": "stream",
     "text": [
      "{2, 3, 5}\n"
     ]
    }
   ],
   "source": [
    "set_a = set()\n",
    "for i in range(2,6):\n",
    "    for j in range(2,int(i*0.5)+1):\n",
    "        if i%j==0:\n",
    "            break\n",
    "    else:\n",
    "        set_a.add(i)\n",
    "print(set_a) #print prime number set"
   ]
  },
  {
   "cell_type": "markdown",
   "id": "21ada574-5d72-4c7e-9449-7a390faabad5",
   "metadata": {},
   "source": [
    "Problem 22: Check if two sets are identical."
   ]
  },
  {
   "cell_type": "code",
   "execution_count": 172,
   "id": "363560fb-9fb4-4e9b-82d3-d3867da44737",
   "metadata": {},
   "outputs": [
    {
     "name": "stdout",
     "output_type": "stream",
     "text": [
      "Set are not identical\n"
     ]
    }
   ],
   "source": [
    "set1 = {1, 2, 3}\n",
    "set2 = {3, 4, 5}\n",
    "if set1==set2:\n",
    "    print(\"Set are Identical\")\n",
    "else:\n",
    "    print(\"Set are not identical\")"
   ]
  },
  {
   "cell_type": "markdown",
   "id": "96dc1a54-aa76-4f4a-bf56-48f31d3e3fe8",
   "metadata": {},
   "source": [
    "Problem 23: Create a frozen set."
   ]
  },
  {
   "cell_type": "code",
   "execution_count": 173,
   "id": "f4b3f55a-1cb1-4adf-83e0-b02f98dc6917",
   "metadata": {},
   "outputs": [
    {
     "name": "stdout",
     "output_type": "stream",
     "text": [
      "Original set: {1, 2, 3, 4, 5}\n",
      "Frozen set: frozenset({1, 2, 3, 4, 5})\n"
     ]
    }
   ],
   "source": [
    "my_set = {1, 2, 3, 4, 5}\n",
    "frozen_set = frozenset(my_set)\n",
    "\n",
    "print(\"Original set:\", my_set)\n",
    "print(\"Frozen set:\", frozen_set)"
   ]
  },
  {
   "cell_type": "markdown",
   "id": "d1868cb8-dbba-4d3b-9e29-95cab5dd87ed",
   "metadata": {},
   "source": [
    "Problem 24: Check if a set is disjoint with another set."
   ]
  },
  {
   "cell_type": "code",
   "execution_count": 174,
   "id": "2154a785-908d-43a7-a9b2-6bbc7f13b3da",
   "metadata": {},
   "outputs": [
    {
     "name": "stdout",
     "output_type": "stream",
     "text": [
      "A set is disjoint with another set: False\n"
     ]
    }
   ],
   "source": [
    "set1 = {1, 2, 3}\n",
    "set2 = {4, 5, 3}\n",
    "# Check if sets have no elements in common using isdisjoint()\n",
    "are_disjoint = set1.isdisjoint(set2)\n",
    "print(\"A set is disjoint with another set:\", are_disjoint)"
   ]
  },
  {
   "cell_type": "markdown",
   "id": "4af05a72-a2c5-4805-a07c-e9b9f7c928c4",
   "metadata": {},
   "source": [
    "Problem 25: Create a set of squares of numbers from 1 to 5."
   ]
  },
  {
   "cell_type": "code",
   "execution_count": 175,
   "id": "79bb386c-076a-4326-94b3-6cf2152915e8",
   "metadata": {},
   "outputs": [
    {
     "name": "stdout",
     "output_type": "stream",
     "text": [
      "{1, 4, 9, 16, 25}\n"
     ]
    }
   ],
   "source": [
    "set_a = set()\n",
    "for i in range(1,6):\n",
    "    set_a.add(i**2)\n",
    "print(set_a) # print squares of numbers from 1 to 5."
   ]
  },
  {
   "cell_type": "markdown",
   "id": "0d16b66c-ef90-4cba-9444-ba17e53d46a7",
   "metadata": {},
   "source": [
    "Problem 26: Filter out all even numbers from a set."
   ]
  },
  {
   "cell_type": "code",
   "execution_count": 176,
   "id": "32f74912-2d5e-4226-99c5-e879bca87c7c",
   "metadata": {},
   "outputs": [
    {
     "name": "stdout",
     "output_type": "stream",
     "text": [
      "Original set: {1, 2, 3, 4, 5, 6, 7, 8, 9, 10}\n",
      "Filtered set (excluding even numbers): {2, 4, 6, 8, 10}\n"
     ]
    }
   ],
   "source": [
    "set_a = {1,2,3,4,5,6,7,8,9,10}\n",
    "filter_even_set= set()\n",
    "for i in range(1,len(set_a)+1):\n",
    "    if i%2==0:\n",
    "        filter_even_set.add(i)\n",
    "print(\"Original set:\", set_a)\n",
    "print(\"Filtered set (excluding even numbers):\", filter_even_set)"
   ]
  },
  {
   "cell_type": "markdown",
   "id": "8c30b58f-3909-4a8b-afe1-5331b8cca39e",
   "metadata": {},
   "source": [
    "Problem 27:Multiply all elements in a set by 2."
   ]
  },
  {
   "cell_type": "code",
   "execution_count": 177,
   "id": "ce7ecee6-30f3-4bfe-9987-5531dff0f426",
   "metadata": {},
   "outputs": [
    {
     "name": "stdout",
     "output_type": "stream",
     "text": [
      "Original Set: {1, 2, 3, 4, 5, 6, 7, 8, 9, 10}\n",
      "Multiply all elements in a set by 2: {2, 4, 6, 8, 10, 12, 14, 16, 18}\n"
     ]
    }
   ],
   "source": [
    "set_a = {1,2,3,4,5,6,7,8,9,10}\n",
    "new_Set = set()\n",
    "for i in range(1,len(set_a)):\n",
    "    new_Set.add(i*2)\n",
    "print(\"Original Set:\",set_a)\n",
    "print(\"Multiply all elements in a set by 2:\", new_Set)"
   ]
  },
  {
   "cell_type": "markdown",
   "id": "a1b5520a-1784-4ffe-ac5c-417d23ebd1f2",
   "metadata": {},
   "source": [
    "Problem 28:Create a set of random numbers."
   ]
  },
  {
   "cell_type": "code",
   "execution_count": 178,
   "id": "53ba5eb0-da2b-4256-9172-909675f011f3",
   "metadata": {},
   "outputs": [
    {
     "name": "stdout",
     "output_type": "stream",
     "text": [
      "Random set: {1, 2, 7, 14, 17}\n"
     ]
    }
   ],
   "source": [
    "import random\n",
    "# Generate a set of 5 random numbers between 1 and 20\n",
    "random_set = set(random.sample(range(1, 21), 5))\n",
    "print(\"Random set:\", random_set)"
   ]
  },
  {
   "cell_type": "markdown",
   "id": "beb0a78a-cecc-4006-849b-d768d7f641d0",
   "metadata": {},
   "source": [
    "Problem 29:Check if a set is empty."
   ]
  },
  {
   "cell_type": "code",
   "execution_count": 179,
   "id": "55a7909b-6644-4c25-a193-bc16331ad016",
   "metadata": {},
   "outputs": [
    {
     "name": "stdout",
     "output_type": "stream",
     "text": [
      "Set is not empty\n"
     ]
    }
   ],
   "source": [
    "set_a = {1,2,3,4,5}\n",
    "if set_a == set():\n",
    "    print(\"Set is Empty\")\n",
    "else:\n",
    "    print(\"Set is not empty\")"
   ]
  },
  {
   "cell_type": "markdown",
   "id": "2f7c0e04-bf71-4a73-b609-348c8b90b6df",
   "metadata": {},
   "source": [
    "Problem 30: Create a nested set (hint: use frozenset)."
   ]
  },
  {
   "cell_type": "code",
   "execution_count": 180,
   "id": "31d381be-b7eb-495c-9fb9-3c0185b34f4f",
   "metadata": {},
   "outputs": [
    {
     "name": "stdout",
     "output_type": "stream",
     "text": [
      "frozenset({1, 2, frozenset({frozenset({5, 6}), 3, 4}), 7})\n"
     ]
    }
   ],
   "source": [
    "# created nested set using frozenset\n",
    "nested_set = frozenset([\n",
    "    1,\n",
    "    2,\n",
    "    frozenset([\n",
    "        3,\n",
    "        4,\n",
    "        frozenset([\n",
    "            5,\n",
    "            6\n",
    "        ])\n",
    "    ]),\n",
    "    7\n",
    "])\n",
    "\n",
    "print(nested_set)"
   ]
  },
  {
   "cell_type": "markdown",
   "id": "6b20109c-b6ba-4c77-a044-ca4174c492a9",
   "metadata": {},
   "source": [
    "Problem 31: Remove an element from a set using the discard method."
   ]
  },
  {
   "cell_type": "code",
   "execution_count": 181,
   "id": "a3cacf03-8cd1-41cd-b738-8ec770e94c4f",
   "metadata": {},
   "outputs": [
    {
     "name": "stdout",
     "output_type": "stream",
     "text": [
      "Original Set: {344, 1, 2, 3}\n",
      "Set after element discsrd: {344, 2, 3}\n"
     ]
    }
   ],
   "source": [
    "set_a = {1,2,3,344}\n",
    "element_to_discard = 1\n",
    "print(\"Original Set:\",set_a)\n",
    "set_a.discard(element_to_discard)\n",
    "print(\"Set after element discsrd:\",set_a)"
   ]
  },
  {
   "cell_type": "markdown",
   "id": "21d88d85-b765-48e6-8f04-cdec37e27793",
   "metadata": {},
   "source": [
    "Problem 32: Compare two sets."
   ]
  },
  {
   "cell_type": "code",
   "execution_count": 182,
   "id": "d14643ac-d348-47c7-be45-7027f9b7cd60",
   "metadata": {},
   "outputs": [
    {
     "name": "stdout",
     "output_type": "stream",
     "text": [
      "The sets are equal.\n"
     ]
    }
   ],
   "source": [
    "set1 = {1, 2, 3, 4, 5}\n",
    "set2 = {3, 4, 5, 2, 1}\n",
    "\n",
    "if set1 == set2: # comparev two set\n",
    "    print(\"The sets are equal.\")\n",
    "else:\n",
    "    print(\"The sets are not equal.\")"
   ]
  },
  {
   "cell_type": "markdown",
   "id": "8a794f90-4a5e-4d71-8b1b-93b6e3de9453",
   "metadata": {},
   "source": [
    "Problem 33: Create a set from a string."
   ]
  },
  {
   "cell_type": "code",
   "execution_count": 183,
   "id": "841068ce-ab38-4e4a-a023-2a648f5e767a",
   "metadata": {},
   "outputs": [
    {
     "name": "stdout",
     "output_type": "stream",
     "text": [
      "{'p', 'w', 'k', 'i', 's', 'l'}\n"
     ]
    }
   ],
   "source": [
    "#string\n",
    "my_string = \"pwskills\"\n",
    "my_set = set(my_string)\n",
    "\n",
    "print(my_set) #print set"
   ]
  },
  {
   "cell_type": "markdown",
   "id": "7c29d2c2-0031-4adb-8e22-501e37b2fd52",
   "metadata": {},
   "source": [
    "Problem 34:Convert a set of strings to a set of integers."
   ]
  },
  {
   "cell_type": "code",
   "execution_count": 184,
   "id": "f92eef75-372b-440c-8f32-2240f48d5d60",
   "metadata": {},
   "outputs": [
    {
     "name": "stdout",
     "output_type": "stream",
     "text": [
      "{1, 2, 3, 4, 5, 6}\n"
     ]
    }
   ],
   "source": [
    "set_of_string = {'1', '2', '3', '4', '5', '6'}\n",
    "set_of_integer = set()\n",
    "for i in set_of_string:\n",
    "    set_of_integer.add(int(i)) #convert set of string to set of integer\n",
    "print(set_of_integer)"
   ]
  },
  {
   "cell_type": "markdown",
   "id": "46815e36-4a05-47f1-9ac3-cd6fe1b92e84",
   "metadata": {},
   "source": [
    "Problem 35:Convert a set of integers to a set of strings."
   ]
  },
  {
   "cell_type": "code",
   "execution_count": 185,
   "id": "41112967-d43f-4abb-99ef-c94a7d864fb0",
   "metadata": {},
   "outputs": [
    {
     "name": "stdout",
     "output_type": "stream",
     "text": [
      "{'2', '6', '4', '3', '1', '5'}\n"
     ]
    }
   ],
   "source": [
    "set_of_integer = {1, 2, 3, 4, 5, 6}\n",
    "set_of_string = set()\n",
    "for i in set_of_integer:\n",
    "    set_of_string.add(str(i)) #convert set of integer to set of string\n",
    "print(set_of_string)"
   ]
  },
  {
   "cell_type": "markdown",
   "id": "1d4b02a5-e35b-4178-ae6b-968d41249d9b",
   "metadata": {},
   "source": [
    "Problem 36: Create a set from a tuple."
   ]
  },
  {
   "cell_type": "code",
   "execution_count": 186,
   "id": "63982323-4f00-4116-8841-e9514dae1f92",
   "metadata": {},
   "outputs": [
    {
     "name": "stdout",
     "output_type": "stream",
     "text": [
      "{1, 2, 3, 4, 5, 54}\n"
     ]
    }
   ],
   "source": [
    "#tuple\n",
    "tup = (1,2,3,4,54,3,4,5,5)\n",
    "set_a = set(tup) # created set from tuple\n",
    "print(set_a)"
   ]
  },
  {
   "cell_type": "markdown",
   "id": "211940b6-dd64-43ec-b2b7-4edc4b74244b",
   "metadata": {},
   "source": [
    "Problem 37: Convert a set to a tuple."
   ]
  },
  {
   "cell_type": "code",
   "execution_count": 187,
   "id": "f022adc1-3633-487d-a3b4-4d74f25d7186",
   "metadata": {},
   "outputs": [
    {
     "name": "stdout",
     "output_type": "stream",
     "text": [
      "(1, 2, 3, 6, 7, 8, 45, 78)\n"
     ]
    }
   ],
   "source": [
    "set_a = {1,2,3,45,6,7,78,8}\n",
    "tup = tuple(set_a) #convert set to tuple\n",
    "print(tup)"
   ]
  },
  {
   "cell_type": "markdown",
   "id": "9f9bf16b-1fde-4973-9574-fa4143cb4612",
   "metadata": {},
   "source": [
    "Problem 38: Find the maximum value in a set."
   ]
  },
  {
   "cell_type": "code",
   "execution_count": 188,
   "id": "fa4acd9c-cb8a-4fe5-8f6f-2c0dccc824bc",
   "metadata": {},
   "outputs": [
    {
     "name": "stdout",
     "output_type": "stream",
     "text": [
      "Maximum Vaue in set: 889\n"
     ]
    }
   ],
   "source": [
    "set_a = {1,2,34,5,6,7,889,78}\n",
    "maximum_value = max(set_a)\n",
    "print(\"Maximum Vaue in set:\",maximum_value)"
   ]
  },
  {
   "cell_type": "markdown",
   "id": "52da5f16-cd46-49be-9617-7924c821b364",
   "metadata": {},
   "source": [
    "Problem 39: Find the minimum value in a set."
   ]
  },
  {
   "cell_type": "code",
   "execution_count": 189,
   "id": "80a50134-602c-4998-bc9e-91968fd58220",
   "metadata": {},
   "outputs": [
    {
     "name": "stdout",
     "output_type": "stream",
     "text": [
      "Minimum Vaue in set: 0\n"
     ]
    }
   ],
   "source": [
    "set_a = {1,0,2,34,5,6,7,889,78}\n",
    "minimum_value = min(set_a)\n",
    "print(\"Minimum Vaue in set:\",minimum_value)"
   ]
  },
  {
   "cell_type": "markdown",
   "id": "2a3126bd-68f4-42f4-9e18-b1790e9ebe19",
   "metadata": {},
   "source": [
    "Problem 40:Create a set from user input."
   ]
  },
  {
   "cell_type": "code",
   "execution_count": 190,
   "id": "700dd9b5-7171-4c05-9827-80c98d4d9223",
   "metadata": {},
   "outputs": [
    {
     "name": "stdin",
     "output_type": "stream",
     "text": [
      "Enter Elemeent By Separated with Comma 12\n"
     ]
    },
    {
     "name": "stdout",
     "output_type": "stream",
     "text": [
      "User Input Set: {'12'}\n"
     ]
    }
   ],
   "source": [
    "user_input = input(\"Enter Elemeent By Separated with Comma\")\n",
    "set_a = set(user_input.split(','))\n",
    "print(\"User Input Set:\",set_a)"
   ]
  },
  {
   "cell_type": "markdown",
   "id": "14ff9c5d-4c34-4bb1-bfda-c2a332f78034",
   "metadata": {},
   "source": [
    "Problem 41: Check if the intersection of two sets is empty."
   ]
  },
  {
   "cell_type": "code",
   "execution_count": 191,
   "id": "5f4149f2-f103-4466-9621-72e08b7d5c48",
   "metadata": {},
   "outputs": [
    {
     "name": "stdout",
     "output_type": "stream",
     "text": [
      "Intersection of these two set is not empty\n"
     ]
    }
   ],
   "source": [
    "set_a = {12,4,7,8,9,0,1,2}\n",
    "set_b = {12,11,10,9,1,2,3,4,5}\n",
    "intersection_set = set_a.intersection(set_b)\n",
    "if intersection_set ==set():\n",
    "    print(\"Intersection of these two sets is empty\")\n",
    "else:\n",
    "    print(\"Intersection of these two set is not empty\")"
   ]
  },
  {
   "cell_type": "markdown",
   "id": "670cb1c8-edac-4f8c-8098-ae67458fd456",
   "metadata": {},
   "source": [
    "Problem 42: Create a set of the first 5 Fibonacci numbers."
   ]
  },
  {
   "cell_type": "code",
   "execution_count": 192,
   "id": "a06f9cfe-90e6-468a-8459-9236bb299924",
   "metadata": {},
   "outputs": [
    {
     "name": "stdin",
     "output_type": "stream",
     "text": [
      "Enter Number to List Fibonacci Number 12\n"
     ]
    },
    {
     "data": {
      "text/plain": [
       "{0, 1, 2, 3, 5, 8, 13, 21, 34, 55, 89, 144}"
      ]
     },
     "execution_count": 192,
     "metadata": {},
     "output_type": "execute_result"
    }
   ],
   "source": [
    "def fibonacci(n, a, b):\n",
    "    if n == 0:\n",
    "        return set()\n",
    "    elif n == 1:\n",
    "        return set(a)\n",
    "    elif n == 2:\n",
    "        return set(a, b)\n",
    "    else:\n",
    "        fib = [a, b]\n",
    "        for i in range(2, n+1):\n",
    "            fib.append(fib[i-1] + fib[i-2])\n",
    "        return set(fib)\n",
    "input_number = int(input(\"Enter Number to List Fibonacci Number\"))\n",
    "fibonacci(input_number,0,1)"
   ]
  },
  {
   "cell_type": "markdown",
   "id": "f444ea0c-e651-45a6-894f-57218ab3bd93",
   "metadata": {},
   "source": [
    "Problem 43: Remove duplicates from a list using sets."
   ]
  },
  {
   "cell_type": "code",
   "execution_count": 193,
   "id": "38dce910-0eb6-4e01-be90-067f3745b9ad",
   "metadata": {},
   "outputs": [
    {
     "name": "stdout",
     "output_type": "stream",
     "text": [
      "[1, 2, 3, 4, 5, 6, 7, 8]\n"
     ]
    }
   ],
   "source": [
    "my_list = [1, 2, 3, 2, 4, 5, 1, 6, 7, 7, 8]\n",
    "# Convert the list to a set to remove duplicates\n",
    "unique_set = set(my_list)\n",
    "# Convert the set back to a list\n",
    "unique_list = list(unique_set)\n",
    "print(unique_list)"
   ]
  },
  {
   "cell_type": "markdown",
   "id": "f451e60f-6684-4c84-a809-973c0b8f10b5",
   "metadata": {},
   "source": [
    "Problem 44:Check if two sets have the same elements, regardless of their count."
   ]
  },
  {
   "cell_type": "code",
   "execution_count": 194,
   "id": "23b7a1e3-2dd6-4ca0-83d2-812aa4614e27",
   "metadata": {},
   "outputs": [
    {
     "name": "stdout",
     "output_type": "stream",
     "text": [
      "The sets have the same elements.\n"
     ]
    }
   ],
   "source": [
    "set1 = {1, 2, 3, 4, 5}\n",
    "set2 = {5, 4, 3, 2, 1}\n",
    "\n",
    "if set1 == set2:\n",
    "    print(\"The sets have the same elements.\")\n",
    "else:\n",
    "    print(\"The sets do not have the same elements.\")"
   ]
  },
  {
   "cell_type": "markdown",
   "id": "91488c86-cee2-4be7-8dc4-989c4f57af16",
   "metadata": {},
   "source": [
    "Problem 45:Create a set of the first `n` powers of 2."
   ]
  },
  {
   "cell_type": "code",
   "execution_count": 195,
   "id": "a2aa8132-9f50-488c-ae56-9af7e0c22e36",
   "metadata": {},
   "outputs": [
    {
     "name": "stdin",
     "output_type": "stream",
     "text": [
      "Enter Number of Power of Count: 23\n"
     ]
    },
    {
     "name": "stdout",
     "output_type": "stream",
     "text": [
      "Set of the first 23 powers of 2: {0, 1, 256, 4, 9, 16, 144, 400, 25, 289, 36, 169, 49, 441, 64, 196, 324, 81, 225, 100, 484, 361, 121}\n"
     ]
    }
   ],
   "source": [
    "set_a = set()\n",
    "number_count = int(input(\"Enter Number of Power of Count:\"))\n",
    "for i in range(number_count):\n",
    "    set_a.add(i**2)\n",
    "print(\"Set of the first\", number_count ,\"powers of 2:\",set_a)"
   ]
  },
  {
   "cell_type": "markdown",
   "id": "0036c1d9-46ba-4395-a05a-058f529dc0b9",
   "metadata": {},
   "source": [
    "Problem 46:Find the common elements between a set and a list."
   ]
  },
  {
   "cell_type": "code",
   "execution_count": 196,
   "id": "a2ff635d-157a-42d3-9692-1d372fb2a331",
   "metadata": {},
   "outputs": [
    {
     "name": "stdout",
     "output_type": "stream",
     "text": [
      "{3, 4, 5}\n"
     ]
    }
   ],
   "source": [
    "my_set = {1, 2, 3, 4, 5}\n",
    "my_list = [3, 4, 5, 6, 7]\n",
    "common_elements = my_set.intersection(my_list)\n",
    "print(common_elements)"
   ]
  },
  {
   "cell_type": "markdown",
   "id": "92c4a853-f0f0-4245-80e7-46cfa24f7956",
   "metadata": {},
   "source": [
    "Problem 47: Create a set of the first `n` triangular numbers."
   ]
  },
  {
   "cell_type": "code",
   "execution_count": 197,
   "id": "2750222c-134d-42e1-ab6e-dad5ea487d06",
   "metadata": {},
   "outputs": [
    {
     "name": "stdin",
     "output_type": "stream",
     "text": [
      "Tringular Number 12\n"
     ]
    },
    {
     "name": "stdout",
     "output_type": "stream",
     "text": [
      "The first 12 triangular numbers are: {1, 66, 3, 36, 6, 10, 45, 78, 15, 21, 55, 28}\n"
     ]
    }
   ],
   "source": [
    "n = int(input(\"Tringular Number\"))\n",
    "# Create a set of the first n triangular numbers\n",
    "triangular_numbers = set((i*(i+1))//2 for i in range(1, n + 1))\n",
    "print(f\"The first {n} triangular numbers are: {triangular_numbers}\")"
   ]
  },
  {
   "cell_type": "markdown",
   "id": "72de35a1-8818-4774-93f5-6a56e466c851",
   "metadata": {},
   "source": [
    "Problem 48: Check if a set contains another set as a subset."
   ]
  },
  {
   "cell_type": "code",
   "execution_count": 198,
   "id": "74458be9-6ea1-40e7-9ece-641892dc01b8",
   "metadata": {},
   "outputs": [
    {
     "name": "stdout",
     "output_type": "stream",
     "text": [
      "set2 is a subset of set1.\n"
     ]
    }
   ],
   "source": [
    "set1 = {1, 2, 3, 4, 5}\n",
    "set2 = {2, 4}\n",
    "\n",
    "# Using issubset method\n",
    "if set2.issubset(set1):\n",
    "    print(\"set2 is a subset of set1.\")\n",
    "else:\n",
    "    print(\"set2 is not a subset of set1.\")"
   ]
  },
  {
   "cell_type": "markdown",
   "id": "34ea2d61-4df4-4a36-b45f-e2ed2f303860",
   "metadata": {},
   "source": [
    "Problem 49: Create a set of alternating 1s and 0s of length `n`."
   ]
  },
  {
   "cell_type": "code",
   "execution_count": 199,
   "id": "d1f0bf91-60b0-442f-a590-2e779490ddfa",
   "metadata": {},
   "outputs": [
    {
     "name": "stdin",
     "output_type": "stream",
     "text": [
      "Enter the length of the set:  11\n"
     ]
    },
    {
     "name": "stdout",
     "output_type": "stream",
     "text": [
      "set of alternating 1s and 0s: {0, 1}\n"
     ]
    }
   ],
   "source": [
    "# Get the value of n from the user\n",
    "n = int(input(\"Enter the length of the set: \"))\n",
    "\n",
    "# Create a tuple of alternating 1s and 0s\n",
    "alternating_set = {1 if i % 2 == 0 else 0 for i in range(n)}\n",
    "\n",
    "# Print the resulting set\n",
    "print(\"set of alternating 1s and 0s:\", alternating_set)"
   ]
  },
  {
   "cell_type": "markdown",
   "id": "eeb5e465-d00c-470f-a02f-2eccfac1d784",
   "metadata": {},
   "source": [
    "Problem 50: Merge multiple sets into one."
   ]
  },
  {
   "cell_type": "code",
   "execution_count": 200,
   "id": "3882fe6b-706d-4bde-936a-e3c6ea215916",
   "metadata": {},
   "outputs": [
    {
     "name": "stdout",
     "output_type": "stream",
     "text": [
      "Merged Set: {1, 2, 3, 4, 5, 6, 7}\n"
     ]
    }
   ],
   "source": [
    "set1 = {1, 2, 3}\n",
    "set2 = {3, 4, 5}\n",
    "set3 = {5, 6, 7}\n",
    "# Using union method\n",
    "merged_set = set1.union(set2, set3) \n",
    "print(\"Merged Set:\",merged_set)"
   ]
  },
  {
   "cell_type": "code",
   "execution_count": null,
   "id": "c4ead94f-ab2a-4c61-bd51-969f9e4e5271",
   "metadata": {},
   "outputs": [],
   "source": []
  }
 ],
 "metadata": {
  "kernelspec": {
   "display_name": "Python 3 (ipykernel)",
   "language": "python",
   "name": "python3"
  },
  "language_info": {
   "codemirror_mode": {
    "name": "ipython",
    "version": 3
   },
   "file_extension": ".py",
   "mimetype": "text/x-python",
   "name": "python",
   "nbconvert_exporter": "python",
   "pygments_lexer": "ipython3",
   "version": "3.10.8"
  }
 },
 "nbformat": 4,
 "nbformat_minor": 5
}
